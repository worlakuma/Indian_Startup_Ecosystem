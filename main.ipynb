{
 "cells": [
  {
   "cell_type": "code",
   "execution_count": 1,
   "metadata": {},
   "outputs": [],
   "source": [
    "import pyodbc\n",
    "from dotenv import dotenv_values\n",
    "import pandas as pd\n",
    "import warnings\n",
    "import numpy as np\n",
    "import calendar\n",
    "import matplotlib.pyplot as plt\n",
    "import seaborn as sns\n",
    "import requests\n",
    "from scipy.stats import skew, kurtosis\n",
    "from fancyimpute import IterativeImputer\n",
    "from sklearn.experimental import enable_iterative_imputer\n",
    "from sklearn.impute import IterativeImputer\n",
    "import re\n",
    "\n",
    "warnings.filterwarnings('ignore')\n",
    "\n",
    "# Set display options for Pandas DataFrame\n",
    "pd.set_option(\"display.max_rows\", 100)\n",
    "pd.set_option(\"display.max_columns\", 100)"
   ]
  },
  {
   "cell_type": "markdown",
   "metadata": {},
   "source": [
    "#### Data Collection\n",
    "##### Access the 2020 and 2021 data from Microsoft SQL Server\n",
    "##### Connect to the database using provided credentials"
   ]
  },
  {
   "cell_type": "code",
   "execution_count": 2,
   "metadata": {},
   "outputs": [],
   "source": [
    "# load environment variables from.env file into dictionary\n",
    "environment_variables = dotenv_values('.env')\n",
    "\n",
    "# get the values for the environment variables\n",
    "server = environment_variables.get(\"DBS\")\n",
    "login = environment_variables.get(\"DBU\")\n",
    "password = environment_variables.get(\"DBP\")\n",
    "database = environment_variables.get(\"DBN\")\n",
    "\n",
    "# Create a database connection string using pyodbc\n",
    "connection_string = f\"DRIVER={{SQL Server}};SERVER={server};DATABASE={database};UID={login};PWD={password}\""
   ]
  },
  {
   "cell_type": "code",
   "execution_count": 3,
   "metadata": {},
   "outputs": [
    {
     "name": "stdout",
     "output_type": "stream",
     "text": [
      "Connection established successfully DRIVER={SQL Server};SERVER=dap-projects-database.database.windows.net;DATABASE=dapDB;UID=LP1_learner;PWD=Hyp0th3s!$T3$t!ng\n"
     ]
    }
   ],
   "source": [
    "#Establish a connection to the database\n",
    "try:\n",
    "    connection = pyodbc.connect(connection_string)\n",
    "    print(\"Connection established successfully\",connection_string)\n",
    "except Exception as e:\n",
    "    print(\"Failed to establish connection:\", e)"
   ]
  },
  {
   "cell_type": "markdown",
   "metadata": {},
   "source": [
    "##### Schema for tables in the database"
   ]
  },
  {
   "cell_type": "code",
   "execution_count": 4,
   "metadata": {},
   "outputs": [
    {
     "name": "stdout",
     "output_type": "stream",
     "text": [
      "Data retrieved successfully\n",
      "  TABLE_CATALOG TABLE_SCHEMA               TABLE_NAME  TABLE_TYPE\n",
      "0         dapDB          dbo  LP1_startup_funding2021  BASE TABLE\n",
      "1         dapDB          dbo  LP1_startup_funding2020  BASE TABLE\n"
     ]
    }
   ],
   "source": [
    "# Define the SQL query to show specific tables in the database\n",
    "db_query = \"\"\"\n",
    "        SELECT *\n",
    "        FROM INFORMATION_SCHEMA.TABLES\n",
    "        WHERE TABLE_SCHEMA = 'dbo'\n",
    "        \"\"\"\n",
    "# Read data from the SQL query result into a DataFrame using the established database connection\n",
    "schema_df = pd.read_sql(db_query, connection)\n",
    "\n",
    "#  Check whether data has been retrieved successfully to confirm successful connection to database\n",
    "try:\n",
    "    scheschema_df = pd.read_sql(db_query, connection)\n",
    "    print(\"Data retrieved successfully\")\n",
    "    print(schema_df)\n",
    "except Exception as e:\n",
    "    print(\"Failed to retrieve data:\", e)"
   ]
  },
  {
   "cell_type": "markdown",
   "metadata": {},
   "source": [
    "##### LP1_startup_funding2021 Data"
   ]
  },
  {
   "cell_type": "code",
   "execution_count": 4,
   "metadata": {},
   "outputs": [
    {
     "name": "stdout",
     "output_type": "stream",
     "text": [
      "<class 'pandas.core.frame.DataFrame'>\n",
      "RangeIndex: 1209 entries, 0 to 1208\n",
      "Data columns (total 9 columns):\n",
      " #   Column         Non-Null Count  Dtype  \n",
      "---  ------         --------------  -----  \n",
      " 0   Company_Brand  1209 non-null   object \n",
      " 1   Founded        1208 non-null   float64\n",
      " 2   HeadQuarter    1208 non-null   object \n",
      " 3   Sector         1209 non-null   object \n",
      " 4   What_it_does   1209 non-null   object \n",
      " 5   Founders       1205 non-null   object \n",
      " 6   Investor       1147 non-null   object \n",
      " 7   Amount         1206 non-null   object \n",
      " 8   Stage          781 non-null    object \n",
      "dtypes: float64(1), object(8)\n",
      "memory usage: 85.1+ KB\n",
      "\n"
     ]
    },
    {
     "data": {
      "text/html": [
       "<div>\n",
       "<style scoped>\n",
       "    .dataframe tbody tr th:only-of-type {\n",
       "        vertical-align: middle;\n",
       "    }\n",
       "\n",
       "    .dataframe tbody tr th {\n",
       "        vertical-align: top;\n",
       "    }\n",
       "\n",
       "    .dataframe thead th {\n",
       "        text-align: right;\n",
       "    }\n",
       "</style>\n",
       "<table border=\"1\" class=\"dataframe\">\n",
       "  <thead>\n",
       "    <tr style=\"text-align: right;\">\n",
       "      <th></th>\n",
       "      <th>Company_Brand</th>\n",
       "      <th>Founded</th>\n",
       "      <th>HeadQuarter</th>\n",
       "      <th>Sector</th>\n",
       "      <th>What_it_does</th>\n",
       "      <th>Founders</th>\n",
       "      <th>Investor</th>\n",
       "      <th>Amount</th>\n",
       "      <th>Stage</th>\n",
       "    </tr>\n",
       "  </thead>\n",
       "  <tbody>\n",
       "    <tr>\n",
       "      <th>0</th>\n",
       "      <td>Unbox Robotics</td>\n",
       "      <td>2019.0</td>\n",
       "      <td>Bangalore</td>\n",
       "      <td>AI startup</td>\n",
       "      <td>Unbox Robotics builds on-demand AI-driven ware...</td>\n",
       "      <td>Pramod Ghadge, Shahid Memon</td>\n",
       "      <td>BEENEXT, Entrepreneur First</td>\n",
       "      <td>$1,200,000</td>\n",
       "      <td>Pre-series A</td>\n",
       "    </tr>\n",
       "    <tr>\n",
       "      <th>1</th>\n",
       "      <td>upGrad</td>\n",
       "      <td>2015.0</td>\n",
       "      <td>Mumbai</td>\n",
       "      <td>EdTech</td>\n",
       "      <td>UpGrad is an online higher education platform.</td>\n",
       "      <td>Mayank Kumar, Phalgun Kompalli, Ravijot Chugh,...</td>\n",
       "      <td>Unilazer Ventures, IIFL Asset Management</td>\n",
       "      <td>$120,000,000</td>\n",
       "      <td>None</td>\n",
       "    </tr>\n",
       "  </tbody>\n",
       "</table>\n",
       "</div>"
      ],
      "text/plain": [
       "    Company_Brand  Founded HeadQuarter      Sector  \\\n",
       "0  Unbox Robotics   2019.0   Bangalore  AI startup   \n",
       "1          upGrad   2015.0      Mumbai      EdTech   \n",
       "\n",
       "                                        What_it_does  \\\n",
       "0  Unbox Robotics builds on-demand AI-driven ware...   \n",
       "1     UpGrad is an online higher education platform.   \n",
       "\n",
       "                                            Founders  \\\n",
       "0                        Pramod Ghadge, Shahid Memon   \n",
       "1  Mayank Kumar, Phalgun Kompalli, Ravijot Chugh,...   \n",
       "\n",
       "                                   Investor        Amount         Stage  \n",
       "0               BEENEXT, Entrepreneur First    $1,200,000  Pre-series A  \n",
       "1  Unilazer Ventures, IIFL Asset Management  $120,000,000          None  "
      ]
     },
     "execution_count": 4,
     "metadata": {},
     "output_type": "execute_result"
    }
   ],
   "source": [
    "#Define the SQL query to show specific tables in the database\n",
    "query_2021 = \"\"\"\n",
    "        SELECT *\n",
    "        FROM LP1_startup_funding2021        \n",
    "        \"\"\"\n",
    "#Read data from the SQL query result into a dataframe\n",
    "df_2021 = pd.read_sql(query_2021, connection)\n",
    "\n",
    "# Display dataframe Info\n",
    "df_2021.info()\n",
    "print()\n",
    "\n",
    "# Display the dataframe\n",
    "df_2021.head(2)"
   ]
  },
  {
   "cell_type": "markdown",
   "metadata": {},
   "source": [
    "##### LP1_startup_funding2020 Data"
   ]
  },
  {
   "cell_type": "code",
   "execution_count": 5,
   "metadata": {},
   "outputs": [
    {
     "name": "stdout",
     "output_type": "stream",
     "text": [
      "<class 'pandas.core.frame.DataFrame'>\n",
      "RangeIndex: 1055 entries, 0 to 1054\n",
      "Data columns (total 10 columns):\n",
      " #   Column         Non-Null Count  Dtype  \n",
      "---  ------         --------------  -----  \n",
      " 0   Company_Brand  1055 non-null   object \n",
      " 1   Founded        842 non-null    float64\n",
      " 2   HeadQuarter    961 non-null    object \n",
      " 3   Sector         1042 non-null   object \n",
      " 4   What_it_does   1055 non-null   object \n",
      " 5   Founders       1043 non-null   object \n",
      " 6   Investor       1017 non-null   object \n",
      " 7   Amount         801 non-null    float64\n",
      " 8   Stage          591 non-null    object \n",
      " 9   column10       2 non-null      object \n",
      "dtypes: float64(2), object(8)\n",
      "memory usage: 82.6+ KB\n",
      "\n"
     ]
    },
    {
     "data": {
      "text/html": [
       "<div>\n",
       "<style scoped>\n",
       "    .dataframe tbody tr th:only-of-type {\n",
       "        vertical-align: middle;\n",
       "    }\n",
       "\n",
       "    .dataframe tbody tr th {\n",
       "        vertical-align: top;\n",
       "    }\n",
       "\n",
       "    .dataframe thead th {\n",
       "        text-align: right;\n",
       "    }\n",
       "</style>\n",
       "<table border=\"1\" class=\"dataframe\">\n",
       "  <thead>\n",
       "    <tr style=\"text-align: right;\">\n",
       "      <th></th>\n",
       "      <th>Company_Brand</th>\n",
       "      <th>Founded</th>\n",
       "      <th>HeadQuarter</th>\n",
       "      <th>Sector</th>\n",
       "      <th>What_it_does</th>\n",
       "      <th>Founders</th>\n",
       "      <th>Investor</th>\n",
       "      <th>Amount</th>\n",
       "      <th>Stage</th>\n",
       "      <th>column10</th>\n",
       "    </tr>\n",
       "  </thead>\n",
       "  <tbody>\n",
       "    <tr>\n",
       "      <th>0</th>\n",
       "      <td>Aqgromalin</td>\n",
       "      <td>2019.0</td>\n",
       "      <td>Chennai</td>\n",
       "      <td>AgriTech</td>\n",
       "      <td>Cultivating Ideas for Profit</td>\n",
       "      <td>Prasanna Manogaran, Bharani C L</td>\n",
       "      <td>Angel investors</td>\n",
       "      <td>200000.0</td>\n",
       "      <td>None</td>\n",
       "      <td>None</td>\n",
       "    </tr>\n",
       "    <tr>\n",
       "      <th>1</th>\n",
       "      <td>Krayonnz</td>\n",
       "      <td>2019.0</td>\n",
       "      <td>Bangalore</td>\n",
       "      <td>EdTech</td>\n",
       "      <td>An academy-guardian-scholar centric ecosystem ...</td>\n",
       "      <td>Saurabh Dixit, Gurudutt Upadhyay</td>\n",
       "      <td>GSF Accelerator</td>\n",
       "      <td>100000.0</td>\n",
       "      <td>Pre-seed</td>\n",
       "      <td>None</td>\n",
       "    </tr>\n",
       "  </tbody>\n",
       "</table>\n",
       "</div>"
      ],
      "text/plain": [
       "  Company_Brand  Founded HeadQuarter    Sector  \\\n",
       "0    Aqgromalin   2019.0     Chennai  AgriTech   \n",
       "1      Krayonnz   2019.0   Bangalore    EdTech   \n",
       "\n",
       "                                        What_it_does  \\\n",
       "0                       Cultivating Ideas for Profit   \n",
       "1  An academy-guardian-scholar centric ecosystem ...   \n",
       "\n",
       "                           Founders         Investor    Amount     Stage  \\\n",
       "0   Prasanna Manogaran, Bharani C L  Angel investors  200000.0      None   \n",
       "1  Saurabh Dixit, Gurudutt Upadhyay  GSF Accelerator  100000.0  Pre-seed   \n",
       "\n",
       "  column10  \n",
       "0     None  \n",
       "1     None  "
      ]
     },
     "execution_count": 5,
     "metadata": {},
     "output_type": "execute_result"
    }
   ],
   "source": [
    "#Define the SQL query to show specific tables in the database\n",
    "query_2020 = \"\"\"\n",
    "        SELECT *\n",
    "        FROM LP1_startup_funding2020        \n",
    "        \"\"\"\n",
    "#Read data from the SQL query result into a dataframe\n",
    "df_2020 = pd.read_sql(query_2020, connection)\n",
    "\n",
    "# Display dataframe Info\n",
    "df_2020.info()\n",
    "print()\n",
    "\n",
    "# Display the dataframe\n",
    "df_2020.head(2)"
   ]
  },
  {
   "cell_type": "markdown",
   "metadata": {},
   "source": [
    "#### 2019 Data from Onedrive"
   ]
  },
  {
   "cell_type": "code",
   "execution_count": 8,
   "metadata": {},
   "outputs": [
    {
     "name": "stdout",
     "output_type": "stream",
     "text": [
      "<class 'pandas.core.frame.DataFrame'>\n",
      "RangeIndex: 526 entries, 0 to 525\n",
      "Data columns (total 6 columns):\n",
      " #   Column         Non-Null Count  Dtype \n",
      "---  ------         --------------  ----- \n",
      " 0   Company Name   526 non-null    object\n",
      " 1   Industry       526 non-null    object\n",
      " 2   Round/Series   526 non-null    object\n",
      " 3   Amount         526 non-null    object\n",
      " 4   Location       526 non-null    object\n",
      " 5   About Company  526 non-null    object\n",
      "dtypes: object(6)\n",
      "memory usage: 24.8+ KB\n",
      "\n"
     ]
    },
    {
     "data": {
      "text/html": [
       "<div>\n",
       "<style scoped>\n",
       "    .dataframe tbody tr th:only-of-type {\n",
       "        vertical-align: middle;\n",
       "    }\n",
       "\n",
       "    .dataframe tbody tr th {\n",
       "        vertical-align: top;\n",
       "    }\n",
       "\n",
       "    .dataframe thead th {\n",
       "        text-align: right;\n",
       "    }\n",
       "</style>\n",
       "<table border=\"1\" class=\"dataframe\">\n",
       "  <thead>\n",
       "    <tr style=\"text-align: right;\">\n",
       "      <th></th>\n",
       "      <th>Company Name</th>\n",
       "      <th>Industry</th>\n",
       "      <th>Round/Series</th>\n",
       "      <th>Amount</th>\n",
       "      <th>Location</th>\n",
       "      <th>About Company</th>\n",
       "    </tr>\n",
       "  </thead>\n",
       "  <tbody>\n",
       "    <tr>\n",
       "      <th>0</th>\n",
       "      <td>TheCollegeFever</td>\n",
       "      <td>Brand Marketing, Event Promotion, Marketing, S...</td>\n",
       "      <td>Seed</td>\n",
       "      <td>250000</td>\n",
       "      <td>Bangalore, Karnataka, India</td>\n",
       "      <td>TheCollegeFever is a hub for fun, fiesta and f...</td>\n",
       "    </tr>\n",
       "    <tr>\n",
       "      <th>1</th>\n",
       "      <td>Happy Cow Dairy</td>\n",
       "      <td>Agriculture, Farming</td>\n",
       "      <td>Seed</td>\n",
       "      <td>₹40,000,000</td>\n",
       "      <td>Mumbai, Maharashtra, India</td>\n",
       "      <td>A startup which aggregates milk from dairy far...</td>\n",
       "    </tr>\n",
       "  </tbody>\n",
       "</table>\n",
       "</div>"
      ],
      "text/plain": [
       "      Company Name                                           Industry  \\\n",
       "0  TheCollegeFever  Brand Marketing, Event Promotion, Marketing, S...   \n",
       "1  Happy Cow Dairy                               Agriculture, Farming   \n",
       "\n",
       "  Round/Series       Amount                     Location  \\\n",
       "0         Seed       250000  Bangalore, Karnataka, India   \n",
       "1         Seed  ₹40,000,000   Mumbai, Maharashtra, India   \n",
       "\n",
       "                                       About Company  \n",
       "0  TheCollegeFever is a hub for fun, fiesta and f...  \n",
       "1  A startup which aggregates milk from dairy far...  "
      ]
     },
     "execution_count": 8,
     "metadata": {},
     "output_type": "execute_result"
    }
   ],
   "source": [
    "#CSV file path\n",
    "file_path = '../Indian_Startup_Ecosystem/startup_funding2019.csv'\n",
    "#Read data from the file path into a dataframe\n",
    "df_2019 = pd.read_csv(file_path)\n",
    "\n",
    "# Display dataframe Info\n",
    "df_2019.info()\n",
    "print()\n",
    "\n",
    "# Display the dataframe\n",
    "df_2019.head(2)"
   ]
  },
  {
   "cell_type": "markdown",
   "metadata": {},
   "source": [
    "#### 2018 Data from Github repository"
   ]
  },
  {
   "cell_type": "code",
   "execution_count": 9,
   "metadata": {},
   "outputs": [
    {
     "name": "stdout",
     "output_type": "stream",
     "text": [
      "File saved successfully\n",
      "File read successfully\n",
      "<class 'pandas.core.frame.DataFrame'>\n",
      "RangeIndex: 526 entries, 0 to 525\n",
      "Data columns (total 6 columns):\n",
      " #   Column         Non-Null Count  Dtype \n",
      "---  ------         --------------  ----- \n",
      " 0   Company Name   526 non-null    object\n",
      " 1   Industry       526 non-null    object\n",
      " 2   Round/Series   526 non-null    object\n",
      " 3   Amount         526 non-null    object\n",
      " 4   Location       526 non-null    object\n",
      " 5   About Company  526 non-null    object\n",
      "dtypes: object(6)\n",
      "memory usage: 24.8+ KB\n",
      "\n"
     ]
    },
    {
     "data": {
      "text/html": [
       "<div>\n",
       "<style scoped>\n",
       "    .dataframe tbody tr th:only-of-type {\n",
       "        vertical-align: middle;\n",
       "    }\n",
       "\n",
       "    .dataframe tbody tr th {\n",
       "        vertical-align: top;\n",
       "    }\n",
       "\n",
       "    .dataframe thead th {\n",
       "        text-align: right;\n",
       "    }\n",
       "</style>\n",
       "<table border=\"1\" class=\"dataframe\">\n",
       "  <thead>\n",
       "    <tr style=\"text-align: right;\">\n",
       "      <th></th>\n",
       "      <th>Company Name</th>\n",
       "      <th>Industry</th>\n",
       "      <th>Round/Series</th>\n",
       "      <th>Amount</th>\n",
       "      <th>Location</th>\n",
       "      <th>About Company</th>\n",
       "    </tr>\n",
       "  </thead>\n",
       "  <tbody>\n",
       "    <tr>\n",
       "      <th>0</th>\n",
       "      <td>TheCollegeFever</td>\n",
       "      <td>Brand Marketing, Event Promotion, Marketing, S...</td>\n",
       "      <td>Seed</td>\n",
       "      <td>250000</td>\n",
       "      <td>Bangalore, Karnataka, India</td>\n",
       "      <td>TheCollegeFever is a hub for fun, fiesta and f...</td>\n",
       "    </tr>\n",
       "    <tr>\n",
       "      <th>1</th>\n",
       "      <td>Happy Cow Dairy</td>\n",
       "      <td>Agriculture, Farming</td>\n",
       "      <td>Seed</td>\n",
       "      <td>₹40,000,000</td>\n",
       "      <td>Mumbai, Maharashtra, India</td>\n",
       "      <td>A startup which aggregates milk from dairy far...</td>\n",
       "    </tr>\n",
       "  </tbody>\n",
       "</table>\n",
       "</div>"
      ],
      "text/plain": [
       "      Company Name                                           Industry  \\\n",
       "0  TheCollegeFever  Brand Marketing, Event Promotion, Marketing, S...   \n",
       "1  Happy Cow Dairy                               Agriculture, Farming   \n",
       "\n",
       "  Round/Series       Amount                     Location  \\\n",
       "0         Seed       250000  Bangalore, Karnataka, India   \n",
       "1         Seed  ₹40,000,000   Mumbai, Maharashtra, India   \n",
       "\n",
       "                                       About Company  \n",
       "0  TheCollegeFever is a hub for fun, fiesta and f...  \n",
       "1  A startup which aggregates milk from dairy far...  "
      ]
     },
     "execution_count": 9,
     "metadata": {},
     "output_type": "execute_result"
    }
   ],
   "source": [
    "# url for the csv file\n",
    "url = \"https://raw.githubusercontent.com/Azubi-Africa/Career_Accelerator_LP1-Data_Analysis/main/startup_funding2018.csv\"\n",
    "\n",
    "# Local file path\n",
    "local_path = '../Indian_Startup_Ecosystem/startup_funding2019.csv'\n",
    "\n",
    "# Send a GET request to the URL\n",
    "try:\n",
    "    response = requests.get(url)\n",
    "    response.raise_for_status()  # Check if the request was successful\n",
    "    # Save the response content to a local file\n",
    "    with open(local_path, \"wb\") as f:\n",
    "        f.write(response.content)\n",
    "    print(\"File saved successfully\")\n",
    "except requests.exceptions.RequestException as e:\n",
    "    print(f\"Failed to download file: {e}\")\n",
    "\n",
    "# Read data from the file path into a dataframe\n",
    "try:\n",
    "    df_2018 = pd.read_csv(local_path)\n",
    "    print(\"File read successfully\")\n",
    "except pd.errors.ParserError as e:\n",
    "    print(f\"Parser error: {e}\")\n",
    "except Exception as e:\n",
    "    print(f\"An error occurred: {e}\")\n",
    "\n",
    "# Display dataframe Info\n",
    "df_2018.info()\n",
    "print()\n",
    "# Display the dataframe\n",
    "df_2018.head(2)"
   ]
  },
  {
   "cell_type": "markdown",
   "metadata": {},
   "source": [
    "#### Brief Data Standardization Considerations"
   ]
  },
  {
   "cell_type": "code",
   "execution_count": 9,
   "metadata": {},
   "outputs": [
    {
     "name": "stdout",
     "output_type": "stream",
     "text": [
      "Column names of 2021 dataframe:\n",
      "Index(['Company_Brand', 'Founded', 'HeadQuarter', 'Sector', 'What_it_does',\n",
      "       'Founders', 'Investor', 'Amount', 'Stage'],\n",
      "      dtype='object')\n",
      "\n",
      "Column names of 2020 dataframe:\n",
      "Index(['Company_Brand', 'Founded', 'HeadQuarter', 'Sector', 'What_it_does',\n",
      "       'Founders', 'Investor', 'Amount', 'Stage', 'column10'],\n",
      "      dtype='object')\n",
      "\n",
      "Column names of 2019 dataframe:\n",
      "Index(['Company/Brand', 'Founded', 'HeadQuarter', 'Sector', 'What it does',\n",
      "       'Founders', 'Investor', 'Amount($)', 'Stage'],\n",
      "      dtype='object')\n",
      "\n",
      "Column names of 2018 dataframe:\n",
      "Index(['Company Name', 'Industry', 'Round/Series', 'Amount', 'Location',\n",
      "       'About Company'],\n",
      "      dtype='object')\n"
     ]
    }
   ],
   "source": [
    "# Print column names of all Dataframes\n",
    "print(\"Column names of 2021 dataframe:\")\n",
    "print(df_2021.columns)\n",
    "\n",
    "print(\"\\nColumn names of 2020 dataframe:\")\n",
    "print(df_2020.columns)\n",
    "\n",
    "print(\"\\nColumn names of 2019 dataframe:\")\n",
    "print(df_2019.columns)\n",
    "\n",
    "print(\"\\nColumn names of 2018 dataframe:\")\n",
    "print(df_2018.columns)"
   ]
  },
  {
   "cell_type": "code",
   "execution_count": 10,
   "metadata": {},
   "outputs": [],
   "source": [
    "# Create column names mapping dictionary\n",
    "\n",
    "# Define the column mappings for each dataframe\n",
    "column_mapping = {\n",
    "    'Company_Brand': 'Company_Brand',\n",
    "    'Founded': 'Founded',\n",
    "    'HeadQuarter': 'HeadQuarter',\n",
    "    'Sector': 'Sector',\n",
    "    'What_it_does': 'What_it_does',\n",
    "    'Founders': 'Founders',\n",
    "    'Investor': 'Investor',\n",
    "    'Amount': 'Amount',\n",
    "    'column10': 'Column 10',\n",
    "    'Stage': 'Stage',\n",
    "    'Company/Brand': 'Company_Brand',\n",
    "    'What it does': 'What_it_does',\n",
    "    'Amount($)': 'Amount',\n",
    "    'Company Name': 'Company_Brand',\n",
    "    'Industry': 'Sector',\n",
    "    'Round/Series': 'Stage',\n",
    "    'Location': 'HeadQuarter',\n",
    "    'About Company': 'What_it_does'\n",
    "}"
   ]
  },
  {
   "cell_type": "code",
   "execution_count": 11,
   "metadata": {},
   "outputs": [
    {
     "name": "stdout",
     "output_type": "stream",
     "text": [
      "Column names of 2021 dataframe:\n",
      "Index(['Company_Brand', 'Founded', 'HeadQuarter', 'Sector', 'What_it_does',\n",
      "       'Founders', 'Investor', 'Amount', 'Stage'],\n",
      "      dtype='object')\n",
      "\n",
      "Column names of 2020 dataframe:\n",
      "Index(['Company_Brand', 'Founded', 'HeadQuarter', 'Sector', 'What_it_does',\n",
      "       'Founders', 'Investor', 'Amount', 'Stage', 'Column 10'],\n",
      "      dtype='object')\n",
      "\n",
      "Column names of 2019 dataframe:\n",
      "Index(['Company_Brand', 'Founded', 'HeadQuarter', 'Sector', 'What_it_does',\n",
      "       'Founders', 'Investor', 'Amount', 'Stage'],\n",
      "      dtype='object')\n",
      "\n",
      "Column names of 2018 dataframe:\n",
      "Index(['Company_Brand', 'Sector', 'Stage', 'Amount', 'HeadQuarter',\n",
      "       'What_it_does'],\n",
      "      dtype='object')\n"
     ]
    }
   ],
   "source": [
    "# Rename the columns\n",
    "\n",
    "df_2021.rename(columns=column_mapping, inplace=True)\n",
    "df_2020.rename(columns=column_mapping, inplace=True)\n",
    "df_2019.rename(columns=column_mapping, inplace=True)\n",
    "df_2018.rename(columns=column_mapping, inplace=True)\n",
    "\n",
    "# Display renamed column names\n",
    "\n",
    "print(\"Column names of 2021 dataframe:\")\n",
    "print(df_2021.columns)\n",
    "\n",
    "print(\"\\nColumn names of 2020 dataframe:\")\n",
    "print(df_2020.columns) \n",
    "\n",
    "print(\"\\nColumn names of 2019 dataframe:\")\n",
    "print(df_2019.columns)\n",
    "\n",
    "print(\"\\nColumn names of 2018 dataframe:\")\n",
    "print(df_2018.columns)  "
   ]
  },
  {
   "cell_type": "markdown",
   "metadata": {},
   "source": [
    "#### Brief EDA on all dataframes"
   ]
  },
  {
   "cell_type": "markdown",
   "metadata": {},
   "source": [
    "##### 2018 Dataframe"
   ]
  },
  {
   "cell_type": "code",
   "execution_count": 12,
   "metadata": {},
   "outputs": [
    {
     "data": {
      "text/html": [
       "<div>\n",
       "<style scoped>\n",
       "    .dataframe tbody tr th:only-of-type {\n",
       "        vertical-align: middle;\n",
       "    }\n",
       "\n",
       "    .dataframe tbody tr th {\n",
       "        vertical-align: top;\n",
       "    }\n",
       "\n",
       "    .dataframe thead th {\n",
       "        text-align: right;\n",
       "    }\n",
       "</style>\n",
       "<table border=\"1\" class=\"dataframe\">\n",
       "  <thead>\n",
       "    <tr style=\"text-align: right;\">\n",
       "      <th></th>\n",
       "      <th>count</th>\n",
       "      <th>unique</th>\n",
       "      <th>top</th>\n",
       "      <th>freq</th>\n",
       "    </tr>\n",
       "  </thead>\n",
       "  <tbody>\n",
       "    <tr>\n",
       "      <th>Company_Brand</th>\n",
       "      <td>526</td>\n",
       "      <td>525</td>\n",
       "      <td>TheCollegeFever</td>\n",
       "      <td>2</td>\n",
       "    </tr>\n",
       "    <tr>\n",
       "      <th>Sector</th>\n",
       "      <td>526</td>\n",
       "      <td>405</td>\n",
       "      <td>—</td>\n",
       "      <td>30</td>\n",
       "    </tr>\n",
       "    <tr>\n",
       "      <th>Stage</th>\n",
       "      <td>526</td>\n",
       "      <td>21</td>\n",
       "      <td>Seed</td>\n",
       "      <td>280</td>\n",
       "    </tr>\n",
       "    <tr>\n",
       "      <th>Amount</th>\n",
       "      <td>526</td>\n",
       "      <td>198</td>\n",
       "      <td>—</td>\n",
       "      <td>148</td>\n",
       "    </tr>\n",
       "    <tr>\n",
       "      <th>HeadQuarter</th>\n",
       "      <td>526</td>\n",
       "      <td>50</td>\n",
       "      <td>Bangalore, Karnataka, India</td>\n",
       "      <td>102</td>\n",
       "    </tr>\n",
       "    <tr>\n",
       "      <th>What_it_does</th>\n",
       "      <td>526</td>\n",
       "      <td>524</td>\n",
       "      <td>TheCollegeFever is a hub for fun, fiesta and f...</td>\n",
       "      <td>2</td>\n",
       "    </tr>\n",
       "  </tbody>\n",
       "</table>\n",
       "</div>"
      ],
      "text/plain": [
       "              count unique                                                top  \\\n",
       "Company_Brand   526    525                                    TheCollegeFever   \n",
       "Sector          526    405                                                  —   \n",
       "Stage           526     21                                               Seed   \n",
       "Amount          526    198                                                  —   \n",
       "HeadQuarter     526     50                        Bangalore, Karnataka, India   \n",
       "What_it_does    526    524  TheCollegeFever is a hub for fun, fiesta and f...   \n",
       "\n",
       "              freq  \n",
       "Company_Brand    2  \n",
       "Sector          30  \n",
       "Stage          280  \n",
       "Amount         148  \n",
       "HeadQuarter    102  \n",
       "What_it_does     2  "
      ]
     },
     "execution_count": 12,
     "metadata": {},
     "output_type": "execute_result"
    }
   ],
   "source": [
    "# Descriptive statistics on the dataframe\n",
    "df_2018.describe().T"
   ]
  },
  {
   "cell_type": "code",
   "execution_count": 13,
   "metadata": {},
   "outputs": [
    {
     "name": "stdout",
     "output_type": "stream",
     "text": [
      "(526, 6)\n",
      "There are 526 rows, and 6 columns\n"
     ]
    }
   ],
   "source": [
    "# Check dataframe dimensions\n",
    "print (df_2018.shape)\n",
    "print(f\"There are {df_2018.shape[0]} rows, and {df_2018.shape[1]} columns\")"
   ]
  },
  {
   "cell_type": "code",
   "execution_count": 14,
   "metadata": {},
   "outputs": [
    {
     "name": "stdout",
     "output_type": "stream",
     "text": [
      "<class 'pandas.core.frame.DataFrame'>\n",
      "RangeIndex: 526 entries, 0 to 525\n",
      "Data columns (total 6 columns):\n",
      " #   Column         Non-Null Count  Dtype \n",
      "---  ------         --------------  ----- \n",
      " 0   Company_Brand  526 non-null    object\n",
      " 1   Sector         526 non-null    object\n",
      " 2   Stage          526 non-null    object\n",
      " 3   Amount         526 non-null    object\n",
      " 4   HeadQuarter    526 non-null    object\n",
      " 5   What_it_does   526 non-null    object\n",
      "dtypes: object(6)\n",
      "memory usage: 24.8+ KB\n"
     ]
    }
   ],
   "source": [
    "# Check dataframe info \n",
    "df_2018.info()"
   ]
  },
  {
   "cell_type": "code",
   "execution_count": 15,
   "metadata": {},
   "outputs": [
    {
     "name": "stdout",
     "output_type": "stream",
     "text": [
      "\n",
      "Missing values in each column:\n",
      "\n",
      "Company_Brand    0\n",
      "Sector           0\n",
      "Stage            0\n",
      "Amount           0\n",
      "HeadQuarter      0\n",
      "What_it_does     0\n",
      "dtype: int64\n",
      "\n",
      "Number of duplicated rows: 1\n",
      "\n"
     ]
    }
   ],
   "source": [
    "# Check for total missing values in each column of the DataFrame\n",
    "missing_values = df_2018.isnull().sum()\n",
    "print()\n",
    "print(\"Missing values in each column:\")\n",
    "print()\n",
    "print(missing_values)\n",
    "print()\n",
    "\n",
    "# Check for total duplicated rows in the DataFrame\n",
    "duplicate_count = df_2018.duplicated().sum()\n",
    "print(\"Number of duplicated rows:\", duplicate_count)\n",
    "print()"
   ]
  },
  {
   "cell_type": "code",
   "execution_count": 16,
   "metadata": {},
   "outputs": [
    {
     "data": {
      "text/plain": [
       "array(['250000', '₹40,000,000', '₹65,000,000', '2000000', '—', '1600000',\n",
       "       '₹16,000,000', '₹50,000,000', '₹100,000,000', '150000', '1100000',\n",
       "       '₹500,000', '6000000', '650000', '₹35,000,000', '₹64,000,000',\n",
       "       '₹20,000,000', '1000000', '5000000', '4000000', '₹30,000,000',\n",
       "       '2800000', '1700000', '1300000', '₹5,000,000', '₹12,500,000',\n",
       "       '₹15,000,000', '500000', '₹104,000,000', '₹45,000,000', '13400000',\n",
       "       '₹25,000,000', '₹26,400,000', '₹8,000,000', '₹60,000', '9000000',\n",
       "       '100000', '20000', '120000', '₹34,000,000', '₹342,000,000',\n",
       "       '$143,145', '₹600,000,000', '$742,000,000', '₹1,000,000,000',\n",
       "       '₹2,000,000,000', '$3,980,000', '$10,000', '₹100,000',\n",
       "       '₹250,000,000', '$1,000,000,000', '$7,000,000', '$35,000,000',\n",
       "       '₹550,000,000', '$28,500,000', '$2,000,000', '₹240,000,000',\n",
       "       '₹120,000,000', '$2,400,000', '$30,000,000', '₹2,500,000,000',\n",
       "       '$23,000,000', '$150,000', '$11,000,000', '₹44,000,000',\n",
       "       '$3,240,000', '₹60,000,000', '$540,000,000', '₹650,000,000',\n",
       "       '₹1,600,000,000', '$900,000', '$10,000,000', '$1,500,000',\n",
       "       '₹70,000,000', '$1,000,000', '$5,000,000', '$14,000,000',\n",
       "       '₹102,500,000', '$100,000,000', '₹1,200,000', '₹5,200,000,000',\n",
       "       '$800,000', '$1,041,000', '$100,000', '$15,000', '1400000',\n",
       "       '1200000', '2200000', '1800000', '3600000', '₹9,500,000', '300000',\n",
       "       '6830000', '200000', '₹150,000,000', '4300000', '364846', '400000',\n",
       "       '1500000', '₹7,000,000', '₹1,400,000', '₹10,000,000',\n",
       "       '₹22,500,000', '13200000', '50000', '₹140,200,000', '3000000',\n",
       "       '1250000', '180000', '₹19,200,000', '₹103,000,000', '4200000',\n",
       "       '175000', '1450000', '₹200,000', '4500000', '600000',\n",
       "       '₹16,600,000', '₹12,000,000', '15000000', '₹33,000,000', '125000',\n",
       "       '130000', '₹34,900,000', '₹72,000,000', '17200000', '₹32,000,000',\n",
       "       '3500000', '₹135,000,000', '12000000', '$40,000,000', '$1,100,000',\n",
       "       '$50,000,000', '₹1,540,000,000', '$3,000,000', '$6,000,000',\n",
       "       '₹140,000,000', '$41,900,000', '₹1,410,000,000', '$3,530,000',\n",
       "       '$200,000', '$3,300,000', '₹580,000,000', '₹36,000,000',\n",
       "       '₹340,000,000', '$210,000,000', '$37,680,000', '$250,000',\n",
       "       '$20,000', '₹510,000,000', '₹2,200,000,000', '22000000', '70000',\n",
       "       '10000000', '₹15,392,000,000', '₹20,000,000,000', '₹4,000,000,000',\n",
       "       '185000000', '65000000', '₹165,000,000', '700000', '30000000',\n",
       "       '₹210,000,000', '210000000', '₹2,029,600,000', '75000000',\n",
       "       '₹80,000,000', '1760000', '2700000', '₹280,000,000',\n",
       "       '₹800,000,000', '750000', '2500000', '80000000', '25000000',\n",
       "       '₹730,000,000', '₹400,000,000', '3700000', '5600000',\n",
       "       '₹260,000,000', '99230000', '70000000', '40000', '550000',\n",
       "       '50000000', '365000000', '₹8,750,000', '₹78,000,000', '28000000',\n",
       "       '₹264,000,000', '100000000', '₹1,130,000,000', '₹810,000,000',\n",
       "       '₹1,400,000,000', '14900000', '225000000', '7500', '35000000'],\n",
       "      dtype=object)"
      ]
     },
     "execution_count": 16,
     "metadata": {},
     "output_type": "execute_result"
    }
   ],
   "source": [
    "df_2018[\"Amount\"].unique()"
   ]
  },
  {
   "cell_type": "markdown",
   "metadata": {},
   "source": [
    "Prelimenary observations on 2018 dataset\n",
    "\n",
    "The most frequent Stage was Seed\n",
    "\n",
    "Most Headquarters were in Bangalore"
   ]
  },
  {
   "cell_type": "markdown",
   "metadata": {},
   "source": [
    "#### 2019 Dataframe"
   ]
  },
  {
   "cell_type": "code",
   "execution_count": 17,
   "metadata": {},
   "outputs": [
    {
     "data": {
      "text/html": [
       "<div>\n",
       "<style scoped>\n",
       "    .dataframe tbody tr th:only-of-type {\n",
       "        vertical-align: middle;\n",
       "    }\n",
       "\n",
       "    .dataframe tbody tr th {\n",
       "        vertical-align: top;\n",
       "    }\n",
       "\n",
       "    .dataframe thead th {\n",
       "        text-align: right;\n",
       "    }\n",
       "</style>\n",
       "<table border=\"1\" class=\"dataframe\">\n",
       "  <thead>\n",
       "    <tr style=\"text-align: right;\">\n",
       "      <th></th>\n",
       "      <th>count</th>\n",
       "      <th>mean</th>\n",
       "      <th>std</th>\n",
       "      <th>min</th>\n",
       "      <th>25%</th>\n",
       "      <th>50%</th>\n",
       "      <th>75%</th>\n",
       "      <th>max</th>\n",
       "    </tr>\n",
       "  </thead>\n",
       "  <tbody>\n",
       "    <tr>\n",
       "      <th>Founded</th>\n",
       "      <td>60.0</td>\n",
       "      <td>2014.533333</td>\n",
       "      <td>2.937003</td>\n",
       "      <td>2004.0</td>\n",
       "      <td>2013.0</td>\n",
       "      <td>2015.0</td>\n",
       "      <td>2016.25</td>\n",
       "      <td>2019.0</td>\n",
       "    </tr>\n",
       "  </tbody>\n",
       "</table>\n",
       "</div>"
      ],
      "text/plain": [
       "         count         mean       std     min     25%     50%      75%     max\n",
       "Founded   60.0  2014.533333  2.937003  2004.0  2013.0  2015.0  2016.25  2019.0"
      ]
     },
     "execution_count": 17,
     "metadata": {},
     "output_type": "execute_result"
    }
   ],
   "source": [
    "# Descriptive statistics on the dataframe\n",
    "df_2019.describe().T"
   ]
  },
  {
   "cell_type": "code",
   "execution_count": 18,
   "metadata": {},
   "outputs": [
    {
     "data": {
      "text/html": [
       "<div>\n",
       "<style scoped>\n",
       "    .dataframe tbody tr th:only-of-type {\n",
       "        vertical-align: middle;\n",
       "    }\n",
       "\n",
       "    .dataframe tbody tr th {\n",
       "        vertical-align: top;\n",
       "    }\n",
       "\n",
       "    .dataframe thead th {\n",
       "        text-align: right;\n",
       "    }\n",
       "</style>\n",
       "<table border=\"1\" class=\"dataframe\">\n",
       "  <thead>\n",
       "    <tr style=\"text-align: right;\">\n",
       "      <th></th>\n",
       "      <th>count</th>\n",
       "      <th>unique</th>\n",
       "      <th>top</th>\n",
       "      <th>freq</th>\n",
       "    </tr>\n",
       "  </thead>\n",
       "  <tbody>\n",
       "    <tr>\n",
       "      <th>Company_Brand</th>\n",
       "      <td>89</td>\n",
       "      <td>87</td>\n",
       "      <td>Kratikal</td>\n",
       "      <td>2</td>\n",
       "    </tr>\n",
       "    <tr>\n",
       "      <th>HeadQuarter</th>\n",
       "      <td>70</td>\n",
       "      <td>17</td>\n",
       "      <td>Bangalore</td>\n",
       "      <td>21</td>\n",
       "    </tr>\n",
       "    <tr>\n",
       "      <th>Sector</th>\n",
       "      <td>84</td>\n",
       "      <td>52</td>\n",
       "      <td>Edtech</td>\n",
       "      <td>7</td>\n",
       "    </tr>\n",
       "    <tr>\n",
       "      <th>What_it_does</th>\n",
       "      <td>89</td>\n",
       "      <td>88</td>\n",
       "      <td>Online meat shop</td>\n",
       "      <td>2</td>\n",
       "    </tr>\n",
       "    <tr>\n",
       "      <th>Founders</th>\n",
       "      <td>86</td>\n",
       "      <td>85</td>\n",
       "      <td>Vivek Gupta, Abhay Hanjura</td>\n",
       "      <td>2</td>\n",
       "    </tr>\n",
       "    <tr>\n",
       "      <th>Investor</th>\n",
       "      <td>89</td>\n",
       "      <td>86</td>\n",
       "      <td>Undisclosed</td>\n",
       "      <td>3</td>\n",
       "    </tr>\n",
       "    <tr>\n",
       "      <th>Amount</th>\n",
       "      <td>89</td>\n",
       "      <td>50</td>\n",
       "      <td>Undisclosed</td>\n",
       "      <td>12</td>\n",
       "    </tr>\n",
       "    <tr>\n",
       "      <th>Stage</th>\n",
       "      <td>43</td>\n",
       "      <td>15</td>\n",
       "      <td>Series A</td>\n",
       "      <td>10</td>\n",
       "    </tr>\n",
       "  </tbody>\n",
       "</table>\n",
       "</div>"
      ],
      "text/plain": [
       "              count unique                         top freq\n",
       "Company_Brand    89     87                    Kratikal    2\n",
       "HeadQuarter      70     17                   Bangalore   21\n",
       "Sector           84     52                      Edtech    7\n",
       "What_it_does     89     88            Online meat shop    2\n",
       "Founders         86     85  Vivek Gupta, Abhay Hanjura    2\n",
       "Investor         89     86                 Undisclosed    3\n",
       "Amount           89     50                 Undisclosed   12\n",
       "Stage            43     15                    Series A   10"
      ]
     },
     "execution_count": 18,
     "metadata": {},
     "output_type": "execute_result"
    }
   ],
   "source": [
    "# Generate descriptive statistics for categorical columns in the DataFrame \n",
    "df_2019.describe(include=\"object\").T"
   ]
  },
  {
   "cell_type": "code",
   "execution_count": 19,
   "metadata": {},
   "outputs": [
    {
     "name": "stdout",
     "output_type": "stream",
     "text": [
      "(89, 9)\n",
      "There are 89 rows, and 9 columns\n"
     ]
    }
   ],
   "source": [
    "# Check dataframe dimensions\n",
    "print (df_2019.shape)\n",
    "print(f\"There are {df_2019.shape[0]} rows, and {df_2019.shape[1]} columns\")"
   ]
  },
  {
   "cell_type": "code",
   "execution_count": 20,
   "metadata": {},
   "outputs": [
    {
     "name": "stdout",
     "output_type": "stream",
     "text": [
      "<class 'pandas.core.frame.DataFrame'>\n",
      "RangeIndex: 89 entries, 0 to 88\n",
      "Data columns (total 9 columns):\n",
      " #   Column         Non-Null Count  Dtype  \n",
      "---  ------         --------------  -----  \n",
      " 0   Company_Brand  89 non-null     object \n",
      " 1   Founded        60 non-null     float64\n",
      " 2   HeadQuarter    70 non-null     object \n",
      " 3   Sector         84 non-null     object \n",
      " 4   What_it_does   89 non-null     object \n",
      " 5   Founders       86 non-null     object \n",
      " 6   Investor       89 non-null     object \n",
      " 7   Amount         89 non-null     object \n",
      " 8   Stage          43 non-null     object \n",
      "dtypes: float64(1), object(8)\n",
      "memory usage: 6.4+ KB\n"
     ]
    }
   ],
   "source": [
    "# Check dataframe info\n",
    "df_2019.info()"
   ]
  },
  {
   "cell_type": "code",
   "execution_count": 21,
   "metadata": {},
   "outputs": [
    {
     "name": "stdout",
     "output_type": "stream",
     "text": [
      "\n",
      "Missing values in each column:\n",
      "\n",
      "Company_Brand     0\n",
      "Founded          29\n",
      "HeadQuarter      19\n",
      "Sector            5\n",
      "What_it_does      0\n",
      "Founders          3\n",
      "Investor          0\n",
      "Amount            0\n",
      "Stage            46\n",
      "dtype: int64\n",
      "\n",
      "Number of duplicated rows: 0\n",
      "\n"
     ]
    }
   ],
   "source": [
    "# Check for total missing values in each column of the DataFrame\n",
    "missing_values = df_2019.isnull().sum()\n",
    "print()\n",
    "print(\"Missing values in each column:\")\n",
    "print()\n",
    "print(missing_values)\n",
    "print()\n",
    "\n",
    "# Check for total duplicated rows in the DataFrame\n",
    "duplicate_count = df_2019.duplicated().sum()\n",
    "print(\"Number of duplicated rows:\", duplicate_count)\n",
    "print()"
   ]
  },
  {
   "cell_type": "markdown",
   "metadata": {},
   "source": [
    "Prelimenary observations on 2019 dataset\n",
    "\n",
    "The most frequent Stage was Series A\n",
    "\n",
    "Most Headquarters were in Bangalore\n",
    "\n",
    "The most frequent Sector was Edtech"
   ]
  },
  {
   "cell_type": "markdown",
   "metadata": {},
   "source": [
    "#### 2020 Dataframe"
   ]
  },
  {
   "cell_type": "code",
   "execution_count": 22,
   "metadata": {},
   "outputs": [
    {
     "data": {
      "text/html": [
       "<div>\n",
       "<style scoped>\n",
       "    .dataframe tbody tr th:only-of-type {\n",
       "        vertical-align: middle;\n",
       "    }\n",
       "\n",
       "    .dataframe tbody tr th {\n",
       "        vertical-align: top;\n",
       "    }\n",
       "\n",
       "    .dataframe thead th {\n",
       "        text-align: right;\n",
       "    }\n",
       "</style>\n",
       "<table border=\"1\" class=\"dataframe\">\n",
       "  <thead>\n",
       "    <tr style=\"text-align: right;\">\n",
       "      <th></th>\n",
       "      <th>count</th>\n",
       "      <th>unique</th>\n",
       "      <th>top</th>\n",
       "      <th>freq</th>\n",
       "    </tr>\n",
       "  </thead>\n",
       "  <tbody>\n",
       "    <tr>\n",
       "      <th>Company_Brand</th>\n",
       "      <td>1055</td>\n",
       "      <td>905</td>\n",
       "      <td>Nykaa</td>\n",
       "      <td>6</td>\n",
       "    </tr>\n",
       "    <tr>\n",
       "      <th>HeadQuarter</th>\n",
       "      <td>961</td>\n",
       "      <td>77</td>\n",
       "      <td>Bangalore</td>\n",
       "      <td>317</td>\n",
       "    </tr>\n",
       "    <tr>\n",
       "      <th>Sector</th>\n",
       "      <td>1042</td>\n",
       "      <td>302</td>\n",
       "      <td>Fintech</td>\n",
       "      <td>80</td>\n",
       "    </tr>\n",
       "    <tr>\n",
       "      <th>What_it_does</th>\n",
       "      <td>1055</td>\n",
       "      <td>990</td>\n",
       "      <td>Provides online learning classes</td>\n",
       "      <td>4</td>\n",
       "    </tr>\n",
       "    <tr>\n",
       "      <th>Founders</th>\n",
       "      <td>1043</td>\n",
       "      <td>927</td>\n",
       "      <td>Falguni Nayar</td>\n",
       "      <td>6</td>\n",
       "    </tr>\n",
       "    <tr>\n",
       "      <th>Investor</th>\n",
       "      <td>1017</td>\n",
       "      <td>848</td>\n",
       "      <td>Venture Catalysts</td>\n",
       "      <td>20</td>\n",
       "    </tr>\n",
       "    <tr>\n",
       "      <th>Stage</th>\n",
       "      <td>591</td>\n",
       "      <td>42</td>\n",
       "      <td>Series A</td>\n",
       "      <td>96</td>\n",
       "    </tr>\n",
       "    <tr>\n",
       "      <th>Column 10</th>\n",
       "      <td>2</td>\n",
       "      <td>2</td>\n",
       "      <td>Pre-Seed</td>\n",
       "      <td>1</td>\n",
       "    </tr>\n",
       "  </tbody>\n",
       "</table>\n",
       "</div>"
      ],
      "text/plain": [
       "              count unique                               top freq\n",
       "Company_Brand  1055    905                             Nykaa    6\n",
       "HeadQuarter     961     77                         Bangalore  317\n",
       "Sector         1042    302                           Fintech   80\n",
       "What_it_does   1055    990  Provides online learning classes    4\n",
       "Founders       1043    927                     Falguni Nayar    6\n",
       "Investor       1017    848                 Venture Catalysts   20\n",
       "Stage           591     42                          Series A   96\n",
       "Column 10         2      2                          Pre-Seed    1"
      ]
     },
     "execution_count": 22,
     "metadata": {},
     "output_type": "execute_result"
    }
   ],
   "source": [
    "# Generate descriptive statistics for categorical columns in the DataFrame \n",
    "df_2020.describe(include=\"object\").T"
   ]
  },
  {
   "cell_type": "code",
   "execution_count": 23,
   "metadata": {},
   "outputs": [
    {
     "data": {
      "text/html": [
       "<div>\n",
       "<style scoped>\n",
       "    .dataframe tbody tr th:only-of-type {\n",
       "        vertical-align: middle;\n",
       "    }\n",
       "\n",
       "    .dataframe tbody tr th {\n",
       "        vertical-align: top;\n",
       "    }\n",
       "\n",
       "    .dataframe thead th {\n",
       "        text-align: right;\n",
       "    }\n",
       "</style>\n",
       "<table border=\"1\" class=\"dataframe\">\n",
       "  <thead>\n",
       "    <tr style=\"text-align: right;\">\n",
       "      <th></th>\n",
       "      <th>count</th>\n",
       "      <th>mean</th>\n",
       "      <th>std</th>\n",
       "      <th>min</th>\n",
       "      <th>25%</th>\n",
       "      <th>50%</th>\n",
       "      <th>75%</th>\n",
       "      <th>max</th>\n",
       "    </tr>\n",
       "  </thead>\n",
       "  <tbody>\n",
       "    <tr>\n",
       "      <th>Founded</th>\n",
       "      <td>842.0</td>\n",
       "      <td>2.015363e+03</td>\n",
       "      <td>4.097909e+00</td>\n",
       "      <td>1973.0</td>\n",
       "      <td>2014.0</td>\n",
       "      <td>2016.0</td>\n",
       "      <td>2018.0</td>\n",
       "      <td>2.020000e+03</td>\n",
       "    </tr>\n",
       "    <tr>\n",
       "      <th>Amount</th>\n",
       "      <td>801.0</td>\n",
       "      <td>1.130430e+08</td>\n",
       "      <td>2.476635e+09</td>\n",
       "      <td>12700.0</td>\n",
       "      <td>1000000.0</td>\n",
       "      <td>3000000.0</td>\n",
       "      <td>11000000.0</td>\n",
       "      <td>7.000000e+10</td>\n",
       "    </tr>\n",
       "  </tbody>\n",
       "</table>\n",
       "</div>"
      ],
      "text/plain": [
       "         count          mean           std      min        25%        50%  \\\n",
       "Founded  842.0  2.015363e+03  4.097909e+00   1973.0     2014.0     2016.0   \n",
       "Amount   801.0  1.130430e+08  2.476635e+09  12700.0  1000000.0  3000000.0   \n",
       "\n",
       "                75%           max  \n",
       "Founded      2018.0  2.020000e+03  \n",
       "Amount   11000000.0  7.000000e+10  "
      ]
     },
     "execution_count": 23,
     "metadata": {},
     "output_type": "execute_result"
    }
   ],
   "source": [
    "# Descriptive statistics on the dataframe\n",
    "df_2020.describe().T"
   ]
  },
  {
   "cell_type": "code",
   "execution_count": 24,
   "metadata": {},
   "outputs": [
    {
     "name": "stdout",
     "output_type": "stream",
     "text": [
      "(1055, 10)\n",
      "There are 1055 rows, and 10 columns\n"
     ]
    }
   ],
   "source": [
    "# Check dataframe dimensions\n",
    "\n",
    "print (df_2020.shape)\n",
    "print(f\"There are {df_2020.shape[0]} rows, and {df_2020.shape[1]} columns\")"
   ]
  },
  {
   "cell_type": "code",
   "execution_count": 25,
   "metadata": {},
   "outputs": [
    {
     "name": "stdout",
     "output_type": "stream",
     "text": [
      "<class 'pandas.core.frame.DataFrame'>\n",
      "RangeIndex: 1055 entries, 0 to 1054\n",
      "Data columns (total 10 columns):\n",
      " #   Column         Non-Null Count  Dtype  \n",
      "---  ------         --------------  -----  \n",
      " 0   Company_Brand  1055 non-null   object \n",
      " 1   Founded        842 non-null    float64\n",
      " 2   HeadQuarter    961 non-null    object \n",
      " 3   Sector         1042 non-null   object \n",
      " 4   What_it_does   1055 non-null   object \n",
      " 5   Founders       1043 non-null   object \n",
      " 6   Investor       1017 non-null   object \n",
      " 7   Amount         801 non-null    float64\n",
      " 8   Stage          591 non-null    object \n",
      " 9   Column 10      2 non-null      object \n",
      "dtypes: float64(2), object(8)\n",
      "memory usage: 82.6+ KB\n"
     ]
    }
   ],
   "source": [
    "# Check the dataframe info\n",
    "df_2020.info()"
   ]
  },
  {
   "cell_type": "code",
   "execution_count": 26,
   "metadata": {},
   "outputs": [
    {
     "name": "stdout",
     "output_type": "stream",
     "text": [
      "\n",
      "Missing values in each column:\n",
      "\n",
      "Company_Brand       0\n",
      "Founded           213\n",
      "HeadQuarter        94\n",
      "Sector             13\n",
      "What_it_does        0\n",
      "Founders           12\n",
      "Investor           38\n",
      "Amount            254\n",
      "Stage             464\n",
      "Column 10        1053\n",
      "dtype: int64\n",
      "\n",
      "Number of duplicated rows: 3\n",
      "\n"
     ]
    }
   ],
   "source": [
    "# Check for total missing values in each column of the DataFrame\n",
    "missing_values = df_2020.isnull().sum()\n",
    "print()\n",
    "print(\"Missing values in each column:\")\n",
    "print()\n",
    "print(missing_values)\n",
    "print()\n",
    "\n",
    "# Check for total duplicated rows in the DataFrame\n",
    "duplicate_count = df_2020.duplicated().sum()\n",
    "print(\"Number of duplicated rows:\", duplicate_count)\n",
    "print()"
   ]
  },
  {
   "cell_type": "markdown",
   "metadata": {},
   "source": [
    "Preliminary observations of the 2020 dataset\n",
    "\n",
    "The most frequent Stage was Series A\n",
    "\n",
    "Most Headquarters were in Bangalore\n",
    "\n",
    "The most frequent Sector was Fintech"
   ]
  },
  {
   "cell_type": "markdown",
   "metadata": {},
   "source": [
    "#### 2021 Dataframe"
   ]
  },
  {
   "cell_type": "code",
   "execution_count": 27,
   "metadata": {},
   "outputs": [
    {
     "data": {
      "text/html": [
       "<div>\n",
       "<style scoped>\n",
       "    .dataframe tbody tr th:only-of-type {\n",
       "        vertical-align: middle;\n",
       "    }\n",
       "\n",
       "    .dataframe tbody tr th {\n",
       "        vertical-align: top;\n",
       "    }\n",
       "\n",
       "    .dataframe thead th {\n",
       "        text-align: right;\n",
       "    }\n",
       "</style>\n",
       "<table border=\"1\" class=\"dataframe\">\n",
       "  <thead>\n",
       "    <tr style=\"text-align: right;\">\n",
       "      <th></th>\n",
       "      <th>count</th>\n",
       "      <th>unique</th>\n",
       "      <th>top</th>\n",
       "      <th>freq</th>\n",
       "    </tr>\n",
       "  </thead>\n",
       "  <tbody>\n",
       "    <tr>\n",
       "      <th>Company_Brand</th>\n",
       "      <td>1209</td>\n",
       "      <td>1033</td>\n",
       "      <td>BharatPe</td>\n",
       "      <td>8</td>\n",
       "    </tr>\n",
       "    <tr>\n",
       "      <th>HeadQuarter</th>\n",
       "      <td>1208</td>\n",
       "      <td>70</td>\n",
       "      <td>Bangalore</td>\n",
       "      <td>426</td>\n",
       "    </tr>\n",
       "    <tr>\n",
       "      <th>Sector</th>\n",
       "      <td>1209</td>\n",
       "      <td>254</td>\n",
       "      <td>FinTech</td>\n",
       "      <td>122</td>\n",
       "    </tr>\n",
       "    <tr>\n",
       "      <th>What_it_does</th>\n",
       "      <td>1209</td>\n",
       "      <td>1143</td>\n",
       "      <td>BharatPe develops a QR code-based payment app ...</td>\n",
       "      <td>4</td>\n",
       "    </tr>\n",
       "    <tr>\n",
       "      <th>Founders</th>\n",
       "      <td>1205</td>\n",
       "      <td>1095</td>\n",
       "      <td>Ashneer Grover, Shashvat Nakrani</td>\n",
       "      <td>7</td>\n",
       "    </tr>\n",
       "    <tr>\n",
       "      <th>Investor</th>\n",
       "      <td>1147</td>\n",
       "      <td>937</td>\n",
       "      <td>Inflection Point Ventures</td>\n",
       "      <td>24</td>\n",
       "    </tr>\n",
       "    <tr>\n",
       "      <th>Amount</th>\n",
       "      <td>1206</td>\n",
       "      <td>278</td>\n",
       "      <td>$Undisclosed</td>\n",
       "      <td>73</td>\n",
       "    </tr>\n",
       "    <tr>\n",
       "      <th>Stage</th>\n",
       "      <td>781</td>\n",
       "      <td>31</td>\n",
       "      <td>Seed</td>\n",
       "      <td>246</td>\n",
       "    </tr>\n",
       "  </tbody>\n",
       "</table>\n",
       "</div>"
      ],
      "text/plain": [
       "              count unique                                                top  \\\n",
       "Company_Brand  1209   1033                                           BharatPe   \n",
       "HeadQuarter    1208     70                                          Bangalore   \n",
       "Sector         1209    254                                            FinTech   \n",
       "What_it_does   1209   1143  BharatPe develops a QR code-based payment app ...   \n",
       "Founders       1205   1095                   Ashneer Grover, Shashvat Nakrani   \n",
       "Investor       1147    937                          Inflection Point Ventures   \n",
       "Amount         1206    278                                       $Undisclosed   \n",
       "Stage           781     31                                               Seed   \n",
       "\n",
       "              freq  \n",
       "Company_Brand    8  \n",
       "HeadQuarter    426  \n",
       "Sector         122  \n",
       "What_it_does     4  \n",
       "Founders         7  \n",
       "Investor        24  \n",
       "Amount          73  \n",
       "Stage          246  "
      ]
     },
     "execution_count": 27,
     "metadata": {},
     "output_type": "execute_result"
    }
   ],
   "source": [
    "# Generate descriptive statistics for categorical columns in the DataFrame \n",
    "df_2021.describe(include=\"object\").T"
   ]
  },
  {
   "cell_type": "code",
   "execution_count": 28,
   "metadata": {},
   "outputs": [
    {
     "data": {
      "text/html": [
       "<div>\n",
       "<style scoped>\n",
       "    .dataframe tbody tr th:only-of-type {\n",
       "        vertical-align: middle;\n",
       "    }\n",
       "\n",
       "    .dataframe tbody tr th {\n",
       "        vertical-align: top;\n",
       "    }\n",
       "\n",
       "    .dataframe thead th {\n",
       "        text-align: right;\n",
       "    }\n",
       "</style>\n",
       "<table border=\"1\" class=\"dataframe\">\n",
       "  <thead>\n",
       "    <tr style=\"text-align: right;\">\n",
       "      <th></th>\n",
       "      <th>count</th>\n",
       "      <th>mean</th>\n",
       "      <th>std</th>\n",
       "      <th>min</th>\n",
       "      <th>25%</th>\n",
       "      <th>50%</th>\n",
       "      <th>75%</th>\n",
       "      <th>max</th>\n",
       "    </tr>\n",
       "  </thead>\n",
       "  <tbody>\n",
       "    <tr>\n",
       "      <th>Founded</th>\n",
       "      <td>1208.0</td>\n",
       "      <td>2016.655629</td>\n",
       "      <td>4.517364</td>\n",
       "      <td>1963.0</td>\n",
       "      <td>2015.0</td>\n",
       "      <td>2018.0</td>\n",
       "      <td>2020.0</td>\n",
       "      <td>2021.0</td>\n",
       "    </tr>\n",
       "  </tbody>\n",
       "</table>\n",
       "</div>"
      ],
      "text/plain": [
       "          count         mean       std     min     25%     50%     75%     max\n",
       "Founded  1208.0  2016.655629  4.517364  1963.0  2015.0  2018.0  2020.0  2021.0"
      ]
     },
     "execution_count": 28,
     "metadata": {},
     "output_type": "execute_result"
    }
   ],
   "source": [
    "# Descriptive statistics on the dataframe\n",
    "df_2021.describe().T"
   ]
  },
  {
   "cell_type": "code",
   "execution_count": 29,
   "metadata": {},
   "outputs": [
    {
     "name": "stdout",
     "output_type": "stream",
     "text": [
      "(1209, 9)\n",
      "There are 1209 rows, and 9 columns\n"
     ]
    }
   ],
   "source": [
    "# Check the dataframe dimensions\n",
    "print (df_2021.shape)\n",
    "print(f\"There are {df_2021.shape[0]} rows, and {df_2021.shape[1]} columns\")"
   ]
  },
  {
   "cell_type": "code",
   "execution_count": 30,
   "metadata": {},
   "outputs": [
    {
     "name": "stdout",
     "output_type": "stream",
     "text": [
      "<class 'pandas.core.frame.DataFrame'>\n",
      "RangeIndex: 1209 entries, 0 to 1208\n",
      "Data columns (total 9 columns):\n",
      " #   Column         Non-Null Count  Dtype  \n",
      "---  ------         --------------  -----  \n",
      " 0   Company_Brand  1209 non-null   object \n",
      " 1   Founded        1208 non-null   float64\n",
      " 2   HeadQuarter    1208 non-null   object \n",
      " 3   Sector         1209 non-null   object \n",
      " 4   What_it_does   1209 non-null   object \n",
      " 5   Founders       1205 non-null   object \n",
      " 6   Investor       1147 non-null   object \n",
      " 7   Amount         1206 non-null   object \n",
      " 8   Stage          781 non-null    object \n",
      "dtypes: float64(1), object(8)\n",
      "memory usage: 85.1+ KB\n"
     ]
    }
   ],
   "source": [
    "# Check the dataframe info\n",
    "df_2021.info()"
   ]
  },
  {
   "cell_type": "code",
   "execution_count": 31,
   "metadata": {},
   "outputs": [
    {
     "name": "stdout",
     "output_type": "stream",
     "text": [
      "\n",
      "Missing values in each column:\n",
      "\n",
      "Company_Brand      0\n",
      "Founded            1\n",
      "HeadQuarter        1\n",
      "Sector             0\n",
      "What_it_does       0\n",
      "Founders           4\n",
      "Investor          62\n",
      "Amount             3\n",
      "Stage            428\n",
      "dtype: int64\n",
      "\n",
      "Number of duplicated rows: 19\n",
      "\n"
     ]
    }
   ],
   "source": [
    "# # Check for total missing values in each column of the DataFrame\n",
    "missing_values = df_2021.isnull().sum()\n",
    "print()\n",
    "print(\"Missing values in each column:\")\n",
    "print()\n",
    "print(missing_values)\n",
    "print()\n",
    "\n",
    "# Check for total duplicated rows in the DataFrame\n",
    "duplicate_count = df_2021.duplicated().sum()\n",
    "print(\"Number of duplicated rows:\", duplicate_count)\n",
    "print()"
   ]
  },
  {
   "cell_type": "markdown",
   "metadata": {},
   "source": [
    "Preliminary observations of the 2021 dataset\n",
    "\n",
    "The most frequent Stage was Series Seed\n",
    "\n",
    "Most Headquarters were in Bangalore\n",
    "\n",
    "Fintech was the most frequent sector in the database"
   ]
  },
  {
   "cell_type": "markdown",
   "metadata": {},
   "source": [
    "#### General Observation from all datasets"
   ]
  },
  {
   "cell_type": "markdown",
   "metadata": {},
   "source": [
    "The 2018 dataset has less columns than the rest of the datasets\n",
    "\n",
    "The 2020 dataset has one extra column more than the 2019 and 2021 datasets\n",
    "\n",
    "The discrepancies in the columns names has already been checked and resolved"
   ]
  },
  {
   "cell_type": "markdown",
   "metadata": {},
   "source": [
    "#### Data Preparation and Cleaning"
   ]
  },
  {
   "cell_type": "markdown",
   "metadata": {},
   "source": [
    "2018 Data Preparation and Cleaning  "
   ]
  },
  {
   "cell_type": "code",
   "execution_count": 32,
   "metadata": {},
   "outputs": [
    {
     "data": {
      "text/plain": [
       "array(['250000', '₹40,000,000', '₹65,000,000', '2000000', '—', '1600000',\n",
       "       '₹16,000,000', '₹50,000,000', '₹100,000,000', '150000', '1100000',\n",
       "       '₹500,000', '6000000', '650000', '₹35,000,000', '₹64,000,000',\n",
       "       '₹20,000,000', '1000000', '5000000', '4000000', '₹30,000,000',\n",
       "       '2800000', '1700000', '1300000', '₹5,000,000', '₹12,500,000',\n",
       "       '₹15,000,000', '500000', '₹104,000,000', '₹45,000,000', '13400000',\n",
       "       '₹25,000,000', '₹26,400,000', '₹8,000,000', '₹60,000', '9000000',\n",
       "       '100000', '20000', '120000', '₹34,000,000', '₹342,000,000',\n",
       "       '$143,145', '₹600,000,000', '$742,000,000', '₹1,000,000,000',\n",
       "       '₹2,000,000,000', '$3,980,000', '$10,000', '₹100,000',\n",
       "       '₹250,000,000', '$1,000,000,000', '$7,000,000', '$35,000,000',\n",
       "       '₹550,000,000', '$28,500,000', '$2,000,000', '₹240,000,000',\n",
       "       '₹120,000,000', '$2,400,000', '$30,000,000', '₹2,500,000,000',\n",
       "       '$23,000,000', '$150,000', '$11,000,000', '₹44,000,000',\n",
       "       '$3,240,000', '₹60,000,000', '$540,000,000', '₹650,000,000',\n",
       "       '₹1,600,000,000', '$900,000', '$10,000,000', '$1,500,000',\n",
       "       '₹70,000,000', '$1,000,000', '$5,000,000', '$14,000,000',\n",
       "       '₹102,500,000', '$100,000,000', '₹1,200,000', '₹5,200,000,000',\n",
       "       '$800,000', '$1,041,000', '$100,000', '$15,000', '1400000',\n",
       "       '1200000', '2200000', '1800000', '3600000', '₹9,500,000', '300000',\n",
       "       '6830000', '200000', '₹150,000,000', '4300000', '364846', '400000',\n",
       "       '1500000', '₹7,000,000', '₹1,400,000', '₹10,000,000',\n",
       "       '₹22,500,000', '13200000', '50000', '₹140,200,000', '3000000',\n",
       "       '1250000', '180000', '₹19,200,000', '₹103,000,000', '4200000',\n",
       "       '175000', '1450000', '₹200,000', '4500000', '600000',\n",
       "       '₹16,600,000', '₹12,000,000', '15000000', '₹33,000,000', '125000',\n",
       "       '130000', '₹34,900,000', '₹72,000,000', '17200000', '₹32,000,000',\n",
       "       '3500000', '₹135,000,000', '12000000', '$40,000,000', '$1,100,000',\n",
       "       '$50,000,000', '₹1,540,000,000', '$3,000,000', '$6,000,000',\n",
       "       '₹140,000,000', '$41,900,000', '₹1,410,000,000', '$3,530,000',\n",
       "       '$200,000', '$3,300,000', '₹580,000,000', '₹36,000,000',\n",
       "       '₹340,000,000', '$210,000,000', '$37,680,000', '$250,000',\n",
       "       '$20,000', '₹510,000,000', '₹2,200,000,000', '22000000', '70000',\n",
       "       '10000000', '₹15,392,000,000', '₹20,000,000,000', '₹4,000,000,000',\n",
       "       '185000000', '65000000', '₹165,000,000', '700000', '30000000',\n",
       "       '₹210,000,000', '210000000', '₹2,029,600,000', '75000000',\n",
       "       '₹80,000,000', '1760000', '2700000', '₹280,000,000',\n",
       "       '₹800,000,000', '750000', '2500000', '80000000', '25000000',\n",
       "       '₹730,000,000', '₹400,000,000', '3700000', '5600000',\n",
       "       '₹260,000,000', '99230000', '70000000', '40000', '550000',\n",
       "       '50000000', '365000000', '₹8,750,000', '₹78,000,000', '28000000',\n",
       "       '₹264,000,000', '100000000', '₹1,130,000,000', '₹810,000,000',\n",
       "       '₹1,400,000,000', '14900000', '225000000', '7500', '35000000'],\n",
       "      dtype=object)"
      ]
     },
     "execution_count": 32,
     "metadata": {},
     "output_type": "execute_result"
    }
   ],
   "source": [
    "# Preview Amount column of the dataset\n",
    "\n",
    "df_2018[\"Amount\"].unique()"
   ]
  },
  {
   "cell_type": "code",
   "execution_count": 33,
   "metadata": {},
   "outputs": [],
   "source": [
    "# Create a function to clean the Amount column of the 2018 DataFrame and convert Indian Rupees to US Dollars\n",
    "\n",
    "def clean_amount_2018(Amount):\n",
    "    try:\n",
    "        Amount = str(Amount)\n",
    "        # Remove commas\n",
    "        Amount = Amount.replace(\",\", \"\")\n",
    "        Amount = Amount.replace('—', \"\")\n",
    "        # Check if the value is in Indian Rupees and convert US Dollars: Using USD = 68.4113 which was the average annual Indian Rupee to US Dollars in 2018\n",
    "        if \"₹\" in Amount:\n",
    "            Amount = Amount.replace(\"₹\", \"\")\n",
    "            return round(float(Amount) / 68.4113, 2)\n",
    "        # Check if the value is in US Dollars\n",
    "        elif \"$\" in Amount:\n",
    "            Amount = Amount.replace(\"$\", \"\")\n",
    "            return round (float(Amount), 2)\n",
    "        # check if no currency symbol is present, assume US Dollars\n",
    "        else:\n",
    "            return round(float(Amount), 2)\n",
    "    except ValueError:\n",
    "        # If the value is not a number, return NaN\n",
    "        return np.nan\n",
    "        \n",
    "# Clean the Amount column of the 2018 DataFrame\n",
    "df_2018[\"Amount\"] = df_2018[\"Amount\"].apply(clean_amount_2018)"
   ]
  },
  {
   "cell_type": "code",
   "execution_count": 34,
   "metadata": {},
   "outputs": [
    {
     "data": {
      "text/html": [
       "<div>\n",
       "<style scoped>\n",
       "    .dataframe tbody tr th:only-of-type {\n",
       "        vertical-align: middle;\n",
       "    }\n",
       "\n",
       "    .dataframe tbody tr th {\n",
       "        vertical-align: top;\n",
       "    }\n",
       "\n",
       "    .dataframe thead th {\n",
       "        text-align: right;\n",
       "    }\n",
       "</style>\n",
       "<table border=\"1\" class=\"dataframe\">\n",
       "  <thead>\n",
       "    <tr style=\"text-align: right;\">\n",
       "      <th></th>\n",
       "      <th>Amount</th>\n",
       "    </tr>\n",
       "  </thead>\n",
       "  <tbody>\n",
       "    <tr>\n",
       "      <th>0</th>\n",
       "      <td>250000.00</td>\n",
       "    </tr>\n",
       "    <tr>\n",
       "      <th>1</th>\n",
       "      <td>584698.73</td>\n",
       "    </tr>\n",
       "    <tr>\n",
       "      <th>2</th>\n",
       "      <td>950135.43</td>\n",
       "    </tr>\n",
       "    <tr>\n",
       "      <th>3</th>\n",
       "      <td>2000000.00</td>\n",
       "    </tr>\n",
       "    <tr>\n",
       "      <th>4</th>\n",
       "      <td>NaN</td>\n",
       "    </tr>\n",
       "  </tbody>\n",
       "</table>\n",
       "</div>"
      ],
      "text/plain": [
       "       Amount\n",
       "0   250000.00\n",
       "1   584698.73\n",
       "2   950135.43\n",
       "3  2000000.00\n",
       "4         NaN"
      ]
     },
     "execution_count": 34,
     "metadata": {},
     "output_type": "execute_result"
    }
   ],
   "source": [
    "\n",
    "df_2018.loc[:,['Amount']].head()"
   ]
  },
  {
   "cell_type": "code",
   "execution_count": 35,
   "metadata": {},
   "outputs": [
    {
     "name": "stdout",
     "output_type": "stream",
     "text": [
      "<class 'pandas.core.frame.DataFrame'>\n",
      "RangeIndex: 526 entries, 0 to 525\n",
      "Data columns (total 6 columns):\n",
      " #   Column         Non-Null Count  Dtype  \n",
      "---  ------         --------------  -----  \n",
      " 0   Company_Brand  526 non-null    object \n",
      " 1   Sector         526 non-null    object \n",
      " 2   Stage          526 non-null    object \n",
      " 3   Amount         378 non-null    float64\n",
      " 4   HeadQuarter    526 non-null    object \n",
      " 5   What_it_does   526 non-null    object \n",
      "dtypes: float64(1), object(5)\n",
      "memory usage: 24.8+ KB\n"
     ]
    }
   ],
   "source": [
    "df_2018.info()"
   ]
  },
  {
   "cell_type": "code",
   "execution_count": 36,
   "metadata": {},
   "outputs": [
    {
     "data": {
      "text/plain": [
       "Company_Brand                                       BuyForexOnline\n",
       "Sector                                                      Travel\n",
       "Stage            https://docs.google.com/spreadsheets/d/1x9ziNe...\n",
       "Amount                                                   2000000.0\n",
       "HeadQuarter                            Bangalore, Karnataka, India\n",
       "What_it_does     BuyForexOnline.com is India's first completely...\n",
       "Name: 178, dtype: object"
      ]
     },
     "execution_count": 36,
     "metadata": {},
     "output_type": "execute_result"
    }
   ],
   "source": [
    "\n",
    "df_2018.loc[(178)]"
   ]
  },
  {
   "cell_type": "code",
   "execution_count": 37,
   "metadata": {},
   "outputs": [],
   "source": [
    "# Convert the Stage column of the 2018 DataFrame into a string \n",
    "\n",
    "# Set the value of a specific cell in the \"Stage\" column to an empty string\n",
    "df_2018.loc[178, [\"Stage\"]] = [\"\"]\n",
    "\n",
    "# Replace \"Undisclosed\" with an empty string in the entire \"Stage\" column\n",
    "df_2018[\"Stage\"] = df_2018[\"Stage\"].astype(str).replace(\"Undisclosed\", \"\")"
   ]
  },
  {
   "cell_type": "code",
   "execution_count": 38,
   "metadata": {},
   "outputs": [
    {
     "data": {
      "text/plain": [
       "Company_Brand                                       BuyForexOnline\n",
       "Sector                                                      Travel\n",
       "Stage                                                             \n",
       "Amount                                                   2000000.0\n",
       "HeadQuarter                            Bangalore, Karnataka, India\n",
       "What_it_does     BuyForexOnline.com is India's first completely...\n",
       "Name: 178, dtype: object"
      ]
     },
     "execution_count": 38,
     "metadata": {},
     "output_type": "execute_result"
    }
   ],
   "source": [
    "#Verify that the row 178 of the \"Stage\" column has been cleaned up\n",
    "df_2018.loc[(178)]"
   ]
  },
  {
   "cell_type": "code",
   "execution_count": 39,
   "metadata": {},
   "outputs": [
    {
     "name": "stdout",
     "output_type": "stream",
     "text": [
      "Sector\n",
      "—                                              30\n",
      "Financial Services                             15\n",
      "Education                                       8\n",
      "Information Technology                          7\n",
      "Health Care, Hospital                           5\n",
      "                                               ..\n",
      "Education, Gaming, Training                     1\n",
      "Automotive, Search Engine, Service Industry     1\n",
      "Wealth Management                               1\n",
      "B2B, Farming, Marketplace                       1\n",
      "Biotechnology, Health Care, Pharmaceutical      1\n",
      "Name: count, Length: 405, dtype: int64\n"
     ]
    }
   ],
   "source": [
    "# View the frequency of unique values in the Sector column: This column requires recategorization of the values in the Sector hence will be fixed after concatenation with the other dataset\n",
    "sec_freq = df_2018[\"Sector\"].value_counts(dropna=False)\n",
    "\n",
    "# Display the frequencies\n",
    "print(sec_freq)"
   ]
  },
  {
   "cell_type": "code",
   "execution_count": 40,
   "metadata": {},
   "outputs": [
    {
     "data": {
      "text/plain": [
       "0         Brand Marketing\n",
       "1             Agriculture\n",
       "2                  Credit\n",
       "3      Financial Services\n",
       "4    E-Commerce Platforms\n",
       "Name: Sector, dtype: object"
      ]
     },
     "execution_count": 40,
     "metadata": {},
     "output_type": "execute_result"
    }
   ],
   "source": [
    "# Strip the first element of the \"Sector\" column and return the first element of the \"Sector\" column.\n",
    "\n",
    "df_2018['Sector'] = df_2018.Sector.str.split(',').str[0]\n",
    "df_2018['Sector'].head()"
   ]
  },
  {
   "cell_type": "code",
   "execution_count": 41,
   "metadata": {},
   "outputs": [
    {
     "data": {
      "text/plain": [
       "0         Bangalore, Karnataka, India\n",
       "1          Mumbai, Maharashtra, India\n",
       "2             Gurgaon, Haryana, India\n",
       "3         Noida, Uttar Pradesh, India\n",
       "4    Hyderabad, Andhra Pradesh, India\n",
       "Name: HeadQuarter, dtype: object"
      ]
     },
     "execution_count": 41,
     "metadata": {},
     "output_type": "execute_result"
    }
   ],
   "source": [
    "# Preview HeadQuarter column\n",
    "df_2018[\"HeadQuarter\"].head()"
   ]
  },
  {
   "cell_type": "code",
   "execution_count": 42,
   "metadata": {},
   "outputs": [
    {
     "data": {
      "text/plain": [
       "0    Bangalore\n",
       "1       Mumbai\n",
       "2      Gurgaon\n",
       "3        Noida\n",
       "4    Hyderabad\n",
       "Name: HeadQuarter, dtype: object"
      ]
     },
     "execution_count": 42,
     "metadata": {},
     "output_type": "execute_result"
    }
   ],
   "source": [
    "# Strip the first element of the \"HeadQuarter\" column and return the first element\n",
    "df_2018['HeadQuarter'] = df_2018.HeadQuarter.str.split(',').str[0]\n",
    "df_2018['HeadQuarter'].head()"
   ]
  },
  {
   "cell_type": "code",
   "execution_count": 43,
   "metadata": {},
   "outputs": [
    {
     "name": "stdout",
     "output_type": "stream",
     "text": [
      "Number of duplicated rows: 1\n",
      "\n"
     ]
    },
    {
     "data": {
      "text/html": [
       "<div>\n",
       "<style scoped>\n",
       "    .dataframe tbody tr th:only-of-type {\n",
       "        vertical-align: middle;\n",
       "    }\n",
       "\n",
       "    .dataframe tbody tr th {\n",
       "        vertical-align: top;\n",
       "    }\n",
       "\n",
       "    .dataframe thead th {\n",
       "        text-align: right;\n",
       "    }\n",
       "</style>\n",
       "<table border=\"1\" class=\"dataframe\">\n",
       "  <thead>\n",
       "    <tr style=\"text-align: right;\">\n",
       "      <th></th>\n",
       "      <th>Company_Brand</th>\n",
       "      <th>Sector</th>\n",
       "      <th>Stage</th>\n",
       "      <th>Amount</th>\n",
       "      <th>HeadQuarter</th>\n",
       "      <th>What_it_does</th>\n",
       "    </tr>\n",
       "  </thead>\n",
       "  <tbody>\n",
       "  </tbody>\n",
       "</table>\n",
       "</div>"
      ],
      "text/plain": [
       "Empty DataFrame\n",
       "Columns: [Company_Brand, Sector, Stage, Amount, HeadQuarter, What_it_does]\n",
       "Index: []"
      ]
     },
     "execution_count": 43,
     "metadata": {},
     "output_type": "execute_result"
    }
   ],
   "source": [
    "# Check for total duplicated rows in the DataFrame\n",
    "duplicate_count = df_2018.duplicated().sum()\n",
    "print(\"Number of duplicated rows:\", duplicate_count)\n",
    "print()\n",
    "\n",
    "# Select rows where the count of missing values is greater than 1\n",
    "df_2018[df_2018.isnull().sum(axis=1) > 1]"
   ]
  },
  {
   "cell_type": "code",
   "execution_count": 44,
   "metadata": {},
   "outputs": [],
   "source": [
    "# Convert the amount column to numeric data type\n",
    "df_2018['Amount'] = pd.to_numeric(df_2018['Amount'], errors='coerce')"
   ]
  },
  {
   "cell_type": "code",
   "execution_count": 45,
   "metadata": {},
   "outputs": [
    {
     "name": "stdout",
     "output_type": "stream",
     "text": [
      "1300000.0\n"
     ]
    }
   ],
   "source": [
    "# Fill missing values in the \"Amount\" column with its median value\n",
    "amt_med = df_2018['Amount'].median()\n",
    "print(amt_med)\n",
    "\n",
    "# Fill missing values in the \"Amount\" column with its median value\n",
    "\n",
    "df_2018.fillna({'Amount': df_2018['Amount'].median()}, inplace=True)"
   ]
  },
  {
   "cell_type": "markdown",
   "metadata": {},
   "source": [
    "2019 Data preparation and cleaning"
   ]
  },
  {
   "cell_type": "code",
   "execution_count": 46,
   "metadata": {},
   "outputs": [
    {
     "name": "stdout",
     "output_type": "stream",
     "text": [
      "<class 'pandas.core.frame.DataFrame'>\n",
      "RangeIndex: 89 entries, 0 to 88\n",
      "Data columns (total 9 columns):\n",
      " #   Column         Non-Null Count  Dtype  \n",
      "---  ------         --------------  -----  \n",
      " 0   Company_Brand  89 non-null     object \n",
      " 1   Founded        60 non-null     float64\n",
      " 2   HeadQuarter    70 non-null     object \n",
      " 3   Sector         84 non-null     object \n",
      " 4   What_it_does   89 non-null     object \n",
      " 5   Founders       86 non-null     object \n",
      " 6   Investor       89 non-null     object \n",
      " 7   Amount         89 non-null     object \n",
      " 8   Stage          43 non-null     object \n",
      "dtypes: float64(1), object(8)\n",
      "memory usage: 6.4+ KB\n"
     ]
    }
   ],
   "source": [
    "# Preview info for the DataFrame\n",
    "df_2019.info()"
   ]
  },
  {
   "cell_type": "code",
   "execution_count": 47,
   "metadata": {},
   "outputs": [
    {
     "data": {
      "text/plain": [
       "Company_Brand    0.000000\n",
       "Founded          0.325843\n",
       "HeadQuarter      0.213483\n",
       "Sector           0.056180\n",
       "What_it_does     0.000000\n",
       "Founders         0.033708\n",
       "Investor         0.000000\n",
       "Amount           0.000000\n",
       "Stage            0.516854\n",
       "dtype: float64"
      ]
     },
     "execution_count": 47,
     "metadata": {},
     "output_type": "execute_result"
    }
   ],
   "source": [
    "# check the missing values in the dataframe\n",
    "df_2019.isnull().mean()"
   ]
  },
  {
   "cell_type": "code",
   "execution_count": 48,
   "metadata": {},
   "outputs": [
    {
     "data": {
      "text/plain": [
       "array(['$6,300,000', '$150,000,000', '$28,000,000', '$30,000,000',\n",
       "       '$6,000,000', 'Undisclosed', '$1,000,000', '$20,000,000',\n",
       "       '$275,000,000', '$22,000,000', '$5,000,000', '$140,500',\n",
       "       '$540,000,000', '$15,000,000', '$182,700', '$12,000,000',\n",
       "       '$11,000,000', '$15,500,000', '$1,500,000', '$5,500,000',\n",
       "       '$2,500,000', '$140,000', '$230,000,000', '$49,400,000',\n",
       "       '$32,000,000', '$26,000,000', '$150,000', '$400,000', '$2,000,000',\n",
       "       '$100,000,000', '$8,000,000', '$100,000', '$50,000,000',\n",
       "       '$120,000,000', '$4,000,000', '$6,800,000', '$36,000,000',\n",
       "       '$5,700,000', '$25,000,000', '$600,000', '$70,000,000',\n",
       "       '$60,000,000', '$220,000', '$2,800,000', '$2,100,000',\n",
       "       '$7,000,000', '$311,000,000', '$4,800,000', '$693,000,000',\n",
       "       '$33,000,000'], dtype=object)"
      ]
     },
     "execution_count": 48,
     "metadata": {},
     "output_type": "execute_result"
    }
   ],
   "source": [
    "# Preview the Amount column\n",
    "df_2019[\"Amount\"].unique()"
   ]
  },
  {
   "cell_type": "code",
   "execution_count": 49,
   "metadata": {},
   "outputs": [
    {
     "data": {
      "text/plain": [
       "Company_Brand    0.000000\n",
       "Founded          0.325843\n",
       "HeadQuarter      0.213483\n",
       "Sector           0.056180\n",
       "What_it_does     0.000000\n",
       "Founders         0.033708\n",
       "Investor         0.000000\n",
       "Amount           0.000000\n",
       "Stage            0.516854\n",
       "dtype: float64"
      ]
     },
     "execution_count": 49,
     "metadata": {},
     "output_type": "execute_result"
    }
   ],
   "source": [
    "df_2019.isnull().mean()"
   ]
  },
  {
   "cell_type": "code",
   "execution_count": 50,
   "metadata": {},
   "outputs": [],
   "source": [
    "# clean the Amount column of the DataFrame\n",
    "\n",
    "def clean_amount(Amount):\n",
    "    try:\n",
    "        Amount = str(Amount)\n",
    "        #Remove the commas\n",
    "        Amount = Amount.replace(',', '')\n",
    "        Amount = Amount.replace('Undisclosed', '')\n",
    "        #Replace the dollar sign nothing\n",
    "        if '$' in Amount:\n",
    "            Amount = Amount.replace('$', '')\n",
    "            return round(float(Amount), 2)\n",
    "        #If no currency symbol, assume USD\n",
    "        else:\n",
    "            return round(float(Amount), 2)\n",
    "    except ValueError:\n",
    "        #For non-numeric values, return NaN\n",
    "        return np.nan\n",
    "# Apply the cleaning function to the Amount column  \n",
    "\n",
    "df_2019[\"Amount\"] = df_2019[\"Amount\"].apply(clean_amount)"
   ]
  },
  {
   "cell_type": "code",
   "execution_count": 51,
   "metadata": {},
   "outputs": [
    {
     "data": {
      "text/html": [
       "<div>\n",
       "<style scoped>\n",
       "    .dataframe tbody tr th:only-of-type {\n",
       "        vertical-align: middle;\n",
       "    }\n",
       "\n",
       "    .dataframe tbody tr th {\n",
       "        vertical-align: top;\n",
       "    }\n",
       "\n",
       "    .dataframe thead th {\n",
       "        text-align: right;\n",
       "    }\n",
       "</style>\n",
       "<table border=\"1\" class=\"dataframe\">\n",
       "  <thead>\n",
       "    <tr style=\"text-align: right;\">\n",
       "      <th></th>\n",
       "      <th>Amount</th>\n",
       "    </tr>\n",
       "  </thead>\n",
       "  <tbody>\n",
       "    <tr>\n",
       "      <th>0</th>\n",
       "      <td>6300000.0</td>\n",
       "    </tr>\n",
       "    <tr>\n",
       "      <th>1</th>\n",
       "      <td>150000000.0</td>\n",
       "    </tr>\n",
       "    <tr>\n",
       "      <th>2</th>\n",
       "      <td>28000000.0</td>\n",
       "    </tr>\n",
       "    <tr>\n",
       "      <th>3</th>\n",
       "      <td>30000000.0</td>\n",
       "    </tr>\n",
       "    <tr>\n",
       "      <th>4</th>\n",
       "      <td>6000000.0</td>\n",
       "    </tr>\n",
       "  </tbody>\n",
       "</table>\n",
       "</div>"
      ],
      "text/plain": [
       "        Amount\n",
       "0    6300000.0\n",
       "1  150000000.0\n",
       "2   28000000.0\n",
       "3   30000000.0\n",
       "4    6000000.0"
      ]
     },
     "execution_count": 51,
     "metadata": {},
     "output_type": "execute_result"
    }
   ],
   "source": [
    "# Verify if the anount column has been effected\n",
    "df_2019.loc[:,['Amount']].head()"
   ]
  },
  {
   "cell_type": "code",
   "execution_count": 52,
   "metadata": {},
   "outputs": [
    {
     "name": "stdout",
     "output_type": "stream",
     "text": [
      "<class 'pandas.core.frame.DataFrame'>\n",
      "RangeIndex: 89 entries, 0 to 88\n",
      "Data columns (total 9 columns):\n",
      " #   Column         Non-Null Count  Dtype  \n",
      "---  ------         --------------  -----  \n",
      " 0   Company_Brand  89 non-null     object \n",
      " 1   Founded        60 non-null     float64\n",
      " 2   HeadQuarter    70 non-null     object \n",
      " 3   Sector         84 non-null     object \n",
      " 4   What_it_does   89 non-null     object \n",
      " 5   Founders       86 non-null     object \n",
      " 6   Investor       89 non-null     object \n",
      " 7   Amount         77 non-null     float64\n",
      " 8   Stage          43 non-null     object \n",
      "dtypes: float64(2), object(7)\n",
      "memory usage: 6.4+ KB\n"
     ]
    }
   ],
   "source": [
    "df_2019.info()"
   ]
  },
  {
   "cell_type": "code",
   "execution_count": 53,
   "metadata": {},
   "outputs": [
    {
     "data": {
      "text/plain": [
       "0          Ecommerce\n",
       "1             Edtech\n",
       "2             Edtech\n",
       "3    Interior design\n",
       "4           AgriTech\n",
       "Name: Sector, dtype: object"
      ]
     },
     "execution_count": 53,
     "metadata": {},
     "output_type": "execute_result"
    }
   ],
   "source": [
    "# Strip the first element of the \"Sector\" column and return the first element of the \"Sector\" column.\n",
    "\n",
    "df_2019['Sector'] = df_2019.Sector.str.split(',').str[0]\n",
    "df_2019['Sector'].head()"
   ]
  },
  {
   "cell_type": "code",
   "execution_count": 54,
   "metadata": {},
   "outputs": [
    {
     "data": {
      "text/plain": [
       "0          NaN\n",
       "1       Mumbai\n",
       "2       Mumbai\n",
       "3      Chennai\n",
       "4    Telangana\n",
       "Name: HeadQuarter, dtype: object"
      ]
     },
     "execution_count": 54,
     "metadata": {},
     "output_type": "execute_result"
    }
   ],
   "source": [
    "# Preview HeadQuarter column\n",
    "df_2019[\"HeadQuarter\"].head()"
   ]
  },
  {
   "cell_type": "code",
   "execution_count": 55,
   "metadata": {},
   "outputs": [
    {
     "data": {
      "text/plain": [
       "0          NaN\n",
       "1       Mumbai\n",
       "2       Mumbai\n",
       "3      Chennai\n",
       "4    Telangana\n",
       "Name: HeadQuarter, dtype: object"
      ]
     },
     "execution_count": 55,
     "metadata": {},
     "output_type": "execute_result"
    }
   ],
   "source": [
    "# Strip the first element of the \"HeadQuarter\" column and return the first element\n",
    "df_2019['HeadQuarter'] = df_2019.HeadQuarter.str.split(',').str[0]\n",
    "df_2019['HeadQuarter'].head()"
   ]
  },
  {
   "cell_type": "code",
   "execution_count": 56,
   "metadata": {},
   "outputs": [
    {
     "name": "stdout",
     "output_type": "stream",
     "text": [
      "Number of duplicated rows: 0\n",
      "\n"
     ]
    },
    {
     "data": {
      "text/html": [
       "<div>\n",
       "<style scoped>\n",
       "    .dataframe tbody tr th:only-of-type {\n",
       "        vertical-align: middle;\n",
       "    }\n",
       "\n",
       "    .dataframe tbody tr th {\n",
       "        vertical-align: top;\n",
       "    }\n",
       "\n",
       "    .dataframe thead th {\n",
       "        text-align: right;\n",
       "    }\n",
       "</style>\n",
       "<table border=\"1\" class=\"dataframe\">\n",
       "  <thead>\n",
       "    <tr style=\"text-align: right;\">\n",
       "      <th></th>\n",
       "      <th>Company_Brand</th>\n",
       "      <th>Founded</th>\n",
       "      <th>HeadQuarter</th>\n",
       "      <th>Sector</th>\n",
       "      <th>What_it_does</th>\n",
       "      <th>Founders</th>\n",
       "      <th>Investor</th>\n",
       "      <th>Amount</th>\n",
       "      <th>Stage</th>\n",
       "    </tr>\n",
       "  </thead>\n",
       "  <tbody>\n",
       "    <tr>\n",
       "      <th>0</th>\n",
       "      <td>Bombay Shaving</td>\n",
       "      <td>NaN</td>\n",
       "      <td>NaN</td>\n",
       "      <td>Ecommerce</td>\n",
       "      <td>Provides a range of male grooming products</td>\n",
       "      <td>Shantanu Deshpande</td>\n",
       "      <td>Sixth Sense Ventures</td>\n",
       "      <td>6300000.0</td>\n",
       "      <td>NaN</td>\n",
       "    </tr>\n",
       "    <tr>\n",
       "      <th>5</th>\n",
       "      <td>FlytBase</td>\n",
       "      <td>NaN</td>\n",
       "      <td>Pune</td>\n",
       "      <td>Technology</td>\n",
       "      <td>A drone automation platform</td>\n",
       "      <td>Nitin Gupta</td>\n",
       "      <td>Undisclosed</td>\n",
       "      <td>NaN</td>\n",
       "      <td>NaN</td>\n",
       "    </tr>\n",
       "    <tr>\n",
       "      <th>6</th>\n",
       "      <td>Finly</td>\n",
       "      <td>NaN</td>\n",
       "      <td>Bangalore</td>\n",
       "      <td>SaaS</td>\n",
       "      <td>It builds software products that makes work si...</td>\n",
       "      <td>Vivek AG, Veekshith C Rai</td>\n",
       "      <td>Social Capital, AngelList India, Gemba Capital...</td>\n",
       "      <td>NaN</td>\n",
       "      <td>NaN</td>\n",
       "    </tr>\n",
       "    <tr>\n",
       "      <th>8</th>\n",
       "      <td>Quantiphi</td>\n",
       "      <td>NaN</td>\n",
       "      <td>NaN</td>\n",
       "      <td>AI &amp; Tech</td>\n",
       "      <td>It is an AI and big data services company prov...</td>\n",
       "      <td>Renuka Ramnath</td>\n",
       "      <td>Multiples Alternate Asset Management</td>\n",
       "      <td>20000000.0</td>\n",
       "      <td>Series A</td>\n",
       "    </tr>\n",
       "    <tr>\n",
       "      <th>10</th>\n",
       "      <td>Cub McPaws</td>\n",
       "      <td>2010.0</td>\n",
       "      <td>Mumbai</td>\n",
       "      <td>E-commerce &amp; AR</td>\n",
       "      <td>A B2C  brand that focusses on premium and comf...</td>\n",
       "      <td>Abhay Bhat, Kinnar Shah</td>\n",
       "      <td>Venture Catalysts</td>\n",
       "      <td>NaN</td>\n",
       "      <td>NaN</td>\n",
       "    </tr>\n",
       "    <tr>\n",
       "      <th>11</th>\n",
       "      <td>Appnomic</td>\n",
       "      <td>NaN</td>\n",
       "      <td>Bangalore</td>\n",
       "      <td>SaaS</td>\n",
       "      <td>It is a self-healing enterprise, the IT operat...</td>\n",
       "      <td>D Padmanabhan</td>\n",
       "      <td>Avataar Ventures</td>\n",
       "      <td>22000000.0</td>\n",
       "      <td>NaN</td>\n",
       "    </tr>\n",
       "    <tr>\n",
       "      <th>14</th>\n",
       "      <td>Open Secret</td>\n",
       "      <td>NaN</td>\n",
       "      <td>NaN</td>\n",
       "      <td>Food tech</td>\n",
       "      <td>It produces and sells top quality snacks</td>\n",
       "      <td>Ahana Gautam, Udit Kejriwal</td>\n",
       "      <td>Matrix Partners</td>\n",
       "      <td>NaN</td>\n",
       "      <td>NaN</td>\n",
       "    </tr>\n",
       "    <tr>\n",
       "      <th>16</th>\n",
       "      <td>Byju's</td>\n",
       "      <td>2011.0</td>\n",
       "      <td>NaN</td>\n",
       "      <td>Edtech</td>\n",
       "      <td>Provides online learning classes</td>\n",
       "      <td>Byju Raveendran</td>\n",
       "      <td>South Africa’s Naspers Ventures, the CPP Inves...</td>\n",
       "      <td>540000000.0</td>\n",
       "      <td>NaN</td>\n",
       "    </tr>\n",
       "    <tr>\n",
       "      <th>18</th>\n",
       "      <td>Witblox</td>\n",
       "      <td>2014.0</td>\n",
       "      <td>NaN</td>\n",
       "      <td>Edtech</td>\n",
       "      <td>Offers a range of robotics learning tools</td>\n",
       "      <td>Amit Modi</td>\n",
       "      <td>Mumbai Angels Network</td>\n",
       "      <td>182700.0</td>\n",
       "      <td>NaN</td>\n",
       "    </tr>\n",
       "    <tr>\n",
       "      <th>20</th>\n",
       "      <td>SalaryFits</td>\n",
       "      <td>2015.0</td>\n",
       "      <td>NaN</td>\n",
       "      <td>Fintech</td>\n",
       "      <td>A platform that promotes financial well-being ...</td>\n",
       "      <td>Renato Araujo</td>\n",
       "      <td>Brazilian VC Fund Confrapar</td>\n",
       "      <td>5000000.0</td>\n",
       "      <td>NaN</td>\n",
       "    </tr>\n",
       "    <tr>\n",
       "      <th>23</th>\n",
       "      <td>DROR Labs Pvt. Ltd</td>\n",
       "      <td>2018.0</td>\n",
       "      <td>Delhi</td>\n",
       "      <td>Safety tech</td>\n",
       "      <td>It uses technology to create a trust-based net...</td>\n",
       "      <td>Dhiraj Naubhar, Dheeraj Bansal</td>\n",
       "      <td>Inflection Point Ventures</td>\n",
       "      <td>NaN</td>\n",
       "      <td>NaN</td>\n",
       "    </tr>\n",
       "    <tr>\n",
       "      <th>27</th>\n",
       "      <td>Fireflies .ai</td>\n",
       "      <td>NaN</td>\n",
       "      <td>NaN</td>\n",
       "      <td>AI</td>\n",
       "      <td>Developer of an artificial intelligence-powere...</td>\n",
       "      <td>Sam Udotong</td>\n",
       "      <td>Canaan Partners</td>\n",
       "      <td>5000000.0</td>\n",
       "      <td>NaN</td>\n",
       "    </tr>\n",
       "    <tr>\n",
       "      <th>31</th>\n",
       "      <td>truMe</td>\n",
       "      <td>NaN</td>\n",
       "      <td>NaN</td>\n",
       "      <td>IoT</td>\n",
       "      <td>A global platform for Identity and Access Mana...</td>\n",
       "      <td>Babu Dayal, Pramod Uniyal, Lalit Mehta</td>\n",
       "      <td>Rajan Kaistha</td>\n",
       "      <td>140000.0</td>\n",
       "      <td>NaN</td>\n",
       "    </tr>\n",
       "    <tr>\n",
       "      <th>32</th>\n",
       "      <td>Pumpkart</td>\n",
       "      <td>2014.0</td>\n",
       "      <td>Chandigarh</td>\n",
       "      <td>E-marketplace</td>\n",
       "      <td>B2B model for appliances and electrical products</td>\n",
       "      <td>KS Bhatia</td>\n",
       "      <td>Dinesh Dua</td>\n",
       "      <td>NaN</td>\n",
       "      <td>NaN</td>\n",
       "    </tr>\n",
       "    <tr>\n",
       "      <th>39</th>\n",
       "      <td>Lil’ Goodness and sCool meal</td>\n",
       "      <td>NaN</td>\n",
       "      <td>Bangalore</td>\n",
       "      <td>Food &amp; Nutrition</td>\n",
       "      <td>It empowers moms to provide the best of foods ...</td>\n",
       "      <td>NaN</td>\n",
       "      <td>Sajan Pillai, Muthu Krishnan,</td>\n",
       "      <td>400000.0</td>\n",
       "      <td>NaN</td>\n",
       "    </tr>\n",
       "    <tr>\n",
       "      <th>41</th>\n",
       "      <td>VMate</td>\n",
       "      <td>NaN</td>\n",
       "      <td>NaN</td>\n",
       "      <td>NaN</td>\n",
       "      <td>A short video platform</td>\n",
       "      <td>NaN</td>\n",
       "      <td>Alibaba</td>\n",
       "      <td>100000000.0</td>\n",
       "      <td>NaN</td>\n",
       "    </tr>\n",
       "    <tr>\n",
       "      <th>43</th>\n",
       "      <td>Slintel</td>\n",
       "      <td>2016.0</td>\n",
       "      <td>NaN</td>\n",
       "      <td>SaaS</td>\n",
       "      <td>It helps sales and marketing teams understand ...</td>\n",
       "      <td>Deepak Anchala</td>\n",
       "      <td>Stellaris Ventures</td>\n",
       "      <td>1500000.0</td>\n",
       "      <td>NaN</td>\n",
       "    </tr>\n",
       "    <tr>\n",
       "      <th>44</th>\n",
       "      <td>MyGameMate</td>\n",
       "      <td>NaN</td>\n",
       "      <td>Bangalore</td>\n",
       "      <td>E-Sports</td>\n",
       "      <td>eSports platform where players can access vari...</td>\n",
       "      <td>Parshavv Jain&amp; Raju Kushwaha</td>\n",
       "      <td>Jindagi Live Angels,</td>\n",
       "      <td>100000.0</td>\n",
       "      <td>NaN</td>\n",
       "    </tr>\n",
       "    <tr>\n",
       "      <th>45</th>\n",
       "      <td>Afinoz</td>\n",
       "      <td>NaN</td>\n",
       "      <td>Noida</td>\n",
       "      <td>Fintech</td>\n",
       "      <td>Online financial marketplace for customized ra...</td>\n",
       "      <td>Rachna Suneja</td>\n",
       "      <td>Fintech innovation lab</td>\n",
       "      <td>NaN</td>\n",
       "      <td>NaN</td>\n",
       "    </tr>\n",
       "    <tr>\n",
       "      <th>54</th>\n",
       "      <td>Ninjacart</td>\n",
       "      <td>2015.0</td>\n",
       "      <td>NaN</td>\n",
       "      <td>B2B Supply Chain</td>\n",
       "      <td>It connects producers of food directly to reta...</td>\n",
       "      <td>Thirukumaran Nagarajanin, Vasudevan Chinnathambi</td>\n",
       "      <td>Walmart, Flipkart</td>\n",
       "      <td>NaN</td>\n",
       "      <td>NaN</td>\n",
       "    </tr>\n",
       "    <tr>\n",
       "      <th>55</th>\n",
       "      <td>Binca Games</td>\n",
       "      <td>2014.0</td>\n",
       "      <td>Mumbai</td>\n",
       "      <td>Games</td>\n",
       "      <td>It offers games that are available across Indi...</td>\n",
       "      <td>Rubianca Wadhwa, Sahil Wadhwa</td>\n",
       "      <td>Sunil Gavaskar</td>\n",
       "      <td>NaN</td>\n",
       "      <td>NaN</td>\n",
       "    </tr>\n",
       "    <tr>\n",
       "      <th>56</th>\n",
       "      <td>KredX</td>\n",
       "      <td>NaN</td>\n",
       "      <td>Bangalore</td>\n",
       "      <td>NaN</td>\n",
       "      <td>Invoice discounting platform</td>\n",
       "      <td>Manish Kumar</td>\n",
       "      <td>Tiger Global Management</td>\n",
       "      <td>26000000.0</td>\n",
       "      <td>Series B</td>\n",
       "    </tr>\n",
       "    <tr>\n",
       "      <th>57</th>\n",
       "      <td>m.Paani</td>\n",
       "      <td>NaN</td>\n",
       "      <td>Mumbai</td>\n",
       "      <td>NaN</td>\n",
       "      <td>It digitizes and organises local retailers</td>\n",
       "      <td>Akanksha Hazari</td>\n",
       "      <td>AC Ventures, Henkel</td>\n",
       "      <td>5500000.0</td>\n",
       "      <td>Series A</td>\n",
       "    </tr>\n",
       "    <tr>\n",
       "      <th>59</th>\n",
       "      <td>WishADish</td>\n",
       "      <td>NaN</td>\n",
       "      <td>Delhi</td>\n",
       "      <td>Food &amp; tech</td>\n",
       "      <td>Provides management solution for restaurants</td>\n",
       "      <td>Sawan Kumar, Bhavya Bhambhani</td>\n",
       "      <td>Undisclosed</td>\n",
       "      <td>6000000.0</td>\n",
       "      <td>NaN</td>\n",
       "    </tr>\n",
       "    <tr>\n",
       "      <th>62</th>\n",
       "      <td>PiBeam</td>\n",
       "      <td>NaN</td>\n",
       "      <td>Chennai</td>\n",
       "      <td>Automotive tech</td>\n",
       "      <td>It is engaged in building sustainable and affo...</td>\n",
       "      <td>Visakh Sasikumar</td>\n",
       "      <td>GAIL (India) Ltd</td>\n",
       "      <td>50000000.0</td>\n",
       "      <td>NaN</td>\n",
       "    </tr>\n",
       "    <tr>\n",
       "      <th>63</th>\n",
       "      <td>Euler Motors</td>\n",
       "      <td>NaN</td>\n",
       "      <td>Delhi</td>\n",
       "      <td>Automotive tech</td>\n",
       "      <td>It is offering mobility as a service</td>\n",
       "      <td>Saurav Kumar</td>\n",
       "      <td>Blume Ventures, Emergent Ventures</td>\n",
       "      <td>2000000.0</td>\n",
       "      <td>NaN</td>\n",
       "    </tr>\n",
       "    <tr>\n",
       "      <th>65</th>\n",
       "      <td>Cubical Labs</td>\n",
       "      <td>2013.0</td>\n",
       "      <td>NaN</td>\n",
       "      <td>IoT</td>\n",
       "      <td>Home automation solution provider</td>\n",
       "      <td>Dhruv Ratra, Swati Vyas</td>\n",
       "      <td>Rockstud Capital</td>\n",
       "      <td>NaN</td>\n",
       "      <td>Series B</td>\n",
       "    </tr>\n",
       "    <tr>\n",
       "      <th>71</th>\n",
       "      <td>Smart Institute</td>\n",
       "      <td>NaN</td>\n",
       "      <td>Surat</td>\n",
       "      <td>Edtech</td>\n",
       "      <td>A platform to learn online</td>\n",
       "      <td>NaN</td>\n",
       "      <td>HNI investors</td>\n",
       "      <td>1500000.0</td>\n",
       "      <td>NaN</td>\n",
       "    </tr>\n",
       "    <tr>\n",
       "      <th>76</th>\n",
       "      <td>Phable</td>\n",
       "      <td>2018.0</td>\n",
       "      <td>NaN</td>\n",
       "      <td>Healthtech</td>\n",
       "      <td>It creates an engagement loop between doctors,...</td>\n",
       "      <td>Sumit Sinha</td>\n",
       "      <td>LetsVenture, 91 Springboard, IKP Knowledge, An...</td>\n",
       "      <td>220000.0</td>\n",
       "      <td>NaN</td>\n",
       "    </tr>\n",
       "    <tr>\n",
       "      <th>77</th>\n",
       "      <td>Sarva</td>\n",
       "      <td>NaN</td>\n",
       "      <td>Chennai</td>\n",
       "      <td>Yoga &amp; wellness</td>\n",
       "      <td>It drives a cultural change in making yoga-bas...</td>\n",
       "      <td>Sarvesh Shashi</td>\n",
       "      <td>Venture fund, Fireside Ventures.</td>\n",
       "      <td>2800000.0</td>\n",
       "      <td>NaN</td>\n",
       "    </tr>\n",
       "    <tr>\n",
       "      <th>79</th>\n",
       "      <td>Zolostays</td>\n",
       "      <td>2015.0</td>\n",
       "      <td>NaN</td>\n",
       "      <td>Accomodation</td>\n",
       "      <td>It offers affordable housing apartments to you...</td>\n",
       "      <td>Akhil Sikri, Nikhil Sikri, Sneha Choudhry</td>\n",
       "      <td>Trifecta Capital</td>\n",
       "      <td>7000000.0</td>\n",
       "      <td>NaN</td>\n",
       "    </tr>\n",
       "    <tr>\n",
       "      <th>88</th>\n",
       "      <td>Ess Kay Fincorp</td>\n",
       "      <td>NaN</td>\n",
       "      <td>Rajasthan</td>\n",
       "      <td>Banking</td>\n",
       "      <td>Organised Non-Banking Finance Company</td>\n",
       "      <td>Rajendra Setia</td>\n",
       "      <td>TPG, Norwest Venture Partners, Evolvence India</td>\n",
       "      <td>33000000.0</td>\n",
       "      <td>NaN</td>\n",
       "    </tr>\n",
       "  </tbody>\n",
       "</table>\n",
       "</div>"
      ],
      "text/plain": [
       "                   Company_Brand  Founded HeadQuarter            Sector  \\\n",
       "0                 Bombay Shaving      NaN         NaN         Ecommerce   \n",
       "5                       FlytBase      NaN        Pune        Technology   \n",
       "6                          Finly      NaN   Bangalore              SaaS   \n",
       "8                      Quantiphi      NaN         NaN         AI & Tech   \n",
       "10                    Cub McPaws   2010.0      Mumbai   E-commerce & AR   \n",
       "11                      Appnomic      NaN   Bangalore              SaaS   \n",
       "14                   Open Secret      NaN         NaN         Food tech   \n",
       "16                        Byju's   2011.0         NaN            Edtech   \n",
       "18                       Witblox   2014.0         NaN            Edtech   \n",
       "20                    SalaryFits   2015.0         NaN           Fintech   \n",
       "23            DROR Labs Pvt. Ltd   2018.0       Delhi       Safety tech   \n",
       "27                 Fireflies .ai      NaN         NaN                AI   \n",
       "31                         truMe      NaN         NaN               IoT   \n",
       "32                      Pumpkart   2014.0  Chandigarh     E-marketplace   \n",
       "39  Lil’ Goodness and sCool meal      NaN   Bangalore  Food & Nutrition   \n",
       "41                         VMate      NaN         NaN               NaN   \n",
       "43                       Slintel   2016.0         NaN              SaaS   \n",
       "44                    MyGameMate      NaN   Bangalore          E-Sports   \n",
       "45                        Afinoz      NaN       Noida           Fintech   \n",
       "54                     Ninjacart   2015.0         NaN  B2B Supply Chain   \n",
       "55                   Binca Games   2014.0      Mumbai             Games   \n",
       "56                         KredX      NaN   Bangalore               NaN   \n",
       "57                       m.Paani      NaN      Mumbai               NaN   \n",
       "59                     WishADish      NaN       Delhi       Food & tech   \n",
       "62                        PiBeam      NaN     Chennai   Automotive tech   \n",
       "63                  Euler Motors      NaN       Delhi   Automotive tech   \n",
       "65                  Cubical Labs   2013.0         NaN               IoT   \n",
       "71               Smart Institute      NaN       Surat            Edtech   \n",
       "76                        Phable   2018.0         NaN        Healthtech   \n",
       "77                         Sarva      NaN     Chennai   Yoga & wellness   \n",
       "79                     Zolostays   2015.0         NaN      Accomodation   \n",
       "88               Ess Kay Fincorp      NaN   Rajasthan           Banking   \n",
       "\n",
       "                                         What_it_does  \\\n",
       "0          Provides a range of male grooming products   \n",
       "5                         A drone automation platform   \n",
       "6   It builds software products that makes work si...   \n",
       "8   It is an AI and big data services company prov...   \n",
       "10  A B2C  brand that focusses on premium and comf...   \n",
       "11  It is a self-healing enterprise, the IT operat...   \n",
       "14           It produces and sells top quality snacks   \n",
       "16                   Provides online learning classes   \n",
       "18          Offers a range of robotics learning tools   \n",
       "20  A platform that promotes financial well-being ...   \n",
       "23  It uses technology to create a trust-based net...   \n",
       "27  Developer of an artificial intelligence-powere...   \n",
       "31  A global platform for Identity and Access Mana...   \n",
       "32   B2B model for appliances and electrical products   \n",
       "39  It empowers moms to provide the best of foods ...   \n",
       "41                             A short video platform   \n",
       "43  It helps sales and marketing teams understand ...   \n",
       "44  eSports platform where players can access vari...   \n",
       "45  Online financial marketplace for customized ra...   \n",
       "54  It connects producers of food directly to reta...   \n",
       "55  It offers games that are available across Indi...   \n",
       "56                       Invoice discounting platform   \n",
       "57         It digitizes and organises local retailers   \n",
       "59       Provides management solution for restaurants   \n",
       "62  It is engaged in building sustainable and affo...   \n",
       "63               It is offering mobility as a service   \n",
       "65                  Home automation solution provider   \n",
       "71                         A platform to learn online   \n",
       "76  It creates an engagement loop between doctors,...   \n",
       "77  It drives a cultural change in making yoga-bas...   \n",
       "79  It offers affordable housing apartments to you...   \n",
       "88              Organised Non-Banking Finance Company   \n",
       "\n",
       "                                            Founders  \\\n",
       "0                                 Shantanu Deshpande   \n",
       "5                                        Nitin Gupta   \n",
       "6                          Vivek AG, Veekshith C Rai   \n",
       "8                                     Renuka Ramnath   \n",
       "10                           Abhay Bhat, Kinnar Shah   \n",
       "11                                     D Padmanabhan   \n",
       "14                       Ahana Gautam, Udit Kejriwal   \n",
       "16                                   Byju Raveendran   \n",
       "18                                         Amit Modi   \n",
       "20                                     Renato Araujo   \n",
       "23                    Dhiraj Naubhar, Dheeraj Bansal   \n",
       "27                                       Sam Udotong   \n",
       "31            Babu Dayal, Pramod Uniyal, Lalit Mehta   \n",
       "32                                         KS Bhatia   \n",
       "39                                               NaN   \n",
       "41                                               NaN   \n",
       "43                                    Deepak Anchala   \n",
       "44                      Parshavv Jain& Raju Kushwaha   \n",
       "45                                     Rachna Suneja   \n",
       "54  Thirukumaran Nagarajanin, Vasudevan Chinnathambi   \n",
       "55                     Rubianca Wadhwa, Sahil Wadhwa   \n",
       "56                                      Manish Kumar   \n",
       "57                                   Akanksha Hazari   \n",
       "59                     Sawan Kumar, Bhavya Bhambhani   \n",
       "62                                  Visakh Sasikumar   \n",
       "63                                      Saurav Kumar   \n",
       "65                           Dhruv Ratra, Swati Vyas   \n",
       "71                                               NaN   \n",
       "76                                       Sumit Sinha   \n",
       "77                                    Sarvesh Shashi   \n",
       "79         Akhil Sikri, Nikhil Sikri, Sneha Choudhry   \n",
       "88                                    Rajendra Setia   \n",
       "\n",
       "                                             Investor       Amount     Stage  \n",
       "0                                Sixth Sense Ventures    6300000.0       NaN  \n",
       "5                                         Undisclosed          NaN       NaN  \n",
       "6   Social Capital, AngelList India, Gemba Capital...          NaN       NaN  \n",
       "8                Multiples Alternate Asset Management   20000000.0  Series A  \n",
       "10                                  Venture Catalysts          NaN       NaN  \n",
       "11                                   Avataar Ventures   22000000.0       NaN  \n",
       "14                                    Matrix Partners          NaN       NaN  \n",
       "16  South Africa’s Naspers Ventures, the CPP Inves...  540000000.0       NaN  \n",
       "18                              Mumbai Angels Network     182700.0       NaN  \n",
       "20                        Brazilian VC Fund Confrapar    5000000.0       NaN  \n",
       "23                          Inflection Point Ventures          NaN       NaN  \n",
       "27                                    Canaan Partners    5000000.0       NaN  \n",
       "31                                      Rajan Kaistha     140000.0       NaN  \n",
       "32                                         Dinesh Dua          NaN       NaN  \n",
       "39                      Sajan Pillai, Muthu Krishnan,     400000.0       NaN  \n",
       "41                                            Alibaba  100000000.0       NaN  \n",
       "43                                 Stellaris Ventures    1500000.0       NaN  \n",
       "44                               Jindagi Live Angels,     100000.0       NaN  \n",
       "45                             Fintech innovation lab          NaN       NaN  \n",
       "54                                  Walmart, Flipkart          NaN       NaN  \n",
       "55                                     Sunil Gavaskar          NaN       NaN  \n",
       "56                            Tiger Global Management   26000000.0  Series B  \n",
       "57                                AC Ventures, Henkel    5500000.0  Series A  \n",
       "59                                        Undisclosed    6000000.0       NaN  \n",
       "62                                   GAIL (India) Ltd   50000000.0       NaN  \n",
       "63                  Blume Ventures, Emergent Ventures    2000000.0       NaN  \n",
       "65                                   Rockstud Capital          NaN  Series B  \n",
       "71                                      HNI investors    1500000.0       NaN  \n",
       "76  LetsVenture, 91 Springboard, IKP Knowledge, An...     220000.0       NaN  \n",
       "77                   Venture fund, Fireside Ventures.    2800000.0       NaN  \n",
       "79                                   Trifecta Capital    7000000.0       NaN  \n",
       "88     TPG, Norwest Venture Partners, Evolvence India   33000000.0       NaN  "
      ]
     },
     "execution_count": 56,
     "metadata": {},
     "output_type": "execute_result"
    }
   ],
   "source": [
    "# Check for total duplicated rows in the DataFrame\n",
    "duplicate_count = df_2019.duplicated().sum()\n",
    "print(\"Number of duplicated rows:\", duplicate_count)\n",
    "print()\n",
    "\n",
    "# Select rows where the count of missing values is greater than 1\n",
    "df_2019[df_2019.isnull().sum(axis=1) > 1]"
   ]
  },
  {
   "cell_type": "code",
   "execution_count": 57,
   "metadata": {},
   "outputs": [],
   "source": [
    "# Remove unwanted characters\n",
    "df_2019['Founders'] = df_2019['Founders'].replace(['...', np.nan], np.NaN)\n"
   ]
  },
  {
   "cell_type": "code",
   "execution_count": 58,
   "metadata": {},
   "outputs": [],
   "source": [
    "# Remove unwanted characters\n",
    "df_2019['Founded'] = df_2019['Founded'].replace(['...', np.nan], np.NaN)"
   ]
  },
  {
   "cell_type": "code",
   "execution_count": 59,
   "metadata": {},
   "outputs": [
    {
     "data": {
      "text/plain": [
       "array([nan, 'Series C', 'Fresh funding', 'Series D', 'Pre series A',\n",
       "       'Series A', 'Series G', 'Series B', 'Post series A',\n",
       "       'Seed funding', 'Seed fund', 'Series E', 'Series F', 'Series B+',\n",
       "       'Seed round', 'Pre-series A'], dtype=object)"
      ]
     },
     "execution_count": 59,
     "metadata": {},
     "output_type": "execute_result"
    }
   ],
   "source": [
    "df_2019['Stage'].unique()"
   ]
  },
  {
   "cell_type": "markdown",
   "metadata": {},
   "source": [
    "2020 Data preparation and cleaning"
   ]
  },
  {
   "cell_type": "code",
   "execution_count": null,
   "metadata": {},
   "outputs": [],
   "source": []
  },
  {
   "cell_type": "code",
   "execution_count": 60,
   "metadata": {},
   "outputs": [
    {
     "name": "stdout",
     "output_type": "stream",
     "text": [
      "<class 'pandas.core.frame.DataFrame'>\n",
      "RangeIndex: 1055 entries, 0 to 1054\n",
      "Data columns (total 10 columns):\n",
      " #   Column         Non-Null Count  Dtype  \n",
      "---  ------         --------------  -----  \n",
      " 0   Company_Brand  1055 non-null   object \n",
      " 1   Founded        842 non-null    float64\n",
      " 2   HeadQuarter    961 non-null    object \n",
      " 3   Sector         1042 non-null   object \n",
      " 4   What_it_does   1055 non-null   object \n",
      " 5   Founders       1043 non-null   object \n",
      " 6   Investor       1017 non-null   object \n",
      " 7   Amount         801 non-null    float64\n",
      " 8   Stage          591 non-null    object \n",
      " 9   Column 10      2 non-null      object \n",
      "dtypes: float64(2), object(8)\n",
      "memory usage: 82.6+ KB\n"
     ]
    }
   ],
   "source": [
    "#Preview the info of the dataset\n",
    "\n",
    "df_2020.info()"
   ]
  },
  {
   "cell_type": "code",
   "execution_count": 61,
   "metadata": {},
   "outputs": [
    {
     "name": "stdout",
     "output_type": "stream",
     "text": [
      "\n",
      "Missing values in each column:\n",
      "\n",
      "Company_Brand    0.000000\n",
      "Founded          0.201896\n",
      "HeadQuarter      0.089100\n",
      "Sector           0.012322\n",
      "What_it_does     0.000000\n",
      "Founders         0.011374\n",
      "Investor         0.036019\n",
      "Amount           0.240758\n",
      "Stage            0.439810\n",
      "Column 10        0.998104\n",
      "dtype: float64\n",
      "\n",
      "Number of duplicated rows: 3\n",
      "\n"
     ]
    }
   ],
   "source": [
    "# Check for total missing values in each column of the DataFrame\n",
    "missing_values = df_2020.isnull().mean()\n",
    "print()\n",
    "print(\"Missing values in each column:\")\n",
    "print()\n",
    "print(missing_values)\n",
    "print()\n",
    "\n",
    "# Check for total duplicated rows in the DataFrame\n",
    "duplicate_count = df_2020.duplicated().sum()\n",
    "print(\"Number of duplicated rows:\", duplicate_count)\n",
    "print()\n"
   ]
  },
  {
   "cell_type": "code",
   "execution_count": 62,
   "metadata": {},
   "outputs": [
    {
     "name": "stdout",
     "output_type": "stream",
     "text": [
      "Percentage of missing values in column10: 99.81%\n"
     ]
    }
   ],
   "source": [
    "# Calculate the number of missing values in the column10 column in the 2020 dataframe\n",
    "missing_values_count = df_2020[\"Column 10\"].isna().sum()\n",
    "\n",
    "# Calculate the total number of rows in the DataFrame\n",
    "total_rows = len(df_2020)\n",
    "\n",
    "# Calculate the percentage of missing values\n",
    "percentage_missing = (missing_values_count / total_rows) * 100\n",
    "\n",
    "# Display the percentage of missing values\n",
    "print(f\"Percentage of missing values in column10: {percentage_missing:.2f}%\")\n"
   ]
  },
  {
   "cell_type": "code",
   "execution_count": 63,
   "metadata": {},
   "outputs": [],
   "source": [
    "# Per the results above, where column10 of df_2020 is missing over 99% of its values, the column will be dropped.\n",
    "\n",
    "df_2020.drop(columns=['Column 10'], axis=1, inplace=True)"
   ]
  },
  {
   "cell_type": "code",
   "execution_count": 64,
   "metadata": {},
   "outputs": [
    {
     "data": {
      "text/plain": [
       "0              AgriTech\n",
       "1                EdTech\n",
       "2    Hygiene management\n",
       "3                Escrow\n",
       "4              AgriTech\n",
       "Name: Sector, dtype: object"
      ]
     },
     "execution_count": 64,
     "metadata": {},
     "output_type": "execute_result"
    }
   ],
   "source": [
    "# Strip the first element of the \"Sector\" column and return the first element of the \"Sector\" column.\n",
    "\n",
    "df_2020['Sector'] = df_2020.Sector.str.split(',').str[0]\n",
    "df_2020['Sector'].head()"
   ]
  },
  {
   "cell_type": "code",
   "execution_count": 65,
   "metadata": {},
   "outputs": [
    {
     "data": {
      "text/plain": [
       "0      Chennai\n",
       "1    Bangalore\n",
       "2         Pune\n",
       "3    New Delhi\n",
       "4       Indore\n",
       "Name: HeadQuarter, dtype: object"
      ]
     },
     "execution_count": 65,
     "metadata": {},
     "output_type": "execute_result"
    }
   ],
   "source": [
    "# Strip the first element of the \"HeadQuarter\" column and return the first element\n",
    "df_2020['HeadQuarter'] = df_2020.HeadQuarter.str.split(',').str[0]\n",
    "df_2020['HeadQuarter'].head()"
   ]
  },
  {
   "cell_type": "code",
   "execution_count": 66,
   "metadata": {},
   "outputs": [],
   "source": [
    "# Remove unwanted characters\n",
    "df_2020['Founders'] = df_2020['Founders'].replace(['...', np.nan], np.NaN)"
   ]
  },
  {
   "cell_type": "code",
   "execution_count": 67,
   "metadata": {},
   "outputs": [],
   "source": [
    "# Remove unwanted characters\n",
    "df_2020['Founded'] = df_2020['Founded'].replace(['...', np.nan], np.NaN)"
   ]
  },
  {
   "cell_type": "code",
   "execution_count": 68,
   "metadata": {},
   "outputs": [],
   "source": [
    "# clean the Amount column of the DataFrame\n",
    "\n",
    "def clean_amount(Amount):\n",
    "    try:\n",
    "        Amount = str(Amount)\n",
    "        #Remove the commas\n",
    "        Amount = Amount.replace(',', '')\n",
    "        #Replace the dollar sign nothing\n",
    "        if '$' in Amount:\n",
    "            Amount = Amount.replace('$', '')\n",
    "            return round(float(Amount), 2)\n",
    "        #If no currency symbol, assume USD\n",
    "        else:\n",
    "            return round(float(Amount), 2)\n",
    "    except ValueError:\n",
    "        #For non-numeric values, return NaN\n",
    "        return np.nan\n",
    "# Apply the cleaning function to the Amount column  \n",
    "\n",
    "df_2020[\"Amount\"] = df_2020[\"Amount\"].apply(clean_amount)"
   ]
  },
  {
   "cell_type": "code",
   "execution_count": 69,
   "metadata": {},
   "outputs": [
    {
     "data": {
      "text/plain": [
       "0    200000.0\n",
       "1    100000.0\n",
       "2         NaN\n",
       "3    400000.0\n",
       "4    340000.0\n",
       "Name: Amount, dtype: float64"
      ]
     },
     "execution_count": 69,
     "metadata": {},
     "output_type": "execute_result"
    }
   ],
   "source": [
    "# Preview the Amount column of the 2020 dataframe\n",
    "df_2020[\"Amount\"].head()\n"
   ]
  },
  {
   "cell_type": "markdown",
   "metadata": {},
   "source": [
    "2021 Data preparation and cleaning"
   ]
  },
  {
   "cell_type": "code",
   "execution_count": 70,
   "metadata": {},
   "outputs": [
    {
     "name": "stdout",
     "output_type": "stream",
     "text": [
      "<class 'pandas.core.frame.DataFrame'>\n",
      "RangeIndex: 1209 entries, 0 to 1208\n",
      "Data columns (total 9 columns):\n",
      " #   Column         Non-Null Count  Dtype  \n",
      "---  ------         --------------  -----  \n",
      " 0   Company_Brand  1209 non-null   object \n",
      " 1   Founded        1208 non-null   float64\n",
      " 2   HeadQuarter    1208 non-null   object \n",
      " 3   Sector         1209 non-null   object \n",
      " 4   What_it_does   1209 non-null   object \n",
      " 5   Founders       1205 non-null   object \n",
      " 6   Investor       1147 non-null   object \n",
      " 7   Amount         1206 non-null   object \n",
      " 8   Stage          781 non-null    object \n",
      "dtypes: float64(1), object(8)\n",
      "memory usage: 85.1+ KB\n"
     ]
    }
   ],
   "source": [
    "# Preview the info of the 2021 dataframe\n",
    "df_2021.info()"
   ]
  },
  {
   "cell_type": "code",
   "execution_count": 71,
   "metadata": {},
   "outputs": [
    {
     "name": "stdout",
     "output_type": "stream",
     "text": [
      "\n",
      "Missing values in each column:\n",
      "\n",
      "Company_Brand    0.000000\n",
      "Founded          0.000827\n",
      "HeadQuarter      0.000827\n",
      "Sector           0.000000\n",
      "What_it_does     0.000000\n",
      "Founders         0.003309\n",
      "Investor         0.051282\n",
      "Amount           0.002481\n",
      "Stage            0.354012\n",
      "dtype: float64\n",
      "\n",
      "Number of duplicated rows: 19\n",
      "\n"
     ]
    }
   ],
   "source": [
    "# Check for total missing values in each column of the DataFrame\n",
    "missing_values = df_2021.isnull().mean()\n",
    "print()\n",
    "print(\"Missing values in each column:\")\n",
    "print()\n",
    "print(missing_values)\n",
    "print()\n",
    "\n",
    "# Check for total duplicated rows in the DataFrame\n",
    "duplicate_count = df_2021.duplicated().sum()\n",
    "print(\"Number of duplicated rows:\", duplicate_count)\n",
    "print()"
   ]
  },
  {
   "cell_type": "code",
   "execution_count": 72,
   "metadata": {},
   "outputs": [
    {
     "data": {
      "text/plain": [
       "array(['$1,200,000', '$120,000,000', '$30,000,000', '$51,000,000',\n",
       "       '$2,000,000', '$188,000,000', '$200,000', 'Undisclosed',\n",
       "       '$1,000,000', '$3,000,000', '$100,000', '$700,000', '$9,000,000',\n",
       "       '$40,000,000', '$49,000,000', '$400,000', '$300,000',\n",
       "       '$25,000,000', '$160,000,000', '$150,000', '$1,800,000',\n",
       "       '$5,000,000', '$850,000', '$53,000,000', '$500,000', '$1,100,000',\n",
       "       '$6,000,000', '$800,000', '$10,000,000', '$21,000,000',\n",
       "       '$7,500,000', '$26,000,000', '$7,400,000', '$1,500,000',\n",
       "       '$600,000', '$800,000,000', '$17,000,000', '$3,500,000',\n",
       "       '$15,000,000', '$215,000,000', '$2,500,000', '$350,000,000',\n",
       "       '$5,500,000', '$83,000,000', '$110,000,000', '$500,000,000',\n",
       "       '$65,000,000', '$150,000,000,000', '$300,000,000', '$2,200,000',\n",
       "       '$35,000,000', '$140,000,000', '$4,000,000', '$13,000,000', None,\n",
       "       '$Undisclosed', '$2000000', '$800000', '$6000000', '$2500000',\n",
       "       '$9500000', '$13000000', '$5000000', '$8000000', '$1000000',\n",
       "       'Upsparks', '$200000', '$12000000', '$1500000', '$1700000',\n",
       "       '$5500000', '$400000', '$150000000', '$4000000', '$100000000',\n",
       "       '$500000', '$15000000', '$10000000', '$40000000', '$225000000',\n",
       "       '$6700000', '$1300000', '$20000000', '$250000', '$21000000',\n",
       "       '$1200000', '$52000000', '$3800000', '$17500000', '$42000000',\n",
       "       '$2300000', '$7000000', '$30000000', '$450000000', '$28000000',\n",
       "       '$300000', '$3500000', '$8500000', '$25000000', '$3000000',\n",
       "       '$37000000', '$370000000', '$700000', '$16000000', '$100000',\n",
       "       '$44000000', '$770000', '$125000000', '$35000000', '$50000000',\n",
       "       '$4900000', '$145000000', '$22000000', '$70000000', '$6600000',\n",
       "       '$32000000', '$24000000', '$725000', '$461000', 'Series C', 'Seed',\n",
       "       '$96000000', '$60000000', '$500000000', '$266000000', '$4500000',\n",
       "       '$325000000', '$6500000', '$1600000', '$150000', '$225000',\n",
       "       '$85000000', '$235000', '$260000', '$2900000', '$53000000',\n",
       "       '$1100000', '$86000000', '$130000', '$$100,00', '$111000000',\n",
       "       '$265000', '$76000000', '$100,000,000', '$75,000,000',\n",
       "       '$3,800,000', '$12,000,000', '$1,600,000', '$260,000',\n",
       "       '$1,000,000,000', '$18,000,000', '$20,000,000', '$350,000',\n",
       "       '$95,000,000', '$4,100,000', '$5,200,000', '$8,000,000',\n",
       "       '$1,400,000', '$2,600,000', '$900,000', '$250,000', '$16,000,000',\n",
       "       '$7,000,000', '$11,000,000', '$280,000,000', '$50,000,000',\n",
       "       '$14,300,000', '$81,000,000', '$1,300,000', '$8,200,000',\n",
       "       '$70,000,000', '$720,000', '$600000', '$9000000', '$1800000',\n",
       "       '$330000', '$undisclosed', '$200000000', '$36000000', '$67000000',\n",
       "       '$10200000', '$220000000', '$108000000', '$75000000', '$450000',\n",
       "       '$660000000', 'ah! Ventures', '$45000000', '$3200000', '$370000',\n",
       "       'Pre-series A', 'ITO Angel Network, LetsVenture', '$48000000',\n",
       "       '$3600000', '$11000000', '$192000000', '$65000000', '$1400000',\n",
       "       '$1900000', '$41000000', '$144000000', '$5200000', '$270000000',\n",
       "       '$140000', '$250000000', '$320000', '$350000000', '$4800000',\n",
       "       '$38000000', '$125000', '$26000000', '$64000000', '$620000',\n",
       "       '$900000', 'JITO Angel Network, LetsVenture', '$2600000',\n",
       "       '$1,250,000', '$400,000,000', '$1,700,000', '$27,000,000',\n",
       "       '$234,000,000', '$460,000,000', '$13,500,000', '$5,100,000',\n",
       "       '$195,000,000', '$125,000', '$45,000,000', '$200,000,000',\n",
       "       '$7,300,000', '$6,300,000', '$12,500,000', '$24,000,000',\n",
       "       '$140,000', '$16,500,000', '$340,000', '$43,000,000',\n",
       "       '$150,000,000', '$3300000', '$92000000', '$17000000', '$135000000',\n",
       "       '$$1,55,000', '$2100000', '$840000000', '$248000000', '$4300000',\n",
       "       '$570000', '$2200000', '$4700000', '$300000000', '$260000000',\n",
       "       '$140000000', '$175000000', '$19000000', '$810000', '$7500000',\n",
       "       '$600000000', '$90000000', '$5700000', '$6750000', '$78000000',\n",
       "       '$5400000', '$115000000', '$255000000', '$18000000', '$570000000',\n",
       "       '$550000', '$2700000', '$4200000', '$31000000', '$540000',\n",
       "       '$14000000', '$340000', '$', '$6200000', '$750000', '$6300000',\n",
       "       '$23000000', '$55000000'], dtype=object)"
      ]
     },
     "execution_count": 72,
     "metadata": {},
     "output_type": "execute_result"
    }
   ],
   "source": [
    "df_2021['Amount'].unique()"
   ]
  },
  {
   "cell_type": "code",
   "execution_count": 73,
   "metadata": {},
   "outputs": [],
   "source": [
    "# Replace numeric values in the \"Amount\" column with corresponding \"Stages\"  and \"Investor\" values\n",
    "\n",
    "df_2021[\"Amount\"].replace(\"Upsparks\", 1200000, inplace=True)\n",
    "df_2021[\"Amount\"].replace(\"ah! Ventures\", 300000, inplace=True)\n",
    "df_2021[\"Amount\"].replace(\"ITO Angel Network, LetsVenture\", 300000, inplace=True)\n",
    "df_2021[\"Amount\"].replace(\"None\", 6000000, inplace=True)\n",
    "df_2021[\"Amount\"].replace(\"JITO Angel Network, LetsVenture\", 1000000 , inplace=True)\n",
    "df_2021[\"Amount\"].replace(\"Series C\", 22000000, inplace=True)\n",
    "df_2021[\"Amount\"].replace(\"Seed\", 5000000, inplace=True)\n",
    "df_2021[\"Amount\"].replace(\"Pre-series A\", 1000000, inplace=True)"
   ]
  },
  {
   "cell_type": "code",
   "execution_count": 74,
   "metadata": {},
   "outputs": [],
   "source": [
    "# clean the Amount column of the DataFrame\n",
    "\n",
    "def clean_amount(Amount):\n",
    "    try:\n",
    "        Amount = str(Amount)\n",
    "        #Remove the commas\n",
    "        Amount = Amount.replace(',', '')\n",
    "        Amount = Amount.replace('$Undisclosed', '')\n",
    "        Amount = Amount.replace('Undisclosed', '')\n",
    "        #Replace the dollar sign with nothing\n",
    "        if '$' in Amount:\n",
    "            Amount = Amount.replace('$', '')\n",
    "            return round(float(Amount), 2)\n",
    "        #If no currency symbol, assume USD\n",
    "        else:\n",
    "            return round(float(Amount), 2)\n",
    "    except ValueError:\n",
    "        #For non-numeric values, return NaN\n",
    "        return np.nan\n",
    "# Apply the cleaning function to the Amount column  \n",
    "\n",
    "df_2021[\"Amount\"] = df_2021[\"Amount\"].apply(clean_amount)\n",
    "        "
   ]
  },
  {
   "cell_type": "code",
   "execution_count": 75,
   "metadata": {},
   "outputs": [
    {
     "data": {
      "text/plain": [
       "0      1200000.0\n",
       "1    120000000.0\n",
       "2     30000000.0\n",
       "3     51000000.0\n",
       "4      2000000.0\n",
       "Name: Amount, dtype: float64"
      ]
     },
     "execution_count": 75,
     "metadata": {},
     "output_type": "execute_result"
    }
   ],
   "source": [
    "df_2021['Amount'].head()"
   ]
  },
  {
   "cell_type": "code",
   "execution_count": 76,
   "metadata": {},
   "outputs": [
    {
     "data": {
      "text/plain": [
       "array(['BEENEXT, Entrepreneur First',\n",
       "       'Unilazer Ventures, IIFL Asset Management',\n",
       "       'GSV Ventures, Westbridge Capital', 'CDC Group, IDG Capital',\n",
       "       'Liberatha Kallat, Mukesh Yadav, Dinesh Nagpal', 'Vy Capital',\n",
       "       'CIIE.CO, KIIT-TBI', 'Inflection Point Ventures',\n",
       "       'Inflexor Ventures', None,\n",
       "       '9Unicorns Accelerator Fund, Metaform Ventures',\n",
       "       'SucSEED Indovation, IIM Calcutta Innovation Park',\n",
       "       'Safe Planet Medicare', 'Impact Partners, C4D Partners',\n",
       "       'Tiger Global Management, InnoVen Capital', 'Novo Tellus Capital',\n",
       "       'Raintree Family Office, ADB arm',\n",
       "       'Mumbai Angels, Narendra Shyamsukha', 'Paradigm, Kunal Shah',\n",
       "       'Matrix Partners India, GIC', 'Chiratae Ventures, JAFCO Asia',\n",
       "       'Mumbai Angels Network, Expert DOJO', 'GVFL',\n",
       "       'Kotak Mahindra Bank, FMO', 'Kalaari Capital',\n",
       "       'NB Ventures, IAN Fund',\n",
       "       'Sequoia Capital India, Hummingbird Ventures',\n",
       "       'Gaurav Munjal, Snehil Khanor', 'JITO Angel Network, SOSV',\n",
       "       'Chiratae Ventures, YourNest Venture Capital', 'STRIVE VC',\n",
       "       'Venture Catalysts', 'Jaipuria Family Office', 'Amazon',\n",
       "       'Riso Capital', 'MTG Ventures',\n",
       "       'Qualcomm Ventures, Warburg Pincus', '9Unicorns', 'Morgan Stanley',\n",
       "       'Alfa Ventures, Agility Venture Partners',\n",
       "       'Stellaris Venture Partners, Ramakant Sharma', 'Spanache',\n",
       "       'DSG Consumer Partners, Saama Capital', 'Hindustan Media Ventures',\n",
       "       'Stellaris Venture Partners, Omidyar Network India, Flourish Ventures',\n",
       "       'Angelbay Holdings, Faad Network',\n",
       "       'Alteria Capital, Chiratae Ventures',\n",
       "       'WaterBridge Ventures, Info Edge',\n",
       "       'Carmignac, Falcon Edge Capital', 'Vaibhav Domkundwar, Kunal Shah',\n",
       "       'Chiratae Ventures, Bharat Innovation Fund',\n",
       "       'Acko Technology, Services, LetsVenture',\n",
       "       'Bertelsmann India Investments, Fullerton Financial Holdings',\n",
       "       'Dragoneer Investment Group, Tiger Global Management',\n",
       "       'http://100x.vc/',\n",
       "       'TPG Growth, Caisse de Depot et Placement du Quebec',\n",
       "       'Centrum Financial Services', 'Chiratae Ventures, BEENEXT',\n",
       "       'Harsha Bhogle', 'GetVantage, Prakash Katama',\n",
       "       'Tiger Global Management, Y Combinator Continuity Fund',\n",
       "       'Michael & Susan Dell Foundation', 'Marquee fintech founders',\n",
       "       'Falcon Edge India, Norwest Venture Partners',\n",
       "       'SOSV, Omphalos Ventures India', 'Twitter Ventures, Pawan Munjal',\n",
       "       'CitiusTech', 'Arena Holdings, Think Investments',\n",
       "       'T Choithrams BVI, Ardor',\n",
       "       'Kogta Financial India Limited, ICICI Bank',\n",
       "       'SucSEED Venture Partners, TMT Connekt',\n",
       "       'SAIF Partners, Venture Highway', 'Global Founders Capital',\n",
       "       'JAFCO Asia, Chiratae Ventures', 'Y Combinator',\n",
       "       'Artha Venture Fund', 'Jitendra Gupta, Amrish Rau',\n",
       "       'FJ Labs, Brian Norgard', 'Indian Angel Network',\n",
       "       'Jitendra Gupta, Harsh Shah',\n",
       "       'Elevation Partners, Emergent Ventures',\n",
       "       'Kalaari Capital, Dream Capital', 'Lumikai',\n",
       "       'Matrix Partners India', 'C4D Partners', 'Bertelsmann India',\n",
       "       'Iron Pillar, Nordstar, Binny Bansal',\n",
       "       'FMC, Omnivore, Blume Ventures', 'InvestCorp',\n",
       "       'Pritesh Kumar, Bharat Gupta',\n",
       "       'Y Combinator, 9Unicorns, Titan Capital',\n",
       "       'Unicorn India Ventures, SEA Fund, Devdatt Shah',\n",
       "       'Matrix Partners India, Elevation Capital',\n",
       "       'Avaana Capital, Orios Ventures', 'Punit Balan',\n",
       "       'Y Combinator, Broom Ventures, Kunal Shah',\n",
       "       'Skycatcher, AET Fund, BAce Capital, Dream Incubator, 1Up Ventures',\n",
       "       'Eclear Leasing', 'First Cheque, Letsventure',\n",
       "       'Sequoia Capital India, BEENEXT', 'Velocity',\n",
       "       'Tribe Capital, Moore Strategic Ventures (MSV)',\n",
       "       'Fireside Ventures', 'Inflection Point Ventures, ONGC',\n",
       "       'Y Combinator, Incubate Fund India',\n",
       "       'Titan Capital, Rockstud Capital,  John Abraham, WEH Ventures',\n",
       "       'Info Edge Ventures', 'NB Ventures', 'Accel',\n",
       "       'Binny Bansal, Kunal Shah', 'TradeCred', 'Unicorn India Ventures',\n",
       "       'UC Inclusive Credit, Western Capital',\n",
       "       'IIFL India Private Equity Fund, Smiti Holding & Trading Company',\n",
       "       'Faering Capital', 'responsAbility Investments, Blue Orchard',\n",
       "       'Sanchit Agarwal, Sujan Sinha, Michael Cooke',\n",
       "       'CRV, Nexus Venture Partners',\n",
       "       'Salesforce Ventures, Sierra Ventures, Sequoia Capital India’s Surge',\n",
       "       'Micelio Fund, growX ventures',\n",
       "       'IIFL Wealth, Asset Management, Northern Arc Capital',\n",
       "       'Better Capital, Ashish Achrekar', 'IAN', 'Alpha Wave Incubation',\n",
       "       'Point One Capital, Yatra Angel Network (YAN), Opus Consulting, Manipal Technologies.',\n",
       "       'Microsoft', 'Shell Ventures, Yamaha, Kunal Shah',\n",
       "       'We Founder Circle',\n",
       "       'Saama Capital, DSG Consumer Partners, Sharrp Ventures',\n",
       "       'Tiger Global’s Scott Schleifer', 'Elevation Capital',\n",
       "       'Venture Catalysts, Auxano Capital, Venture Garage, Yoga Capital, Ah!Ventures, Lead Angels',\n",
       "       'Sixth Sense Ventures', '9Unicorns, Sequoia Capital India’s Surge',\n",
       "       'Anicut Angel Fund, 9 Unicorns', 'Info Edge, FalconEdge',\n",
       "       'WestCap Group, Tomales Bay Capital',\n",
       "       'Chiratae Ventures, Better Capital',\n",
       "       'Siguler Guff, Baillie Gifford',\n",
       "       'IIFL AMC, Mankind Pharma Family Office, Aroa Ventures',\n",
       "       'ITI Growth Opportunities', 'Amrac Investment Trust',\n",
       "       'Bhavin Turakhia', 'Amara Raja Batteries',\n",
       "       'India Infoline Finance', 'Venture Highway', 'BEENEXT, Orios',\n",
       "       'Axilor', 'Westbridge Capital, Tanglin Venture Partners',\n",
       "       '100X.VC\\ufeff,\\ufeff Titan Capital, Rahul Mathur, Gaurav Mandlecha',\n",
       "       'IIFL, Amicus Capital, Ananta Capital',\n",
       "       'Venture Highway, Endiya Partners',\n",
       "       'Verlinvest, Sequoia Capital India', 'Anicut Angel Fund',\n",
       "       'Tiger Global',\n",
       "       'Alphabit Fund, Fulgur Ventures, Stacks Accelerator, SBX Capital',\n",
       "       'Roots Ventures, Velo Partners', 'Nexus Venture Partners',\n",
       "       'Mumbai Angels Network, Huddle, Lumis Partners',\n",
       "       'SucSEED Indovation Fund',\n",
       "       'Potencia Ventures, Bisk Ventures, LetsVenture, Ronnie Screwvala, Arihant Patni',\n",
       "       'Better Capital, First Cheque, Titan Capital', 'Evolvence Capital',\n",
       "       'SARA ELGI',\n",
       "       'Nubank, Global Founders Capital, Sequoia Capital India, Matrix Partners India',\n",
       "       'ah! Ventures High Tables',\n",
       "       'Eight Roads Ventures, Think Investments, Mankekar Family Office',\n",
       "       'A91 Partners', 'Chiratae Ventures', 'Sequoia’s Surge',\n",
       "       'Lead Angels, Titan Capital, Pravega Ventures',\n",
       "       'Accel Partners, Elevation Capital',\n",
       "       'Inflection Point Ventures, Rockstud Capital, FirstPort Capital, Bliss Flow Investments Pvt Ltd',\n",
       "       'Anicut Angel Fund, Axilor Ventures',\n",
       "       'Ecosystem Ventures, CMM group',\n",
       "       'Mumbai Angels Network, Social Alpha', 'Disrupt ADQ, QIC',\n",
       "       'Valar Ventures, IA Ventures', 'Sequoia Capital India', 'Zomato',\n",
       "       'Lightspeed, Times Group, Tanglin Venture Partners',\n",
       "       'Binny Bansal, Deep Kalra, Dr Ashish Gupta, Gokul Rajaram, Shirish Nadkarni',\n",
       "       'Tuscan Ventures, Ohm Stock Brokers, Artha Venture Fund',\n",
       "       'Signal Peak Ventures', 'Evolvence, Hero Enterprise',\n",
       "       'BlueOrchard Impact Investment Managers', 'Steadview Capital',\n",
       "       'MassMutual Ventures', 'YourNest VC', 'Accel India',\n",
       "       'Vijay Shekhar Sharma, Ritesh Agarwal, Ankiti Bose',\n",
       "       'TVS Motor, Zoho', 'IIFL Asset Management',\n",
       "       'Oasis Capital, Scorpio VC, DeltaHub Capital',\n",
       "       'Titan Capital, Haresh Chawla, AngelList Syndicate',\n",
       "       '9Unicorns, Ashneer Grover', 'Founders Room Capital',\n",
       "       '9Unicorns, ZNL', 'WEH Ventures', '$22000000', '$5000000',\n",
       "       'Kunal Shah, Deepinder Goyal, Abhiraj Singh Bhal',\n",
       "       'Guild Capital, RPSG Capital Ventures',\n",
       "       'General Catalyst, Eight Roads Ventures, Elevation Capital',\n",
       "       'NB Ventures, Earlsfield Capital', 'Varun Alagh, Sahil Barua',\n",
       "       'SoftBank Vision Fund 2', 'Tribe Capital, Prime Venture Partners',\n",
       "       'Jungle Ventures', 'Marquee international institutional investors',\n",
       "       'Alkeon Capital', 'Y Combinator, Harvard Management',\n",
       "       'Y Combinator\\ufeff, \\ufeffGoodwater Capital',\n",
       "       'Shrishti Sahu, Umang Vohra', 'Astra Ventures, Gaurav Jaitly',\n",
       "       'Capital A, Collective Artists Network',\n",
       "       'Aditya Singhal, Nishant Sinha', 'Pentathlon Ventures',\n",
       "       'Alpha Wave Ventures II, Tiger Global Management, SoftBank Vision Fund II',\n",
       "       'KRAFTON', 'Chiratae Ventures, Lenskart Vision Fund', 'Recur Club',\n",
       "       'DevX Venture Fund', 'DevX Venture Fund, Blume Founder Fund',\n",
       "       'Ajith Daneil', 'Aurum Proptech', 'Y-Combinator',\n",
       "       'The Good Glamm Group', 'Invus', 'Tiger Global, Prosus Ventures',\n",
       "       'Shuru Up, Ankit Kedia, Arun Gupta',\n",
       "       'Ankit Mehrotra, Saurabh Aggarwal', 'Sauce.vc',\n",
       "       '3one4 Capital, Sixth Sense Ventures',\n",
       "       'YCombinator, Justin Mateen, Pioneer Fund',\n",
       "       'Sojitz Corporation, Stride Ventures',\n",
       "       'IIFL Wealth, TPG Growth, Norwest Venture Partners',\n",
       "       'Nabventures, Avaana Capital', 'Fluid Ventures, Mulberry Silks',\n",
       "       'Rajesh Rajendran', 'Mike Novogratz, Neeraj Arora',\n",
       "       'Reliance Digital Health', 'Ritu Marya Family Office.',\n",
       "       'Ten Innovate', 'Tiger Global, Sequoia Capital',\n",
       "       'Shark Tank India', 'Premji Invest, Steadview Capital', 'Sequoia',\n",
       "       'Apis Insurtech Fund I', 'SK Tripathi, Sanjeev Gupta',\n",
       "       'Hardcastle Petrofer', 'Ocean View Investment, QED Fund',\n",
       "       'Omidyar Network, Tencent Holdings',\n",
       "       'ITI Growth Opportunities Fund, Unit-E Ventures',\n",
       "       'InnoVen Capital, Nexus Venture Partners', 'CIIE.CO',\n",
       "       'Orios Venture Partners', 'Omidyar Network India',\n",
       "       'Wipro venture capital arm', 'Yuj Ventures, Sixth Sense Ventures',\n",
       "       'Premji Invest, Mirae Asset Naver Asia Growth Fund, Alpine Capital',\n",
       "       'Inflection Point Ventures, SucSEED Venture Partners',\n",
       "       'Anas Rahman Junaid, Vinod Jose', 'Capital One, Arrowroot Capital',\n",
       "       'YourNest Venture Capital', 'Incubate Fund India',\n",
       "       'Kunal Shah, Greg Kidd', 'InnoVen Capital, TEAMFund',\n",
       "       'Venture Catalysts, 9Unicorns Accelerator Fund',\n",
       "       'Venture Highway, Rohit Bansal', 'Fresco Capital, Social Starts',\n",
       "       'Y Combinator, Rebright Partners',\n",
       "       'Rohit Goutamchand, India CXO Fund',\n",
       "       'Rajasthan Venture Capital Fund, ACPL Exports',\n",
       "       'Amplo, Insight Partners', 'Better Capital', 'Justin Mateen',\n",
       "       'View Trade Holding Corp',\n",
       "       'InnoVen Capital, Bertelsmann India Investments', 'ScoopWhoop',\n",
       "       'Canaan Valley Capital, Glade Brook Capital Partners',\n",
       "       'Vijay Shekhar Sharma, Dr Ritesh Malik',\n",
       "       'RTP Global, Harshil Mathur', 'Paragon Partners, NABVENTURES',\n",
       "       'EXPERT DOJO', 'Saama Capital, India Quotient',\n",
       "       'InCred Financial Services, Vivriti Capital, Northern Arc Capital',\n",
       "       'ah! Ventures', 'Somak Ghosh, M V Nair', 'Wurk',\n",
       "       'Plutus Wealth Management, Turtle Entertainment',\n",
       "       'Ambiga Subramanian, Goutham Ekollu', 'Accel, Owl Ventures',\n",
       "       'Rajan Anadan', 'Jesse Lucas',\n",
       "       'IDFC Private Equity, Bessemer Venture Partners',\n",
       "       'Sequoia Capital India, Accel',\n",
       "       'Venture Catalysts, Tahseen Consulting', 'Equanimity Ventures',\n",
       "       'BlueOrchard Finance S A, Gojo & Company',\n",
       "       'Better Capital, Titan Capital', 'Gojo & Company', 'Mumbai Angels',\n",
       "       'Pegasus Tech Ventures, Base Partners', '3one4 Capital, Accel',\n",
       "       'Hitesh Oberoi, Lightbox', 'YES Bank', 'Campus Fund',\n",
       "       'Hyperplane Venture Capital', 'Matrix Partners India, RTP Global',\n",
       "       'Info Edge, Ruizheng Investment', 'Quess Corp India',\n",
       "       'Sunil Kumar Singhvi, 9Unicorns Accelerator Fund',\n",
       "       'India Accelerator’s Angel Investor Network', 'Shell Foundation',\n",
       "       'Jimmy Singh', 'Kunal Shah, Deepak Abbot', 'Accel, Nexus Venture',\n",
       "       'Singapore Angel Network, Artha India Ventures',\n",
       "       'Starfish Growth Partners, Investpad', 'Hashed', 'Titan Capital',\n",
       "       \"Zerodha's Rainmatter Capital, Better Capital\",\n",
       "       'Sixth Sense Ventures, Colgate Palmolive',\n",
       "       'Lightbox, Evolvence India Fund', 'Tomorrow Capital',\n",
       "       'Inflection Point Ventures, DLabs',\n",
       "       'InnoVen Capital, Steadview Capital', 'BlackSoil Capital',\n",
       "       'PointOne Capital, Core91 VC', 'A91 Partners, Faering Capital',\n",
       "       'Blockchain Capital, SBI Ven Capital',\n",
       "       'Baring Private Equity Partners India, Talbros',\n",
       "       'Sequoia Capital India, 3one4 Capital',\n",
       "       'Prosus Ventures, RTP Global',\n",
       "       'U.S. International Development Finance Corp, responsAbility',\n",
       "       'Binance Labs, Zee Prime Capital', 'RP-Sanjiv Goenka Group',\n",
       "       'IvyCap Ventures', 'Zone Startups In', 'Blue Ashva Capital',\n",
       "       'Ribbit Capital, Kunal Shah', 'Ecom Express', 'InnoVen Capital',\n",
       "       'Satish Grampurohit', 'Amit Singhal, Raine Ventures',\n",
       "       'Octahedron Capital, Moonstone Capital',\n",
       "       'Tiger Global, Dragoneer Investment Group, Steadview Capital, General Atlantic',\n",
       "       'CDC Group, Aavishkaar Venture Capital', 'GSF, Pras Hanuma',\n",
       "       'Ajat Hukkoo, Piyush Chaplot', 'Mumbai Angels, Amitesh Pandey',\n",
       "       'Think Investments',\n",
       "       'Nexus Venture Partners, 23 High Networth Individuals (HNIs)',\n",
       "       'Yatra Angel Network, BEENEXT',\n",
       "       'Orios Venture Partners, Matrix Partners India', 'Trishneet Arora',\n",
       "       'ContCentric', 'Siana Capital', 'DST Global, General Catalyst',\n",
       "       'Anthill Ventures', 'InnoVen Capital, InnoVen Capita',\n",
       "       '3one4 Capital, DSP Group', 'Enzia Ventures, AngelList',\n",
       "       'Steadview Capital, Insight Partners',\n",
       "       'Invested Development, Pratithi Investment Trust',\n",
       "       'Dhianu Das, Agility Venture Partners', 'Hindustan Media Venture',\n",
       "       'Omnivore', 'Awign Enterprises',\n",
       "       'Siddharth Bhaskar Shah, Upsparks', 'S Chand',\n",
       "       'Goldman Sachs, Tata Capital', 'growX ventures, Venture Gurukool',\n",
       "       'Mount Judi India Growth Fund', 'GEF Capital’s South Asia Fund',\n",
       "       'Sunil Sethia, Sunil Kumar Singhvi, Manish Mardia',\n",
       "       'Sequoia Capital', 'Mechanism Capital, DACM',\n",
       "       'Northern Arc Capital, Niyogin Fintech Limited, Credit Saison India, Vivriti Capital',\n",
       "       'Pearl Investment LLC', '021 Capital, Sparrow Capital',\n",
       "       'Kotak Investment Advisors Limited, Gruhas Proptech', 'VANS Group',\n",
       "       'Sachin Tendulkar', 'Xentel Investments', 'Accel Partners',\n",
       "       'Waterbridge, Lumikai', 'Auxano, Falcon5', 'Infoedge ventures',\n",
       "       'JITO Angel Network', 'Jupiter', 'Unitus Ventures',\n",
       "       'GIC, Infoedge', 'pi Ventures',\n",
       "       'Northern Arc, Caspian Impact Investments', 'Sofina Ventures SA',\n",
       "       'Tiger Global, Flipkart Ventures',\n",
       "       'Inflection Point Ventures, Rockstud Capital, Pentathlon Ventures, Prophetic Ventures syndicate',\n",
       "       'Prime VP', 'Tribe Capital, IFC Emerging Asia Fund, VEF',\n",
       "       'Sequoia’s Surge, Y Combinator', 'Endiya Partners',\n",
       "       'Gokul Rajaram, Pureland Venture, Wavemaker Partners',\n",
       "       'Callapina Capital', 'Khosla Ventures',\n",
       "       'Accel Partners, Matrix India',\n",
       "       'Omidyar Network India, Innoven Capital', 'Temasek, Falcon Edge',\n",
       "       'Deep Kalra, Ashish Kashyap, Rajesh Magow',\n",
       "       'IAN, Social Alpha, Startup Oasis', 'Capital India',\n",
       "       'FirstCry, Lightspeed Venture Partners',\n",
       "       'Accel, LetsVenture, 1Crowd', 'SAB Holdings',\n",
       "       'Lightspeed Venture Partners, Elevation Capital',\n",
       "       'Mumbai Angels Network', 'Jayanti Kanani',\n",
       "       'LeapFrog, Khosla Ventures', 'Ananta Capital',\n",
       "       'Northern Arc, Vivriti Capital', 'TATA Cleantech Capital',\n",
       "       'Aqua-Spark', 'Climate Angels Fund',\n",
       "       'Sequoia’s Surge, Nexus Venture Partners',\n",
       "       'Entrepreneur First (EF), GrowX Ventures', 'Zephyr Peacock',\n",
       "       'ADM Capital', 'SoftBank Vision Fund, Hindustan Media Venture',\n",
       "       '100x Entrepreneurs', 'Healthcare veterans, PIEDS',\n",
       "       'Bank of Baroda', 'YCombinator', 'IAN Fund', 'Vishal Gupta',\n",
       "       'Mirae Asset, H&M', 'Kotak Securities', 'Klub',\n",
       "       'Balaji Srinivasan', '$1000000', 'BASF Venture Capital GmbH',\n",
       "       'Rebright Partners, Flourish Ventures', 'Sequoia Surge',\n",
       "       'Titan Capital, Sequoia Capital', 'Parthiv Group',\n",
       "       'Omkar Pandharkame, Ketaki Ogale',\n",
       "       'GetVantage, Velocity, Shiprocket Capital', 'Krafton Inc, Omidyar',\n",
       "       'Blume Ventures, Exfinity Venture Partners',\n",
       "       'Beyond Next Ventures, M Venture Partners', 'AdvantEdge Founders',\n",
       "       'Faering Capital, Sequoia Capital India, IIFL Alternate Asset Managers',\n",
       "       'Sixth Sense Ventures, NABVENTURES', 'Temasek, Multiples PE',\n",
       "       'Griffin Gaming Partners', 'Zinnia Global',\n",
       "       'InfoEdge Ventures, IAN Fund', 'IIFL, Mumbai Angels',\n",
       "       'BEENEXT, Sequoia’s Surge', 'Antler India', 'Bharat Inclusion',\n",
       "       'Fidelity, BlackRock', 'Blacksoil', 'Speciale Invest',\n",
       "       'Canbank Venture Capital Fund', 'W Health Ventures',\n",
       "       '021 Capital, Y Combinator', 'Anand Prakash Sharma',\n",
       "       'Axilor Ventures', 'velocity.in', 'March Capital, Tribe Capital',\n",
       "       'Learn Capital', 'RTP Global', 'IAN, Yuj Ventures',\n",
       "       'Sequoia’s Surge, Accel Partners', 'Uday Sodhi', 'Fidelity, GIC',\n",
       "       'Auxano', 'Angelist India',\n",
       "       'Stanford Angels and Entrepreneurs India, Anjali Bansal',\n",
       "       'Vy Capital, Wellington Management', 'Avon Cycles',\n",
       "       'Matrix Partners India, 021 Capital', 'HNIs, Angels',\n",
       "       'NewQuest Capital Partners, Motilal Oswal Private Equity',\n",
       "       'Lasons India', 'Pankaj Chaddah, Srivatsan Rajan', 'Paytm',\n",
       "       'BlackSoil, CLSA Capital Partners', 'Saama, Whiteboard Capital',\n",
       "       'Indian Angel Network, Titan Capital, Lead Angels',\n",
       "       'The Chennai Angels',\n",
       "       'Venture Highway, Stellaris Venture Partners',\n",
       "       'State Bank of India, Y Combinator', 'Sanjay Baldwa, Ajay Jain',\n",
       "       'InfoEdge', 'Nitin Passi, Ruchirans Jaipuria',\n",
       "       'Stride Ventures, InnoVen Capital',\n",
       "       'Venture Catalysts, Jeevak Gupta',\n",
       "       'Triodos Investment Management, SAIF Partners', 'N+1 Capital',\n",
       "       'DST Global, RTP Global', 'Amit Singal, Manish Aggarwal',\n",
       "       'Trifecta Capital Advisors, Blume Ventures',\n",
       "       'Kumar Aakash, Amit Singhal', 'growX ventures',\n",
       "       'Shaival Desai, Alkemi Venture Partners',\n",
       "       'Aavishkaar Venture Capital, YWC Venture Capital',\n",
       "       'Alteria Capital', 'Tiga Investments, Baron Capital',\n",
       "       'Venture Catalysts, 9unicorns', 'Qualgro',\n",
       "       'Amit Lakhotia, Pravin Jadhav', 'Pravega Ventures',\n",
       "       'Greenoaks Capital, Elevation Capital',\n",
       "       'Sequoia Capital India, rocketship.vc', 'BLinC Invest',\n",
       "       'Spring Marketing Capital', 'Chaitanya Kalipatnapu, Kedar Gavane',\n",
       "       'Roha Investment Managers, angel investor Saumil Shah',\n",
       "       'TNF Ventures, Razorpay', 'Lok Capital, IIFL Asset Management',\n",
       "       'Nvidia Inception', 'Tiger Global Management, DST Global',\n",
       "       'Marquee investors', 'Ashish Hemrajani, Parikshit Dar',\n",
       "       'India Accelerator, Lyxel&Flamingo', 'Roshan Abbas, Ritesh Malik',\n",
       "       'Goat Capital, JAM Fund', 'General Catalyst, Jungle Ventures',\n",
       "       'Blackstone Group, ADQ', 'GoAhead Ventures',\n",
       "       'Paradigm Shift Capital, AngelList India', 'Arali Ventures',\n",
       "       'Anup Kumar Yama', 'Aryaman Vir', 'iSeed, Titan Capital',\n",
       "       'Research Innovation Incubation Design Labs', 'Sushil Agarwal',\n",
       "       'IvyCap Ventures, Endiya Partners',\n",
       "       'GUSEC Seed Fund, DeVX Venture Fund', 'Tiger Global, Sequoia',\n",
       "       'Quadria Capital', 'Blume Ventures, Whiteboard Capital',\n",
       "       'Ashwini Kakkar. 9Unicorns', 'Ashish Shah', 'Faad Network',\n",
       "       'Paragon Partners, Aavishkaar Capital', 'Krafton, Lumikai',\n",
       "       'Indovation Fund, Mumbai Angels', 'Gunosy, Blume Ventures',\n",
       "       'Edge Ventures, Elevation Capital', 'CDC Group',\n",
       "       'Titan Capital, Kunal Shah',\n",
       "       'Yamaha Motors, Omidyar Network India, Eight Roads Ventures',\n",
       "       'Norfund, The Rise Fund', 'Siti Cable',\n",
       "       'Crossbeam Venture Partners', 'Aavishkaar Capital', 'Mapmyindia',\n",
       "       'Jyoti Bansal', 'Accor',\n",
       "       'SRI Capital, Picus Capital, Alkemi Capital',\n",
       "       'Saama Capital, DSG Consumer Partners', 'Valar Ventures',\n",
       "       'Addition, SIG Global India Fund',\n",
       "       '9Unicorns Accelerator Fund, Indian Angel Network',\n",
       "       'Alfa Ventures', '1Crowd',\n",
       "       'TCV, D1 Capital Partners, Falcon Edge.',\n",
       "       'BanyanTree Finance Pvt. Ltd.', 'EXPERT DOJO, Mumbai Angels',\n",
       "       'Quona Capital', 'Ashv Finance, BlackSoil Capital',\n",
       "       'WaterBridge Ventures, SAIF Partners',\n",
       "       'Sweta Rau, 9Unicorns Accelerator Fund',\n",
       "       'Omnivore, Strive Ventures', 'Rajesh Sud, KULDEEP JAIN',\n",
       "       'PayU, Google', 'Sundi Natarajan, Srinivas Anumolu',\n",
       "       'Titan Capital, First Cheque', 'TPG Capital Asia, Epiq Capital',\n",
       "       'MaGEHold Pte. Ltd.', 'BlackRock, Owl Ventures',\n",
       "       'Asian Development Bank, Oman India Joint Investment Fund',\n",
       "       'JSW Ventures, Kalaari Capital',\n",
       "       'Unitus Ventures, Omidyar Network India',\n",
       "       'IvyCap Ventures, Pratithi Investment Trust',\n",
       "       'ACPI Investments, AdvantEdge Founders',\n",
       "       'RouteOne, Mankekar Family Office', 'India Quotient',\n",
       "       'TCN International Commerce', 'Alpine Capital, PremjiInvest',\n",
       "       'Bon Angels Venture Partners, Daesung Private Equity',\n",
       "       'Spring Marketing Capital, Verlinvest', 'Bain Capital',\n",
       "       'F-Prime Capital, Eight Roads Ventures India',\n",
       "       'Mumbai Angels, DNA Entertainment Networks',\n",
       "       'Hornbill Capital Advisers, Plutus Wealth Management',\n",
       "       'ADB Ventures, Jetty Ventures', 'Techstars, Ryan Johnson',\n",
       "       'Bessemer Venture Partners',\n",
       "       'Titan Capital, iSeed, First Cheque, 3.0 Fund.',\n",
       "       'Falcon Edge Capital, White Oak Global Advisors',\n",
       "       'Angel investors', 'Akya Ventures',\n",
       "       'Kayenne Ventures, Nordic Microfinance Initiative',\n",
       "       'Kae Capital, Pi Ventures', 'Elevar Equity, Accel India',\n",
       "       'Titan Capital, Y Combinator', 'Jitendra Gupta, Better Capital',\n",
       "       'Radiant Life Care Private Ltd, Life Healthcare',\n",
       "       'Mount Judi Ventures, growX Ventures, Season Two Ventures',\n",
       "       'Richard Rekhy', 'GAWA Capital, Gaja Capital',\n",
       "       'Better Capital, Bharat Inclusion Seed Fund', 'Krafton',\n",
       "       'Eight Roads Ventures India, Nexus Venture Partners',\n",
       "       'CDC Group, Partners Group',\n",
       "       'Matrix Partners India, Ankur Capital',\n",
       "       'U.S. International Development Finance Corp, Asian Development Bank',\n",
       "       'Hungama, Hindustan Talkies', 'Agility Venture Partners',\n",
       "       'Speciale Invest, Farid Ahsan',\n",
       "       'Bessemer Venture Partners, CDH Investments',\n",
       "       'Sequoia Capital India, Matrix Partners India',\n",
       "       'Chiratae Ventures, AET Fund',\n",
       "       'Omidyar Network, Falcon Edge Capital',\n",
       "       'Jetty Ventures, Srinivas Anumolu', 'Avendus', 'YourNest',\n",
       "       'National Skill Development Corporation, Rianta Capital',\n",
       "       'Sequoia Capital India, Rocketship.vc',\n",
       "       'Infosys, Qualcomm Ventures',\n",
       "       'Real Estate Accelerator Program (REAP), AngelList',\n",
       "       'Asian Development Bank, U.S. International Development Finance Corp',\n",
       "       'Kohlberg Kravis Roberts, Temasek Holdings',\n",
       "       'Shireen Rangaswamy, Dilesh Gathani',\n",
       "       'Rebright Partners, Wadhwani Foundation',\n",
       "       'Dinesh Godara, Aditya Talwar',\n",
       "       'Sistema Asia Capital, Evolvence India Fund',\n",
       "       'Rajesh Agarwal, Nandkishore Mundada',\n",
       "       'Kallol Banerjee, Jaydeep Barman',\n",
       "       'JITO Angel Network, LetsVenture',\n",
       "       'MyAsia VC, Orios Venture Partners',\n",
       "       'W Health Ventures, Pi Ventures',\n",
       "       'Artha India Ventures, Sriram Krishnan', 'GSV, Multiply Ventures',\n",
       "       'WorldBusiness Capital, Northern Arc',\n",
       "       'Tanglin Ventures, Better Capital, Whiteboard Capital',\n",
       "       'Y Combinator, Rehan A Khan', 'Balaji Srinivasan, Naval Ravikant',\n",
       "       'Devesh Sachdev, Bhavesh Manglani',\n",
       "       'Pradeep K Jaisingh, Jayant Mehrotra', 'Varun Alagh, Harish Daiya',\n",
       "       'IAN Fund, World Startup Factory',\n",
       "       'Omidyar Network India, Avaana Capital', 'Brex, Y-Combinator',\n",
       "       'Mark Cuban, MiH Ventures', 'IvyCap Ventures, IAN Fund',\n",
       "       'Gurj Aujla, Ashik K', 'Dream Sports',\n",
       "       'The Chatterjee Group, Prophetic Ventures',\n",
       "       'Harsh Jain, Lalit Keshre', 'Supriya Kumari, Premanshu Singh',\n",
       "       '9Unicorns Accelerator Fund, Sunder Nookala',\n",
       "       'Accel Partners, Falcon Edge Capital, Norwest Venture Partners',\n",
       "       'Pravesh Mehta', 'Gaurav Gupta, Vivek Srivatsav', 'Lead Angels',\n",
       "       'Induslaw, Reddy Futures', 'Yuj Ventures', 'Geekster',\n",
       "       'Manish Subramaniam, Upaya Social Ventures', 'Eaglewings Ventures',\n",
       "       'Appit Simple Infotek', 'Beyond Next Ventures',\n",
       "       'Ramakant Sharma, Elevation Capital',\n",
       "       'Keiretsu Forum, SucSEED Venture Partners',\n",
       "       'Lightspeed India Partners, CM Ventures',\n",
       "       'Skycatcher, Nexus Venture Partners',\n",
       "       'Avataar Venture Partners, Kalaari Capital',\n",
       "       'Alteria Capital, Matrix Partners India',\n",
       "       'Raghav Kapur, Indian Angel Network', 'GSF Accelerator',\n",
       "       'Rishi Kumar Bagla, Krishen Lal Khanna',\n",
       "       'Glade Brook Capital, Nexus, Y Combinator',\n",
       "       'Capital Group, Falcon Edge', 'Dinesh Agarwal, Amarjit Batra',\n",
       "       'Arcilla, Samir Khosla',\n",
       "       'SUNiCON Ventures, Shubhkam Ventures, Jito Angel network, FAAD Network',\n",
       "       'Baring PE India', 'Manuvel Malabar Jewellers', 'Nabventures',\n",
       "       'Y Combinator, Jetty Ventures, Earlsfield Capital, SMC Advisors, Kunal Shah',\n",
       "       'Kunal Shah, Snehal Fulzele', 'SternAegis Ventures',\n",
       "       'Blume Ventures, Orios Ventures',\n",
       "       'Warburg Pincus\\ufeff, Prosus Ventures', 'BlackSoil',\n",
       "       'Akash Prakash, Madhu Jayakumar, Dipinder Sandhu, Shagun Khandelwal',\n",
       "       'OAKS Asset Management', 'Titan Capital, LetsVenture',\n",
       "       'Incofin, NabVentures, Orios', 'BEENEXT', 'SIG',\n",
       "       'Blume Ventures, Micelio Fund',\n",
       "       'CDC Group, Jungle Ventures, March Capital, Marshall Wace',\n",
       "       'Ashish Jain, Ajay Surana',\n",
       "       'We Founder Circle, Appyhigh, Mumbai Angels',\n",
       "       'Aroa Ventures, GVFL, Udaan', 'Investcorp, Omidyar Network',\n",
       "       '2000000',\n",
       "       'Riteesh Mohan Bakshi, Raghav Mohan Bakshi, Achin Kochar',\n",
       "       'Info Edge Ventures, Omnivore', 'Sequoia Capital , Together Fund',\n",
       "       'Alpha Wave Ventures, Falcon Edge Capital',\n",
       "       'Vivek Vaidya, Kevin Donlon, Ayush Singh',\n",
       "       'Kieretsu Forum, Lets Venture, Shell',\n",
       "       'Sixth Sense Ventures, Godrej Family office, Malpani Group',\n",
       "       'Y-Combinator, AME Cloud Ventures, Gokul Rajaram', 'Smallcase',\n",
       "       'The StarupLab, AngelBay',\n",
       "       'Dallas Venture Capital, Mars Growth Capital',\n",
       "       'Raj Nair, Gopinath Latpate',\n",
       "       'Y Combinator, Goat VC, JAM Fund, Goodwater Capital',\n",
       "       'Binny Bansal, General Catalyst',\n",
       "       'General Atlantic, Tiger Global, Moore Strategic Ventures',\n",
       "       'Ascent Capital',\n",
       "       'Northern Arc, Arthmate, Shine Star, E clear, Hinduja',\n",
       "       'Family Office of Kantamaneni, IIM Calcutta Innovation Park',\n",
       "       'Saama Capital\\ufeff, \\ufeffTitan Capital\\ufeff, DSG Consumer Partners',\n",
       "       'Omidyar Network, Flourish Ventures, Elevar Equity, Accel',\n",
       "       'ah! Ventures, We Founder Circle',\n",
       "       'Sequoia Capital, Matrix Partners',\n",
       "       'Falcon Edge, DST Global, D1 Capital, Redbird Capital, Tiger Global',\n",
       "       'Abu Dhabi Growth Fund, Tiger Global', 'Accel, Bain Capital',\n",
       "       'Tiger Global, Insight Partners', 'Ronnie Screwvala',\n",
       "       'WestBridge Capital', 'Elevation, General Catalyst',\n",
       "       'Equanimity Ventures, 9Unicorns', 'Nueva',\n",
       "       'Blume Ventures, Nexus Venture Partners',\n",
       "       'Apoorva Sharma, The Chennai Angels, Karthik Bhat',\n",
       "       'Gokul Rajaram, Venture Catalysts', 'Kvanto Payment Services',\n",
       "       'Siana Capital, Inflexor Ventures, Stride Ventures',\n",
       "       'Oxshott Capital Partners, XN Exponent, Edelweiss',\n",
       "       'Kunal Shah, Better Capital', 'Lightrock India, Filter Capital',\n",
       "       'EKKI', 'Stakeboat Capital',\n",
       "       'Coinbase Ventures, Andreessen Horowitz', 'BEENEXT, 3one4 Capital',\n",
       "       'Let’s Venture, Better Capital',\n",
       "       'International Finance Corporation',\n",
       "       'Alia Bhatt, IAN Fund, Social Alpha, Draper Richards Kaplan Foundation',\n",
       "       'Sequoia Capital India, ICONIQ Capital, Perceptive Advisors',\n",
       "       'LetsVenture', 'India Accelerator', 'Qatar Investment Authority',\n",
       "       'Netcore Cloud, Vallabh Bhansali, Jimmy Mahtani',\n",
       "       'Petronas Ventures', 'Solana', 'Falcon Edge, Softbank',\n",
       "       'Enzia Ventures, Kunal Shah', 'Auxano Capital',\n",
       "       'Prashant Pansare, Supermorpheus', 'Docprime Technologies',\n",
       "       'LC Nueva AIF', 'Nitish Mittersain, Gaurav Munjal',\n",
       "       '9Unicorns, Venture Catalysts, Sandeep Singhal',\n",
       "       'Temasek, Google, SBI Investment', 'Elevar Equity',\n",
       "       'Aroa Ventures',\n",
       "       '9Unicorns, Symphony International Holdings Limited, Value Quest',\n",
       "       'Republic Crypto, Woodstock, DCG, Sahil Lavingia',\n",
       "       'Data Point Capital',\n",
       "       'Momentum 6, Basics Capital, Krypital Capital, Shima Capital, Magnus Capital',\n",
       "       'Norwest Venture Partners', 'Sabre Partners',\n",
       "       'Vertex Ventures, Omnivore',\n",
       "       'Base 10 Partners, Eight Roads Ventures', 'enture Catalyst, IPV',\n",
       "       'Tiger Global, Falcon Edge',\n",
       "       'BAce Capital, Heritas Capital, 3Lines Venture Capital',\n",
       "       'Leo Capital, Mayfield Fund',\n",
       "       'Plutus Wealth, Oaks Asset Management',\n",
       "       'Anil Thadani, Ashutosh Sinha, Roy van Leeuwen',\n",
       "       'Pi Ventures LLP, Tanas Capital, Prodapt Holdings', 'Vitol',\n",
       "       'Ruchirans Jaipuria, Rishi Kajaria', 'Manish Choksi, Varun Vakil',\n",
       "       'Nadir B Godrej', 'Celesta Capital', 'TransUnion, Blume Ventures',\n",
       "       'Blume, Alpha Wave Incubation',\n",
       "       'Habitat for Humanity International',\n",
       "       'Global Founders Capital, Enzia Ventures, Better Capital',\n",
       "       'Kora Capital, Stripe, Alua Capital', 'Iconiq Growth',\n",
       "       'Rukam Capital, DSG Consumer Partners, The Chennai Angels',\n",
       "       'MAS Financial Services', 'Rocketship.vc, Vulcan Capital',\n",
       "       'Tiger Global, Vitruvian Partners',\n",
       "       'Think Investments, Venture Highway',\n",
       "       'Alok Kohli, Sanjeev Bhargava',\n",
       "       'Venture Catalysts, Gruhas Proptech',\n",
       "       \"LetsVenture, AngelList India, Founder's Room Circle\",\n",
       "       'Dinesh Godara, Anuj Ahuja, Aditya', 'Z3Partners',\n",
       "       'Celesta Capital, Omidyar Network India', 'Pavestone Ventures',\n",
       "       'LetsVenture, Paradigm Shift VC, Binny Bansal',\n",
       "       'Sofina, Lightrock India, Temasek', 'Dia Mirza', 'DST Global',\n",
       "       'Pritt Investment Partners, 9Unicorns',\n",
       "       'Darq Capital, Jagadeesh Atukuri', 'Stellaris Venture Partners',\n",
       "       'StartupXseed Ventures', 'Xponentia Capital Partners',\n",
       "       'General Atlantic, Multiples', 'Vulcan Capital', 'InCorp India',\n",
       "       'Oikocredit, Nomura, The Bill & Melinda Gates Foundation',\n",
       "       'Kedaara', 'Moore Strategic Ventures, BEENEXT',\n",
       "       'Kalaari Capital, Incubate Fund India',\n",
       "       'Sequoia Capital, Lightspeed, TVS Capital Funds', 'ABC World Asia',\n",
       "       'IIFL AMC, Sistema Asia Fund, CX Partners, Singularity Growth Opportunities Fund',\n",
       "       'Prime Securities Limited', 'Fidelity, B Capital',\n",
       "       '9Unicorns, Varanium NexGen Fund',\n",
       "       'Sequoia Capital, Sandeep Nailwal',\n",
       "       'Old Fashion Research, Nothing Research, Tenzor capital',\n",
       "       'Aavishkaar Capital, Rajiv Dadlani Group', 'NEVF, AccelNest',\n",
       "       'The Treasury', '9Unicorns, Spearhead Capital, Venture Catalysts',\n",
       "       'Ramp, Rainfall Ventures, Roka Works, Y Combinator',\n",
       "       'India Angel Network',\n",
       "       'Responsibility, Blue Ashva Capital, Pravega Ventures',\n",
       "       'Dream Capital, Elysian Park Ventures', 'CDC Group, Creaegis',\n",
       "       'Lee Fixel’s venture capital firm, Addition',\n",
       "       'Y Combinator, JAFCO Asia, Incubate Fund India, marquee angels',\n",
       "       'The Xander Group', 'Aarin Capital', 'James Milner, Adam Lallana',\n",
       "       'LetsVenture, Ajay Garg, Tarun Sharma', 'Kunal Sarkar',\n",
       "       'Morgan Stanley Private Equity Asia', 'Westbridge Capital',\n",
       "       'Lightrock India', '$Undisclosed', 'JAM, Better Tomorrow Ventures',\n",
       "       'SOSV, Venture Catalysts', 'Incofin’s India Progress Fund',\n",
       "       '9Unicorns, Anthill Ventures', 'Jani Ventures INC',\n",
       "       'CreedCap Asia Advisors', 'Joseph Joy',\n",
       "       'DST Global, Falcon Edge, SoftBank Vision Fund 2',\n",
       "       'Trifecta Capital', \"Titan Capital, AngelList's syndicate\",\n",
       "       'Vineet Singh, Krishna D, Deependra Bisht, Alan Aim',\n",
       "       'Westbridge Capital, Sixth Sense Ventures', 'MaGEHold',\n",
       "       'Season Two Ventures, IndiaMart', 'Kunal Shah, Anant Maheshwari',\n",
       "       'WaterBridge Ventures, Enzia Ventures',\n",
       "       'Tree Line Investment Management', 'Orbimed Asia Partners',\n",
       "       'Zip Co', 'Eight Roads Ventures, GSV', 'Kunal Shah, Krishna Kumar',\n",
       "       'Vijay Shekhar Sharma, Rohit Kapoor, Amanpreet Bajaj, Lalit Singh',\n",
       "       'Stellaris Venture Partners, Chiratae Ventures',\n",
       "       'Lightspeed, Sequioa', 'TheVentures',\n",
       "       'Titan Capital, Archana Priyadarshini, Gaurav Ahuja',\n",
       "       'Jungle Ventures, CX Partners',\n",
       "       'Cygnus Medicare Group, Probal Ghoshal, Shuchin Bajaj',\n",
       "       'M2P Fintech',\n",
       "       'SucSEED  Indovation Fund, Uincept, Palimala Ventures',\n",
       "       'Anicut Angel Fund, Sauce.VC',\n",
       "       'Omidyar Network India, Chiratae Ventures',\n",
       "       'Elevation Capital, Accel India', 'Legatum Capital',\n",
       "       'Navneet Education', '1000000\\t#REF!',\n",
       "       'Sonu Nigam, Whiteboard Capital', 'Aditya Duggar',\n",
       "       'Vertex Ventures, Stellaris Venture Partners',\n",
       "       'Omnivore, India Quotient', 'We Founder Circle, Dexter Angels',\n",
       "       'IIFL\\ufeff, \\ufeffAnicut Angel Fund\\ufeff, \\ufeffKae Capital\\ufeff, TradeCred',\n",
       "       'Indian Angel Network, Axilor', 'Invesco Developing Markets Fund',\n",
       "       'Cholamandalam', 'Curesense Therapeutics', 'Ka Enterprises',\n",
       "       'IAN Fund, Malabar Angel Network, Native Angel Network',\n",
       "       'DSG Consumer Partners, Titan Capital',\n",
       "       'Sujeet Kumar, SucSEED Indovation Fund',\n",
       "       'Ameba Capital, 9Unicorns',\n",
       "       'Susquehanna International Group, Bessemer Venture Partners',\n",
       "       'IIFL AMC, Oman India Joint Investment Fund', 'Unilazer Ventures',\n",
       "       'Tribe Capital, Arkam Ventures, WEH, Kunal Shah',\n",
       "       'Venture Catalysts, Indian Angel Network',\n",
       "       'Elevation Capital, Matrix Partners India', 'Ashok Goyal',\n",
       "       'Cure.fit, Endiya Partners, Tanglin Venture',\n",
       "       'HOF Capital, Old Well Ventures, LetsVenture, 9Unicorns',\n",
       "       'Jinisha Sharma, Aditya Agarwal, Victoria, Abhishek Shroff',\n",
       "       'LetsVenture, 2am VC, magic.fund',\n",
       "       'Arvind Venugopal Nair, Amritendu Mukherjee',\n",
       "       'Rajasthan Venture Capital Fund',\n",
       "       'Covalent, Double Peak, GenBlock Capital, Ledger Prime, MEXC Global, Synaps',\n",
       "       'Vijayan', 'Gokul Rajaram, JPIN, Venture Catalysts UK, AngelList',\n",
       "       'Rachit Poddar, Rajesh Gupta',\n",
       "       'Virenxia Group, Rajesh Jain, Nitin Agarwal', 'Addition',\n",
       "       'Prashasta Seth',\n",
       "       'Matrix Partners India, Jitendra Gupta, RTP Global',\n",
       "       'Shaival Desai, Flowstate Ventures', 'Zoho', 'Transworld Group',\n",
       "       'IIFL AMC', 'Owl Ventures', 'Winter Capital, ETS, Man Capital',\n",
       "       '3one4 Capital, Kalaari Capital'], dtype=object)"
      ]
     },
     "execution_count": 76,
     "metadata": {},
     "output_type": "execute_result"
    }
   ],
   "source": [
    "# Preview unique values in the Investor column\n",
    "\n",
    "df_2021[\"Investor\"].unique()"
   ]
  },
  {
   "cell_type": "code",
   "execution_count": 77,
   "metadata": {},
   "outputs": [
    {
     "name": "stdout",
     "output_type": "stream",
     "text": [
      "           Company_Brand  Founded             HeadQuarter  \\\n",
      "242   Fullife Healthcare   2009.0  Pharmaceuticals\\t#REF!   \n",
      "256   Fullife Healthcare   2009.0  Pharmaceuticals\\t#REF!   \n",
      "257              MoEVing   2021.0         Gurugram\\t#REF!   \n",
      "545            AdmitKard   2016.0                   Noida   \n",
      "1100            Sochcast   2020.0     Online Media\\t#REF!   \n",
      "\n",
      "                                                 Sector  \\\n",
      "242   Primary Business is Development and Manufactur...   \n",
      "256   Primary Business is Development and Manufactur...   \n",
      "257   MoEVing is India's only Electric Mobility focu...   \n",
      "545                                              EdTech   \n",
      "1100  Sochcast is an Audio experiences company that ...   \n",
      "\n",
      "                                           What_it_does  \\\n",
      "242                                        Varun Khanna   \n",
      "256                                        Varun Khanna   \n",
      "257                         Vikash Mishra, Mragank Jain   \n",
      "545   A tech solution for end to end career advisory...   \n",
      "1100  CA Harvinderjit Singh Bhatia, Garima Surana, A...   \n",
      "\n",
      "                                              Founders      Investor  \\\n",
      "242                 Morgan Stanley Private Equity Asia     $22000000   \n",
      "256                 Morgan Stanley Private Equity Asia     $22000000   \n",
      "257     Anshuman Maheshwary, Dr Srihari Raju Kalidindi      $5000000   \n",
      "545   Vamsi Krishna, Pulkit Jain, Gaurav Munjal\\t#REF!      $1000000   \n",
      "1100           Vinners, Raj Nayak, Amritaanshu Agrawal  $Undisclosed   \n",
      "\n",
      "          Amount Stage  \n",
      "242   22000000.0  None  \n",
      "256   22000000.0  None  \n",
      "257    5000000.0  None  \n",
      "545    1000000.0  None  \n",
      "1100         NaN  None  \n"
     ]
    }
   ],
   "source": [
    "\n",
    "# Create a boolean mask to identify rows with the $ symbol in the \"Investor\" column\n",
    "mask = df_2021[\"Investor\"].str.contains('\\$', na=False)\n",
    "\n",
    "# Use the .loc method to filter the DataFrame\n",
    "filtered_df = df_2021.loc[mask]\n",
    "\n",
    "# Display the filtered DataFrame\n",
    "print(filtered_df)\n"
   ]
  },
  {
   "cell_type": "code",
   "execution_count": 78,
   "metadata": {},
   "outputs": [],
   "source": [
    "# Replace numeric values in the \"Investor\" column with corresponding \"Founders\" values\n",
    "\n",
    "df_2021[\"Investor\"].replace(\"$22000000\", 'Morgan Stanley Private Equity Asia', inplace=True)\n",
    "df_2021[\"Investor\"].replace(\"$5000000\", 'Anshuman Maheshwary, Dr Srihari Raju Kalidindi', inplace=True)\n",
    "df_2021[\"Investor\"].replace(\"$1000000\", 'Vamsi Krishna, Pulkit Jain, Gaurav Munjal\t#REF!', inplace=True)\n",
    "df_2021[\"Investor\"].replace(\"2000000\", 'Ganesh Iyer' , inplace=True)"
   ]
  },
  {
   "cell_type": "code",
   "execution_count": 79,
   "metadata": {},
   "outputs": [
    {
     "data": {
      "text/plain": [
       "'Morgan Stanley Private Equity Asia'"
      ]
     },
     "execution_count": 79,
     "metadata": {},
     "output_type": "execute_result"
    }
   ],
   "source": [
    "# Verify the changes made to the \"Investor\" column\n",
    "df_2021.loc[242, 'Investor']"
   ]
  },
  {
   "cell_type": "code",
   "execution_count": 80,
   "metadata": {},
   "outputs": [
    {
     "data": {
      "text/plain": [
       "array(['Pre-series A', None, 'Series D', 'Series C', 'Seed', 'Series B',\n",
       "       'Series E', 'Pre-seed', 'Series A', 'Pre-series B', 'Debt',\n",
       "       '$1200000', 'Bridge', 'Seed+', 'Series F2', 'Series A+',\n",
       "       'Series G', 'Series F', 'Series H', 'Series B3', 'PE', 'Series F1',\n",
       "       'Pre-series A1', '$300000', 'Early seed', 'Series D1', '$6000000',\n",
       "       '$1000000', 'Seies A', 'Pre-series', 'Series A2', 'Series I'],\n",
       "      dtype=object)"
      ]
     },
     "execution_count": 80,
     "metadata": {},
     "output_type": "execute_result"
    }
   ],
   "source": [
    "# Preview the unique values of the Stages column of the 2021 dataframe\n",
    "\n",
    "df_2021[\"Stage\"].unique()"
   ]
  },
  {
   "cell_type": "code",
   "execution_count": 81,
   "metadata": {},
   "outputs": [
    {
     "name": "stdout",
     "output_type": "stream",
     "text": [
      "        Company_Brand  Founded     HeadQuarter                  Sector  \\\n",
      "98            FanPlay   2020.0  Computer Games          Computer Games   \n",
      "111           FanPlay   2020.0  Computer Games          Computer Games   \n",
      "538       Little Leap   2020.0       New Delhi                  EdTech   \n",
      "551             BHyve   2020.0          Mumbai         Human Resources   \n",
      "674      MYRE Capital   2020.0          Mumbai  Commercial Real Estate   \n",
      "677  Saarthi Pedagogy   2015.0       Ahmadabad                  EdTech   \n",
      "\n",
      "                                          What_it_does  \\\n",
      "98   A real money game app specializing in trivia g...   \n",
      "111  A real money game app specializing in trivia g...   \n",
      "538                Soft Skills that make Smart Leaders   \n",
      "551  A Future of Work Platform for diffusing Employ...   \n",
      "674                Democratising Real Estate Ownership   \n",
      "677  India's fastest growing Pedagogy company, serv...   \n",
      "\n",
      "                                              Founders  \\\n",
      "98                                              YC W21   \n",
      "111                                             YC W21   \n",
      "538  Holistic Development Programs for children in ...   \n",
      "551                                  Backed by 100x.VC   \n",
      "674            Own rent yielding commercial properties   \n",
      "677                                           Pedagogy   \n",
      "\n",
      "                            Investor     Amount     Stage  \n",
      "98       Pritesh Kumar, Bharat Gupta  1200000.0  $1200000  \n",
      "111      Pritesh Kumar, Bharat Gupta  1200000.0  $1200000  \n",
      "538                     Vishal Gupta   300000.0   $300000  \n",
      "551  Omkar Pandharkame, Ketaki Ogale   300000.0   $300000  \n",
      "674                      Aryaman Vir        NaN  $6000000  \n",
      "677                   Sushil Agarwal  1000000.0  $1000000  \n"
     ]
    }
   ],
   "source": [
    "# Create a boolean mask to identify rows with the $ symbol in the \"Stage\" column\n",
    "mask = df_2021[\"Stage\"].str.contains('\\$', na=False)\n",
    "\n",
    "# Use the .loc method to filter the DataFrame\n",
    "filtered_df = df_2021.loc[mask]\n",
    "\n",
    "# Display the filtered DataFrame\n",
    "print(filtered_df)\n"
   ]
  },
  {
   "cell_type": "code",
   "execution_count": 82,
   "metadata": {},
   "outputs": [
    {
     "data": {
      "text/plain": [
       "array(['Pre-series A', None, 'Series D', 'Series C', 'Seed', 'Series B',\n",
       "       'Series E', 'Pre-seed', 'Series A', 'Pre-series B', 'Debt', <NA>,\n",
       "       'Bridge', 'Seed+', 'Series F2', 'Series A+', 'Series G',\n",
       "       'Series F', 'Series H', 'Series B3', 'PE', 'Series F1',\n",
       "       'Pre-series A1', 'Early seed', 'Series D1', 'Seies A',\n",
       "       'Pre-series', 'Series A2', 'Series I'], dtype=object)"
      ]
     },
     "execution_count": 82,
     "metadata": {},
     "output_type": "execute_result"
    }
   ],
   "source": [
    "# Replace specific values in the 'Stage' column with NaN\n",
    "values_to_drop = ['$1200000', '$300000', '$300000', '$6000000', '$1000000']\n",
    "df_2021['Stage'] = df_2021['Stage'].replace(values_to_drop, pd.NA)\n",
    "\n",
    "# Display the DataFrame after modification\n",
    "df_2021[\"Stage\"].unique()"
   ]
  },
  {
   "cell_type": "code",
   "execution_count": 83,
   "metadata": {},
   "outputs": [
    {
     "data": {
      "text/plain": [
       "0           AI startup\n",
       "1               EdTech\n",
       "2               EdTech\n",
       "3       B2B E-commerce\n",
       "4              FinTech\n",
       "5        Home services\n",
       "6           HealthTech\n",
       "7           HealthTech\n",
       "8         Tech Startup\n",
       "9           E-commerce\n",
       "10          HealthTech\n",
       "11         B2B service\n",
       "12          Helathcare\n",
       "13    Renewable Energy\n",
       "14          E-commerce\n",
       "15         Electronics\n",
       "16    Renewable Energy\n",
       "17          IT startup\n",
       "18              EdTech\n",
       "19             FinTech\n",
       "Name: Sector, dtype: object"
      ]
     },
     "execution_count": 83,
     "metadata": {},
     "output_type": "execute_result"
    }
   ],
   "source": [
    "# Strip the first element of the \"Sector\" column.\n",
    "\n",
    "df_2021['Sector'] = df_2021.Sector.str.split(',').str[0]\n",
    "df_2021['Sector'].head(20)\n"
   ]
  },
  {
   "cell_type": "code",
   "execution_count": 84,
   "metadata": {},
   "outputs": [
    {
     "data": {
      "text/plain": [
       "array(['AI startup', 'EdTech', 'B2B E-commerce', 'FinTech',\n",
       "       'Home services', 'HealthTech', 'Tech Startup', 'E-commerce',\n",
       "       'B2B service', 'Helathcare', 'Renewable Energy', 'Electronics',\n",
       "       'IT startup', 'Food & Beverages', 'Aeorspace', 'Deep Tech',\n",
       "       'Dating', 'Gaming', 'Robotics', 'Retail', 'Food', 'Oil and Energy',\n",
       "       'AgriTech', 'Telecommuncation', 'Milk startup', 'AI Chatbot', 'IT',\n",
       "       'Logistics', 'Hospitality', 'Fashion', 'Marketing',\n",
       "       'Transportation', 'LegalTech', 'Food delivery', 'Automotive',\n",
       "       'SaaS startup', 'Fantasy sports', 'Video communication',\n",
       "       'Social Media', 'Skill development', 'Rental', 'Recruitment',\n",
       "       'HealthCare', 'Sports', 'Computer Games', 'Consumer Goods',\n",
       "       'Information Technology', 'Apparel & Fashion',\n",
       "       'Logistics & Supply Chain', 'Healthtech', 'Healthcare',\n",
       "       'SportsTech', 'HRTech', 'Wine & Spirits',\n",
       "       'Mechanical & Industrial Engineering', 'Spiritual',\n",
       "       'Financial Services', 'Industrial Automation', 'Health',\n",
       "       'Lifestyle', 'IoT', 'Banking', 'Computer software', 'Tech startup',\n",
       "       'Digital mortgage', 'Information Technology & Services',\n",
       "       'Furniture', 'B2B marketplace', 'Healtcare', 'Location Analytics',\n",
       "       'Media', 'Consumer Electronics', 'Tobacco', 'Deeptech',\n",
       "       'Insuretech', 'MLOps platform', 'Venture Capital', 'Pet care',\n",
       "       'Drone', 'Wholesale', 'Construction', 'E-learning',\n",
       "       'Consumer Services', 'Venture Capital & Private Equity', 'OTT',\n",
       "       'Education Management', 'Computer Software', 'Insurance',\n",
       "       'Software Startup', 'Computer & Network Security',\n",
       "       'Capital Markets', 'Social network', 'Hospital & Health Care',\n",
       "       'Music', 'Hauz Khas',\n",
       "       'Primary Business is Development and Manufacturing of Novel Healthcare Products in Effervescent forms using imported propriety ingredients.',\n",
       "       \"MoEVing is India's only Electric Mobility focused Technology Platform with a vision to accelerate EV adoption in India.\",\n",
       "       'Cosmetics', 'Mobility', 'Social media', 'Real Estate',\n",
       "       'Digital platform', 'B2B Ecommerce', 'Online Media',\n",
       "       'Social commerce', 'Mobile Games', 'Food Production', 'Podcast',\n",
       "       'HeathTech', 'Battery', 'Content publishing', 'Water purification',\n",
       "       'Content commerce', 'Innovation Management', 'Software company',\n",
       "       'Automation', 'Food Industry', 'Celebrity Engagement',\n",
       "       'Trading platform', 'Personal Care', 'Cannabis startup',\n",
       "       'Blogging', 'Consulting', 'BioTechnology', 'B2B Marketplace',\n",
       "       'Health care', 'Social audio', 'Fashion and lifestyle',\n",
       "       'Delivery service', 'B2B Manufacturing', 'Home Decor', 'Solar',\n",
       "       'TaaS startup', 'EV startup', 'HR Tech', 'Blockchain startup',\n",
       "       'Food and Beverages', 'Beverages', 'Manufacturing startup',\n",
       "       'Cryptocurrency', 'Vehicle repair startup', 'Advisory firm',\n",
       "       'Legaltech', 'Pollution control equiptment', 'Fashion & Lifestyle',\n",
       "       'Blockchain', 'Fitness', 'D2C', 'Automobile',\n",
       "       'Environmental Services', 'Merchandise', 'Facilities Services',\n",
       "       'Marketing & Advertising', 'Human Resources', 'Eyewear',\n",
       "       'D2C Business', 'Biotechnology', 'Farming', 'NFT Marketplace',\n",
       "       'Internet', 'SpaceTech', 'Consumer software', 'Social community',\n",
       "       'Fishery', 'Renewables & Environment', 'Online storytelling',\n",
       "       'Aviation', 'IT company', 'Environmental service',\n",
       "       'Job discovery platform', 'D2C Fashion', 'Heathcare', 'CRM',\n",
       "       'Software', 'Nutrition', 'D2C startup', 'Innovation management',\n",
       "       'Community platform', 'Venture capitalist', 'Networking',\n",
       "       'Commercial Real Estate', 'AR startup', 'Consumer service',\n",
       "       'Consumer goods', 'MarTech', 'Advertisement', 'Content creation',\n",
       "       'Augmented reality', 'Rental space', 'Bike Rental',\n",
       "       'Beauty products', 'Tourism', 'FemTech', 'Cultural', 'Co-working',\n",
       "       'InsureTech', 'Supply chain platform', 'Social platform',\n",
       "       'CleanTech', 'Real estate', 'AI company', 'Sports startup',\n",
       "       'Matrimony', 'Crypto', 'Clothing', 'Analytics', 'Finance',\n",
       "       'IoT platform', 'Commerce', 'Defense & Space', 'Entertainment',\n",
       "       'Business Supplies & Equipment', 'NFT', 'Oil & Energy', 'EV',\n",
       "       'Company-as-a-Service', 'Textiles',\n",
       "       'Professional Training & Coaching', 'Maritime',\n",
       "       'Housing Marketplace', 'Furniture Rental', 'Telecommunications',\n",
       "       'Equity Management', 'Cloud kitchen', 'Nanotechnology',\n",
       "       'Community', 'Higher Education', 'B2B',\n",
       "       'Mechanical Or Industrial Engineering', 'D2C jewellery',\n",
       "       'Sales and Distribution', 'SaaS', 'Information Services',\n",
       "       'Translation & Localization', 'Investment Banking', 'Femtech',\n",
       "       'sports', 'Foootwear', 'Legal Services', 'Veterinary',\n",
       "       'Arts & Crafts', 'Investment Management', 'Education',\n",
       "       'Management Consulting', 'B2B startup',\n",
       "       'Sochcast is an Audio experiences company that give the listener and creators an Immersive Audio experience',\n",
       "       'Design', 'B2B Travel', 'Interior Design', 'Manchester',\n",
       "       'Product studio', 'Aviation & Aerospace', 'Staffing & Recruiting'],\n",
       "      dtype=object)"
      ]
     },
     "execution_count": 84,
     "metadata": {},
     "output_type": "execute_result"
    }
   ],
   "source": [
    "\n",
    "df_2021[\"Sector\"].unique()"
   ]
  },
  {
   "cell_type": "code",
   "execution_count": 85,
   "metadata": {},
   "outputs": [
    {
     "name": "stdout",
     "output_type": "stream",
     "text": [
      "Sector\n",
      "FinTech                   122\n",
      "EdTech                    102\n",
      "Financial Services         61\n",
      "E-commerce                 37\n",
      "Food & Beverages           37\n",
      "                         ... \n",
      "Manufacturing startup       1\n",
      "Cryptocurrency              1\n",
      "Vehicle repair startup      1\n",
      "Advisory firm               1\n",
      "Staffing & Recruiting       1\n",
      "Name: count, Length: 253, dtype: int64\n"
     ]
    }
   ],
   "source": [
    "# Display the count of the first element of the \"Sector\" column\n",
    "\n",
    "sector_freq = df_2021[\"Sector\"].value_counts(dropna=False)\n",
    "\n",
    "# Display the frequencies\n",
    "\n",
    "print(sector_freq)\n"
   ]
  },
  {
   "cell_type": "markdown",
   "metadata": {},
   "source": [
    "array(['AI startup', 'EdTech', None, 'FinTech', 'Home services',\n",
    "       'HealthTech', 'Tech Startup', 'Helathcare', 'Renewable Energy',\n",
    "       'Electronics', 'IT startup', 'Aeorspace', 'Deep Tech', 'Dating',\n",
    "       'Gaming', 'Robotics', 'Retail', 'Food', 'Oil and Energy',\n",
    "       'AgriTech', 'Telecommuncation', 'Milk startup', 'AI Chatbot', 'IT',\n",
    "       'Logistics', 'Hospitality', 'Fashion', 'Marketing',\n",
    "       'Transportation', 'LegalTech', 'Food delivery', 'Automotive',\n",
    "       'SaaS startup', 'Fantasy sports', 'Video communication',\n",
    "       'Social Media', 'Skill development', 'Rental', 'Recruitment',\n",
    "       'HealthCare', 'Sports', 'Computer Games', 'Consumer Goods',\n",
    "       'Information Technology', 'Healthtech'], dtype=object)"
   ]
  },
  {
   "cell_type": "code",
   "execution_count": 86,
   "metadata": {},
   "outputs": [
    {
     "data": {
      "text/plain": [
       "0    Bangalore\n",
       "1       Mumbai\n",
       "2       Mumbai\n",
       "3       Mumbai\n",
       "4     Gurugram\n",
       "Name: HeadQuarter, dtype: object"
      ]
     },
     "execution_count": 86,
     "metadata": {},
     "output_type": "execute_result"
    }
   ],
   "source": [
    "# Strip the first element of the \"HeadQuarter\" column and return the first element\n",
    "df_2021['HeadQuarter'] = df_2021.HeadQuarter.str.split(',').str[0]\n",
    "df_2021['HeadQuarter'].head()"
   ]
  },
  {
   "cell_type": "code",
   "execution_count": 87,
   "metadata": {},
   "outputs": [],
   "source": [
    "# Remove unwanted characters\n",
    "df_2020['Founders'] = df_2020['Founders'].replace(['...', np.nan], np.NaN)"
   ]
  },
  {
   "cell_type": "code",
   "execution_count": 88,
   "metadata": {},
   "outputs": [],
   "source": [
    "# Remove unwanted characters\n",
    "df_2020['Founded'] = df_2020['Founded'].replace(['...', np.nan], np.NaN)"
   ]
  },
  {
   "cell_type": "code",
   "execution_count": 89,
   "metadata": {},
   "outputs": [
    {
     "name": "stdout",
     "output_type": "stream",
     "text": [
      "Stage\n",
      "None             428\n",
      "Seed             246\n",
      "Pre-series A     157\n",
      "Series A         126\n",
      "Series B          49\n",
      "Pre-seed          47\n",
      "Series C          45\n",
      "Debt              27\n",
      "Series D          21\n",
      "Series E          18\n",
      "Pre-series B      10\n",
      "Series F           6\n",
      "<NA>               6\n",
      "Pre-series A1      4\n",
      "Bridge             2\n",
      "Pre-series         2\n",
      "Series G           2\n",
      "Series H           2\n",
      "Series A2          1\n",
      "Seies A            1\n",
      "Series D1          1\n",
      "Early seed         1\n",
      "Series F2          1\n",
      "Series F1          1\n",
      "PE                 1\n",
      "Series B3          1\n",
      "Series A+          1\n",
      "Seed+              1\n",
      "Series I           1\n",
      "Name: count, dtype: int64\n"
     ]
    }
   ],
   "source": [
    "# Verify the frequency of unique values in the Sector column\n",
    "stage_freq = df_2021[\"Stage\"].value_counts(dropna=False)\n",
    "\n",
    "# Display the frequencies\n",
    "print(stage_freq)"
   ]
  },
  {
   "cell_type": "markdown",
   "metadata": {},
   "source": [
    "Add funded year column to each dataframe for ease of comparison"
   ]
  },
  {
   "cell_type": "code",
   "execution_count": 90,
   "metadata": {},
   "outputs": [],
   "source": [
    "# add funded year column to each dataframe for ease of comparison\n",
    "\n",
    "df_2018['Funded_Year'] = pd.to_datetime('2018', format='%Y').year\n",
    "df_2019['Funded_Year'] = pd.to_datetime('2019', format='%Y').year\n",
    "df_2020['Funded_Year'] = pd.to_datetime('2020', format='%Y').year\n",
    "df_2021['Funded_Year'] = pd.to_datetime('2021', format='%Y').year"
   ]
  },
  {
   "cell_type": "code",
   "execution_count": 91,
   "metadata": {},
   "outputs": [
    {
     "name": "stdout",
     "output_type": "stream",
     "text": [
      "<class 'pandas.core.frame.DataFrame'>\n",
      "RangeIndex: 2879 entries, 0 to 2878\n",
      "Data columns (total 10 columns):\n",
      " #   Column         Non-Null Count  Dtype  \n",
      "---  ------         --------------  -----  \n",
      " 0   Company_Brand  2879 non-null   object \n",
      " 1   Founded        2110 non-null   float64\n",
      " 2   HeadQuarter    2765 non-null   object \n",
      " 3   Sector         2861 non-null   object \n",
      " 4   What_it_does   2879 non-null   object \n",
      " 5   Founders       2334 non-null   object \n",
      " 6   Investor       2253 non-null   object \n",
      " 7   Amount         2470 non-null   float64\n",
      " 8   Stage          1935 non-null   object \n",
      " 9   Funded_Year    2879 non-null   int64  \n",
      "dtypes: float64(2), int64(1), object(7)\n",
      "memory usage: 225.1+ KB\n"
     ]
    }
   ],
   "source": [
    "# Merge all the dataframess by concatenating them vertically\n",
    "df_con = pd.concat([df_2021, df_2020, df_2019, df_2018], ignore_index=True)\n",
    "df_con.info()"
   ]
  },
  {
   "cell_type": "code",
   "execution_count": 92,
   "metadata": {},
   "outputs": [
    {
     "name": "stdout",
     "output_type": "stream",
     "text": [
      "\n",
      "Number of unique stages in the 'Stage' column:\n",
      "\n",
      "70\n"
     ]
    }
   ],
   "source": [
    "# Preview the count of unique stages in the \"Stages\" column\n",
    "\n",
    "unique_stg_count = df_con[\"Stage\"].nunique()\n",
    "print()\n",
    "print(\"Number of unique stages in the 'Stage' column:\")\n",
    "print()\n",
    "print(unique_stg_count)"
   ]
  },
  {
   "cell_type": "code",
   "execution_count": 93,
   "metadata": {},
   "outputs": [
    {
     "name": "stdout",
     "output_type": "stream",
     "text": [
      "Stage\n",
      "Seed                        606\n",
      "Series A                    305\n",
      "Pre-series A                211\n",
      "Series B                    134\n",
      "Series C                    114\n",
      "Seed Round                   69\n",
      "Pre series A                 62\n",
      "Pre-seed                     58\n",
      "Series D                     50\n",
      "Debt                         45\n",
      "Venture - Series Unknown     37\n",
      "Angel                        37\n",
      "Series E                     30\n",
      "Pre-series B                 14\n",
      "Debt Financing               13\n",
      "Pre Series A                 12\n",
      "Series F                     11\n",
      "Seed round                   10\n",
      "Private Equity               10\n",
      "Corporate Round               8\n",
      "Pre-Seed                      8\n",
      "Bridge                        8\n",
      "Series H                      4\n",
      "Pre seed round                4\n",
      "Angel Round                   4\n",
      "Pre-series A1                 4\n",
      "Grant                         4\n",
      "Post-IPO Equity               3\n",
      "                              3\n",
      "Secondary Market              3\n",
      "Pre-series                    3\n",
      "Series G                      3\n",
      "Seed funding                  3\n",
      "Pre series B                  2\n",
      "Series B2                     2\n",
      "Pre-seed Round                2\n",
      "Pre-series C                  2\n",
      "Seed Funding                  2\n",
      "Post-IPO Debt                 2\n",
      "Pre-Series B                  2\n",
      "Series D1                     2\n",
      "Post series A                 1\n",
      "Non-equity Assistance         1\n",
      "Fresh funding                 1\n",
      "Series A+                     1\n",
      "Seed fund                     1\n",
      "Series B+                     1\n",
      "Series F2                     1\n",
      "Mid series                    1\n",
      "Seed+                         1\n",
      "Series C, D                   1\n",
      "Early seed                    1\n",
      "Seed Investment               1\n",
      "Pre series C                  1\n",
      "Seies A                       1\n",
      "Series A2                     1\n",
      "Series I                      1\n",
      "Pre- series A                 1\n",
      "Edge                          1\n",
      "Seed A                        1\n",
      "Series A-1                    1\n",
      "Series F1                     1\n",
      "Seed Round & Series A         1\n",
      "PE                            1\n",
      "Pre seed Round                1\n",
      "Pre series A1                 1\n",
      "Series E2                     1\n",
      "Series B3                     1\n",
      "Bridge Round                  1\n",
      "Funding Round                 1\n",
      "Name: count, dtype: int64\n"
     ]
    }
   ],
   "source": [
    "# Preview the frequency of unique values in the Stage column\n",
    "print(df_con[\"Stage\"].value_counts())\n"
   ]
  },
  {
   "cell_type": "code",
   "execution_count": 94,
   "metadata": {},
   "outputs": [],
   "source": [
    "# Define a categorization function to bin the Stage column into Ideation, Validation, Early Traction, Scalling and Exit Options based on cleaned Stage column\n",
    "\n",
    "# Define the function to categorize the Stage column\n",
    "def categorize_stage_column(df_con):\n",
    "    # Convert the Stage column to string and lower case, handling NaN values\n",
    "    df_con['Stage'] = df_con['Stage'].astype(str).str.lower()\n",
    "    \n",
    "    # Define the mapping of stages to categories\n",
    "    stage_mapping = {\n",
    "        'ideation': ['pre[ -]?seed'],\n",
    "        'validation': ['seed', 'pre-series a', 'pre-series a1', 'pre-series b', 'angel'],\n",
    "        'early_traction': ['series a', 'series a+', 'series a2', 'series b3', 'series d1'],\n",
    "        'scaling': ['series b', 'series c', 'series d', 'series e'],\n",
    "        'exit_option': [\n",
    "            'series f', 'series f1', 'series f2', 'series g', 'series h', 'series i', 'private equity', 'mid series', \n",
    "            'venture - series unknown', 'post-ipo equity', 'post-ipo debt'\n",
    "        ],\n",
    "        'others': [\n",
    "            'pre-series', 'bridge', 'corporate round', 'debt', 'undisclosed', \n",
    "            'secondary market', 'non-equity assistance', 'grant', 'nan', 'none', '<na>',\n",
    "         \n",
    "        ]\n",
    "    }\n",
    "    \n",
    "    # Loop through the mapping and replace values in the Stage column\n",
    "    for category, keywords in stage_mapping.items():\n",
    "        pattern = '|'.join(keywords)\n",
    "        df_con.loc[df_con['Stage'].str.contains(pattern, regex=True, na=False), 'Stage'] = category\n",
    "    \n",
    "    # Return the cleaned DataFrame\n",
    "    return df_con\n",
    "\n",
    "# Apply the transformation to the DataFrame\n",
    "df_con = categorize_stage_column(df_con)\n",
    "\n",
    "\n"
   ]
  },
  {
   "cell_type": "code",
   "execution_count": 95,
   "metadata": {},
   "outputs": [
    {
     "name": "stdout",
     "output_type": "stream",
     "text": [
      "\n",
      "Number of unique stages in the 'Stage' column:\n",
      "\n",
      "12\n"
     ]
    }
   ],
   "source": [
    "unique_stg_count = df_con[\"Stage\"].nunique()\n",
    "print()\n",
    "print(\"Number of unique stages in the 'Stage' column:\")\n",
    "print()\n",
    "print(unique_stg_count)"
   ]
  },
  {
   "cell_type": "code",
   "execution_count": 96,
   "metadata": {},
   "outputs": [
    {
     "name": "stdout",
     "output_type": "stream",
     "text": [
      "Stage\n",
      "others            1030\n",
      "validation         968\n",
      "early_traction     388\n",
      "scaling            338\n",
      "exit_option         74\n",
      "ideation            73\n",
      "                     3\n",
      "pe                   1\n",
      "seies a              1\n",
      "edge                 1\n",
      "fresh funding        1\n",
      "funding round        1\n",
      "Name: count, dtype: int64\n"
     ]
    }
   ],
   "source": [
    "# View the frequency of unique values in the Stage column\n",
    "print(df_con[\"Stage\"].value_counts())\n"
   ]
  },
  {
   "cell_type": "code",
   "execution_count": 97,
   "metadata": {},
   "outputs": [
    {
     "name": "stdout",
     "output_type": "stream",
     "text": [
      "['validation' 'others' 'scaling' 'ideation' 'early_traction' 'exit_option'\n",
      " 'pe' 'seies a' 'edge' 'fresh funding' '' 'funding round']\n"
     ]
    }
   ],
   "source": [
    "print(df_con[\"Stage\"].unique())"
   ]
  }
 ],
 "metadata": {
  "kernelspec": {
   "display_name": "venv",
   "language": "python",
   "name": "python3"
  },
  "language_info": {
   "codemirror_mode": {
    "name": "ipython",
    "version": 3
   },
   "file_extension": ".py",
   "mimetype": "text/x-python",
   "name": "python",
   "nbconvert_exporter": "python",
   "pygments_lexer": "ipython3",
   "version": "3.12.3"
  }
 },
 "nbformat": 4,
 "nbformat_minor": 2
}
