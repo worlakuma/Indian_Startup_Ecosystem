{
 "cells": [
  {
   "cell_type": "code",
   "execution_count": 2,
   "metadata": {},
   "outputs": [],
   "source": [
    "import pyodbc\n",
    "from dotenv import dotenv_values\n",
    "import pandas as pd\n",
    "import warnings\n",
    "import numpy as np\n",
    "import calendar\n",
    "import matplotlib.pyplot as plt\n",
    "import seaborn as sns\n",
    "import requests\n",
    "\n",
    "warnings.filterwarnings('ignore')\n",
    "\n",
    "# Set display options for Pandas DataFrame\n",
    "pd.set_option(\"display.max_rows\", 100)\n",
    "pd.set_option(\"display.max_columns\", 100)"
   ]
  },
  {
   "cell_type": "markdown",
   "metadata": {},
   "source": [
    "#### Data Collection\n",
    "##### Access the 2020 and 2021 data from Microsoft SQL Server\n",
    "##### Connect to the database using provided credentials"
   ]
  },
  {
   "cell_type": "code",
   "execution_count": 3,
   "metadata": {},
   "outputs": [],
   "source": [
    "# load environment variables from.env file into dictionary\n",
    "environment_variables = dotenv_values('.env')\n",
    "\n",
    "# get the values for the environment variables\n",
    "server = environment_variables.get(\"DBS\")\n",
    "login = environment_variables.get(\"DBU\")\n",
    "password = environment_variables.get(\"DBP\")\n",
    "database = environment_variables.get(\"DBN\")\n",
    "\n",
    "# Create a database connection string using pyodbc\n",
    "connection_string = f\"DRIVER={{SQL Server}};SERVER={server};DATABASE={database};UID={login};PWD={password}\""
   ]
  },
  {
   "cell_type": "code",
   "execution_count": 4,
   "metadata": {},
   "outputs": [],
   "source": [
    "#Establish a connection to the database\n",
    "connection = pyodbc.connect(connection_string)"
   ]
  },
  {
   "cell_type": "markdown",
   "metadata": {},
   "source": [
    "##### Schema for tables in the database"
   ]
  },
  {
   "cell_type": "code",
   "execution_count": 5,
   "metadata": {},
   "outputs": [
    {
     "name": "stdout",
     "output_type": "stream",
     "text": [
      "Data retrieved successfully\n",
      "  TABLE_CATALOG TABLE_SCHEMA               TABLE_NAME  TABLE_TYPE\n",
      "0         dapDB          dbo  LP1_startup_funding2021  BASE TABLE\n",
      "1         dapDB          dbo  LP1_startup_funding2020  BASE TABLE\n"
     ]
    }
   ],
   "source": [
    "# Define the SQL query to show specific tables in the database\n",
    "db_query = \"\"\"\n",
    "        SELECT *\n",
    "        FROM INFORMATION_SCHEMA.TABLES\n",
    "        WHERE TABLE_SCHEMA = 'dbo'\n",
    "        \"\"\"\n",
    "# Read data from the SQL query result into a DataFrame using the established database connection\n",
    "schema_df = pd.read_sql(db_query, connection)\n",
    "\n",
    "#  Check whether data has been retrieved successfully to confirm successful connection to database\n",
    "try:\n",
    "    scheschema_df = pd.read_sql(db_query, connection)\n",
    "    print(\"Data retrieved successfully\")\n",
    "    print(schema_df)\n",
    "except Exception as e:\n",
    "    print(\"Failed to retrieve data:\", e)"
   ]
  },
  {
   "cell_type": "markdown",
   "metadata": {},
   "source": [
    "##### LP1_startup_funding2021 Data"
   ]
  },
  {
   "cell_type": "code",
   "execution_count": 6,
   "metadata": {},
   "outputs": [
    {
     "name": "stdout",
     "output_type": "stream",
     "text": [
      "<class 'pandas.core.frame.DataFrame'>\n",
      "RangeIndex: 1209 entries, 0 to 1208\n",
      "Data columns (total 9 columns):\n",
      " #   Column         Non-Null Count  Dtype  \n",
      "---  ------         --------------  -----  \n",
      " 0   Company_Brand  1209 non-null   object \n",
      " 1   Founded        1208 non-null   float64\n",
      " 2   HeadQuarter    1208 non-null   object \n",
      " 3   Sector         1209 non-null   object \n",
      " 4   What_it_does   1209 non-null   object \n",
      " 5   Founders       1205 non-null   object \n",
      " 6   Investor       1147 non-null   object \n",
      " 7   Amount         1206 non-null   object \n",
      " 8   Stage          781 non-null    object \n",
      "dtypes: float64(1), object(8)\n",
      "memory usage: 85.1+ KB\n",
      "\n"
     ]
    },
    {
     "data": {
      "text/html": [
       "<div>\n",
       "<style scoped>\n",
       "    .dataframe tbody tr th:only-of-type {\n",
       "        vertical-align: middle;\n",
       "    }\n",
       "\n",
       "    .dataframe tbody tr th {\n",
       "        vertical-align: top;\n",
       "    }\n",
       "\n",
       "    .dataframe thead th {\n",
       "        text-align: right;\n",
       "    }\n",
       "</style>\n",
       "<table border=\"1\" class=\"dataframe\">\n",
       "  <thead>\n",
       "    <tr style=\"text-align: right;\">\n",
       "      <th></th>\n",
       "      <th>Company_Brand</th>\n",
       "      <th>Founded</th>\n",
       "      <th>HeadQuarter</th>\n",
       "      <th>Sector</th>\n",
       "      <th>What_it_does</th>\n",
       "      <th>Founders</th>\n",
       "      <th>Investor</th>\n",
       "      <th>Amount</th>\n",
       "      <th>Stage</th>\n",
       "    </tr>\n",
       "  </thead>\n",
       "  <tbody>\n",
       "    <tr>\n",
       "      <th>0</th>\n",
       "      <td>Unbox Robotics</td>\n",
       "      <td>2019.0</td>\n",
       "      <td>Bangalore</td>\n",
       "      <td>AI startup</td>\n",
       "      <td>Unbox Robotics builds on-demand AI-driven ware...</td>\n",
       "      <td>Pramod Ghadge, Shahid Memon</td>\n",
       "      <td>BEENEXT, Entrepreneur First</td>\n",
       "      <td>$1,200,000</td>\n",
       "      <td>Pre-series A</td>\n",
       "    </tr>\n",
       "    <tr>\n",
       "      <th>1</th>\n",
       "      <td>upGrad</td>\n",
       "      <td>2015.0</td>\n",
       "      <td>Mumbai</td>\n",
       "      <td>EdTech</td>\n",
       "      <td>UpGrad is an online higher education platform.</td>\n",
       "      <td>Mayank Kumar, Phalgun Kompalli, Ravijot Chugh,...</td>\n",
       "      <td>Unilazer Ventures, IIFL Asset Management</td>\n",
       "      <td>$120,000,000</td>\n",
       "      <td>None</td>\n",
       "    </tr>\n",
       "  </tbody>\n",
       "</table>\n",
       "</div>"
      ],
      "text/plain": [
       "    Company_Brand  Founded HeadQuarter      Sector  \\\n",
       "0  Unbox Robotics   2019.0   Bangalore  AI startup   \n",
       "1          upGrad   2015.0      Mumbai      EdTech   \n",
       "\n",
       "                                        What_it_does  \\\n",
       "0  Unbox Robotics builds on-demand AI-driven ware...   \n",
       "1     UpGrad is an online higher education platform.   \n",
       "\n",
       "                                            Founders  \\\n",
       "0                        Pramod Ghadge, Shahid Memon   \n",
       "1  Mayank Kumar, Phalgun Kompalli, Ravijot Chugh,...   \n",
       "\n",
       "                                   Investor        Amount         Stage  \n",
       "0               BEENEXT, Entrepreneur First    $1,200,000  Pre-series A  \n",
       "1  Unilazer Ventures, IIFL Asset Management  $120,000,000          None  "
      ]
     },
     "execution_count": 6,
     "metadata": {},
     "output_type": "execute_result"
    }
   ],
   "source": [
    "#Define the SQL query to show specific tables in the database\n",
    "query_2021 = \"\"\"\n",
    "        SELECT *\n",
    "        FROM LP1_startup_funding2021        \n",
    "        \"\"\"\n",
    "#Read data from the SQL query result into a dataframe\n",
    "df_2021 = pd.read_sql(query_2021, connection)\n",
    "\n",
    "# Display dataframe Info\n",
    "df_2021.info()\n",
    "print()\n",
    "\n",
    "# Display the dataframe\n",
    "df_2021.head(2)"
   ]
  },
  {
   "cell_type": "markdown",
   "metadata": {},
   "source": [
    "##### LP1_startup_funding2020 Data"
   ]
  },
  {
   "cell_type": "code",
   "execution_count": 7,
   "metadata": {},
   "outputs": [
    {
     "name": "stdout",
     "output_type": "stream",
     "text": [
      "<class 'pandas.core.frame.DataFrame'>\n",
      "RangeIndex: 1055 entries, 0 to 1054\n",
      "Data columns (total 10 columns):\n",
      " #   Column         Non-Null Count  Dtype  \n",
      "---  ------         --------------  -----  \n",
      " 0   Company_Brand  1055 non-null   object \n",
      " 1   Founded        842 non-null    float64\n",
      " 2   HeadQuarter    961 non-null    object \n",
      " 3   Sector         1042 non-null   object \n",
      " 4   What_it_does   1055 non-null   object \n",
      " 5   Founders       1043 non-null   object \n",
      " 6   Investor       1017 non-null   object \n",
      " 7   Amount         801 non-null    float64\n",
      " 8   Stage          591 non-null    object \n",
      " 9   column10       2 non-null      object \n",
      "dtypes: float64(2), object(8)\n",
      "memory usage: 82.6+ KB\n",
      "\n"
     ]
    },
    {
     "data": {
      "text/html": [
       "<div>\n",
       "<style scoped>\n",
       "    .dataframe tbody tr th:only-of-type {\n",
       "        vertical-align: middle;\n",
       "    }\n",
       "\n",
       "    .dataframe tbody tr th {\n",
       "        vertical-align: top;\n",
       "    }\n",
       "\n",
       "    .dataframe thead th {\n",
       "        text-align: right;\n",
       "    }\n",
       "</style>\n",
       "<table border=\"1\" class=\"dataframe\">\n",
       "  <thead>\n",
       "    <tr style=\"text-align: right;\">\n",
       "      <th></th>\n",
       "      <th>Company_Brand</th>\n",
       "      <th>Founded</th>\n",
       "      <th>HeadQuarter</th>\n",
       "      <th>Sector</th>\n",
       "      <th>What_it_does</th>\n",
       "      <th>Founders</th>\n",
       "      <th>Investor</th>\n",
       "      <th>Amount</th>\n",
       "      <th>Stage</th>\n",
       "      <th>column10</th>\n",
       "    </tr>\n",
       "  </thead>\n",
       "  <tbody>\n",
       "    <tr>\n",
       "      <th>0</th>\n",
       "      <td>Aqgromalin</td>\n",
       "      <td>2019.0</td>\n",
       "      <td>Chennai</td>\n",
       "      <td>AgriTech</td>\n",
       "      <td>Cultivating Ideas for Profit</td>\n",
       "      <td>Prasanna Manogaran, Bharani C L</td>\n",
       "      <td>Angel investors</td>\n",
       "      <td>200000.0</td>\n",
       "      <td>None</td>\n",
       "      <td>None</td>\n",
       "    </tr>\n",
       "    <tr>\n",
       "      <th>1</th>\n",
       "      <td>Krayonnz</td>\n",
       "      <td>2019.0</td>\n",
       "      <td>Bangalore</td>\n",
       "      <td>EdTech</td>\n",
       "      <td>An academy-guardian-scholar centric ecosystem ...</td>\n",
       "      <td>Saurabh Dixit, Gurudutt Upadhyay</td>\n",
       "      <td>GSF Accelerator</td>\n",
       "      <td>100000.0</td>\n",
       "      <td>Pre-seed</td>\n",
       "      <td>None</td>\n",
       "    </tr>\n",
       "  </tbody>\n",
       "</table>\n",
       "</div>"
      ],
      "text/plain": [
       "  Company_Brand  Founded HeadQuarter    Sector  \\\n",
       "0    Aqgromalin   2019.0     Chennai  AgriTech   \n",
       "1      Krayonnz   2019.0   Bangalore    EdTech   \n",
       "\n",
       "                                        What_it_does  \\\n",
       "0                       Cultivating Ideas for Profit   \n",
       "1  An academy-guardian-scholar centric ecosystem ...   \n",
       "\n",
       "                           Founders         Investor    Amount     Stage  \\\n",
       "0   Prasanna Manogaran, Bharani C L  Angel investors  200000.0      None   \n",
       "1  Saurabh Dixit, Gurudutt Upadhyay  GSF Accelerator  100000.0  Pre-seed   \n",
       "\n",
       "  column10  \n",
       "0     None  \n",
       "1     None  "
      ]
     },
     "execution_count": 7,
     "metadata": {},
     "output_type": "execute_result"
    }
   ],
   "source": [
    "#Define the SQL query to show specific tables in the database\n",
    "query_2020 = \"\"\"\n",
    "        SELECT *\n",
    "        FROM LP1_startup_funding2020        \n",
    "        \"\"\"\n",
    "#Read data from the SQL query result into a dataframe\n",
    "df_2020 = pd.read_sql(query_2020, connection)\n",
    "\n",
    "# Display dataframe Info\n",
    "df_2020.info()\n",
    "print()\n",
    "\n",
    "# Display the dataframe\n",
    "df_2020.head(2)"
   ]
  },
  {
   "cell_type": "markdown",
   "metadata": {},
   "source": [
    "#### 2019 Data from Onedrive"
   ]
  },
  {
   "cell_type": "code",
   "execution_count": 8,
   "metadata": {},
   "outputs": [
    {
     "name": "stdout",
     "output_type": "stream",
     "text": [
      "<class 'pandas.core.frame.DataFrame'>\n",
      "RangeIndex: 89 entries, 0 to 88\n",
      "Data columns (total 9 columns):\n",
      " #   Column         Non-Null Count  Dtype  \n",
      "---  ------         --------------  -----  \n",
      " 0   Company/Brand  89 non-null     object \n",
      " 1   Founded        60 non-null     float64\n",
      " 2   HeadQuarter    70 non-null     object \n",
      " 3   Sector         84 non-null     object \n",
      " 4   What it does   89 non-null     object \n",
      " 5   Founders       86 non-null     object \n",
      " 6   Investor       89 non-null     object \n",
      " 7   Amount($)      89 non-null     object \n",
      " 8   Stage          43 non-null     object \n",
      "dtypes: float64(1), object(8)\n",
      "memory usage: 6.4+ KB\n",
      "\n"
     ]
    },
    {
     "data": {
      "text/html": [
       "<div>\n",
       "<style scoped>\n",
       "    .dataframe tbody tr th:only-of-type {\n",
       "        vertical-align: middle;\n",
       "    }\n",
       "\n",
       "    .dataframe tbody tr th {\n",
       "        vertical-align: top;\n",
       "    }\n",
       "\n",
       "    .dataframe thead th {\n",
       "        text-align: right;\n",
       "    }\n",
       "</style>\n",
       "<table border=\"1\" class=\"dataframe\">\n",
       "  <thead>\n",
       "    <tr style=\"text-align: right;\">\n",
       "      <th></th>\n",
       "      <th>Company/Brand</th>\n",
       "      <th>Founded</th>\n",
       "      <th>HeadQuarter</th>\n",
       "      <th>Sector</th>\n",
       "      <th>What it does</th>\n",
       "      <th>Founders</th>\n",
       "      <th>Investor</th>\n",
       "      <th>Amount($)</th>\n",
       "      <th>Stage</th>\n",
       "    </tr>\n",
       "  </thead>\n",
       "  <tbody>\n",
       "    <tr>\n",
       "      <th>0</th>\n",
       "      <td>Bombay Shaving</td>\n",
       "      <td>NaN</td>\n",
       "      <td>NaN</td>\n",
       "      <td>Ecommerce</td>\n",
       "      <td>Provides a range of male grooming products</td>\n",
       "      <td>Shantanu Deshpande</td>\n",
       "      <td>Sixth Sense Ventures</td>\n",
       "      <td>$6,300,000</td>\n",
       "      <td>NaN</td>\n",
       "    </tr>\n",
       "    <tr>\n",
       "      <th>1</th>\n",
       "      <td>Ruangguru</td>\n",
       "      <td>2014.0</td>\n",
       "      <td>Mumbai</td>\n",
       "      <td>Edtech</td>\n",
       "      <td>A learning platform that provides topic-based ...</td>\n",
       "      <td>Adamas Belva Syah Devara, Iman Usman.</td>\n",
       "      <td>General Atlantic</td>\n",
       "      <td>$150,000,000</td>\n",
       "      <td>Series C</td>\n",
       "    </tr>\n",
       "  </tbody>\n",
       "</table>\n",
       "</div>"
      ],
      "text/plain": [
       "    Company/Brand  Founded HeadQuarter     Sector  \\\n",
       "0  Bombay Shaving      NaN         NaN  Ecommerce   \n",
       "1       Ruangguru   2014.0      Mumbai     Edtech   \n",
       "\n",
       "                                        What it does  \\\n",
       "0         Provides a range of male grooming products   \n",
       "1  A learning platform that provides topic-based ...   \n",
       "\n",
       "                                Founders              Investor     Amount($)  \\\n",
       "0                     Shantanu Deshpande  Sixth Sense Ventures    $6,300,000   \n",
       "1  Adamas Belva Syah Devara, Iman Usman.      General Atlantic  $150,000,000   \n",
       "\n",
       "      Stage  \n",
       "0       NaN  \n",
       "1  Series C  "
      ]
     },
     "execution_count": 8,
     "metadata": {},
     "output_type": "execute_result"
    }
   ],
   "source": [
    "#CSV file path\n",
    "file_path = \"C:/Users/wolak/Documents/LP1 Datasets/startup_funding2019.csv\"\n",
    "#Read data from the file path into a dataframe\n",
    "df_2019 = pd.read_csv(file_path)\n",
    "\n",
    "# Display dataframe Info\n",
    "df_2019.info()\n",
    "print()\n",
    "\n",
    "# Display the dataframe\n",
    "df_2019.head(2)"
   ]
  },
  {
   "cell_type": "markdown",
   "metadata": {},
   "source": [
    "#### 2018 Data from Github repository"
   ]
  },
  {
   "cell_type": "code",
   "execution_count": 9,
   "metadata": {},
   "outputs": [
    {
     "name": "stdout",
     "output_type": "stream",
     "text": [
      "File saved successfully\n",
      "File read successfully\n",
      "<class 'pandas.core.frame.DataFrame'>\n",
      "RangeIndex: 526 entries, 0 to 525\n",
      "Data columns (total 6 columns):\n",
      " #   Column         Non-Null Count  Dtype \n",
      "---  ------         --------------  ----- \n",
      " 0   Company Name   526 non-null    object\n",
      " 1   Industry       526 non-null    object\n",
      " 2   Round/Series   526 non-null    object\n",
      " 3   Amount         526 non-null    object\n",
      " 4   Location       526 non-null    object\n",
      " 5   About Company  526 non-null    object\n",
      "dtypes: object(6)\n",
      "memory usage: 24.8+ KB\n",
      "\n"
     ]
    },
    {
     "data": {
      "text/html": [
       "<div>\n",
       "<style scoped>\n",
       "    .dataframe tbody tr th:only-of-type {\n",
       "        vertical-align: middle;\n",
       "    }\n",
       "\n",
       "    .dataframe tbody tr th {\n",
       "        vertical-align: top;\n",
       "    }\n",
       "\n",
       "    .dataframe thead th {\n",
       "        text-align: right;\n",
       "    }\n",
       "</style>\n",
       "<table border=\"1\" class=\"dataframe\">\n",
       "  <thead>\n",
       "    <tr style=\"text-align: right;\">\n",
       "      <th></th>\n",
       "      <th>Company Name</th>\n",
       "      <th>Industry</th>\n",
       "      <th>Round/Series</th>\n",
       "      <th>Amount</th>\n",
       "      <th>Location</th>\n",
       "      <th>About Company</th>\n",
       "    </tr>\n",
       "  </thead>\n",
       "  <tbody>\n",
       "    <tr>\n",
       "      <th>0</th>\n",
       "      <td>TheCollegeFever</td>\n",
       "      <td>Brand Marketing, Event Promotion, Marketing, S...</td>\n",
       "      <td>Seed</td>\n",
       "      <td>250000</td>\n",
       "      <td>Bangalore, Karnataka, India</td>\n",
       "      <td>TheCollegeFever is a hub for fun, fiesta and f...</td>\n",
       "    </tr>\n",
       "    <tr>\n",
       "      <th>1</th>\n",
       "      <td>Happy Cow Dairy</td>\n",
       "      <td>Agriculture, Farming</td>\n",
       "      <td>Seed</td>\n",
       "      <td>₹40,000,000</td>\n",
       "      <td>Mumbai, Maharashtra, India</td>\n",
       "      <td>A startup which aggregates milk from dairy far...</td>\n",
       "    </tr>\n",
       "  </tbody>\n",
       "</table>\n",
       "</div>"
      ],
      "text/plain": [
       "      Company Name                                           Industry  \\\n",
       "0  TheCollegeFever  Brand Marketing, Event Promotion, Marketing, S...   \n",
       "1  Happy Cow Dairy                               Agriculture, Farming   \n",
       "\n",
       "  Round/Series       Amount                     Location  \\\n",
       "0         Seed       250000  Bangalore, Karnataka, India   \n",
       "1         Seed  ₹40,000,000   Mumbai, Maharashtra, India   \n",
       "\n",
       "                                       About Company  \n",
       "0  TheCollegeFever is a hub for fun, fiesta and f...  \n",
       "1  A startup which aggregates milk from dairy far...  "
      ]
     },
     "execution_count": 9,
     "metadata": {},
     "output_type": "execute_result"
    }
   ],
   "source": [
    "# url for the csv file\n",
    "url = \"https://raw.githubusercontent.com/Azubi-Africa/Career_Accelerator_LP1-Data_Analysis/main/startup_funding2018.csv\"\n",
    "\n",
    "# Local file path\n",
    "local_path = r\"C:\\Users\\wolak\\Documents\\LP1 Datasets\\startup_funding2018.csv\"\n",
    "\n",
    "# Send a GET request to the URL\n",
    "try:\n",
    "    response = requests.get(url)\n",
    "    response.raise_for_status()  # Check if the request was successful\n",
    "    # Save the response content to a local file\n",
    "    with open(local_path, \"wb\") as f:\n",
    "        f.write(response.content)\n",
    "    print(\"File saved successfully\")\n",
    "except requests.exceptions.RequestException as e:\n",
    "    print(f\"Failed to download file: {e}\")\n",
    "\n",
    "# Read data from the file path into a dataframe\n",
    "try:\n",
    "    df_2018 = pd.read_csv(local_path)\n",
    "    print(\"File read successfully\")\n",
    "except pd.errors.ParserError as e:\n",
    "    print(f\"Parser error: {e}\")\n",
    "except Exception as e:\n",
    "    print(f\"An error occurred: {e}\")\n",
    "\n",
    "# Display dataframe Info\n",
    "df_2018.info()\n",
    "print()\n",
    "# Display the dataframe\n",
    "df_2018.head(2)"
   ]
  },
  {
   "cell_type": "markdown",
   "metadata": {},
   "source": [
    "#### Brief Data Standardization Considerations"
   ]
  },
  {
   "cell_type": "code",
   "execution_count": 10,
   "metadata": {},
   "outputs": [
    {
     "name": "stdout",
     "output_type": "stream",
     "text": [
      "Column names of 2021 dataframe:\n",
      "Index(['Company_Brand', 'Founded', 'HeadQuarter', 'Sector', 'What_it_does',\n",
      "       'Founders', 'Investor', 'Amount', 'Stage'],\n",
      "      dtype='object')\n",
      "\n",
      "Column names of 2020 dataframe:\n",
      "Index(['Company_Brand', 'Founded', 'HeadQuarter', 'Sector', 'What_it_does',\n",
      "       'Founders', 'Investor', 'Amount', 'Stage', 'column10'],\n",
      "      dtype='object')\n",
      "\n",
      "Column names of 2019 dataframe:\n",
      "Index(['Company/Brand', 'Founded', 'HeadQuarter', 'Sector', 'What it does',\n",
      "       'Founders', 'Investor', 'Amount($)', 'Stage'],\n",
      "      dtype='object')\n",
      "\n",
      "Column names of 2018 dataframe:\n",
      "Index(['Company Name', 'Industry', 'Round/Series', 'Amount', 'Location',\n",
      "       'About Company'],\n",
      "      dtype='object')\n"
     ]
    }
   ],
   "source": [
    "# Print column names of all Dataframes\n",
    "print(\"Column names of 2021 dataframe:\")\n",
    "print(df_2021.columns)\n",
    "\n",
    "print(\"\\nColumn names of 2020 dataframe:\")\n",
    "print(df_2020.columns)\n",
    "\n",
    "print(\"\\nColumn names of 2019 dataframe:\")\n",
    "print(df_2019.columns)\n",
    "\n",
    "print(\"\\nColumn names of 2018 dataframe:\")\n",
    "print(df_2018.columns)"
   ]
  },
  {
   "cell_type": "code",
   "execution_count": 11,
   "metadata": {},
   "outputs": [],
   "source": [
    "# Create column names mapping dictionary\n",
    "\n",
    "# Define the column mappings for each dataframe\n",
    "column_mapping = {\n",
    "    'Company_Brand': 'Company_Brand',\n",
    "    'Founded': 'Founded',\n",
    "    'HeadQuarter': 'HeadQuarter',\n",
    "    'Sector': 'Sector',\n",
    "    'What_it_does': 'What_it_does',\n",
    "    'Founders': 'Founders',\n",
    "    'Investor': 'Investor',\n",
    "    'Amount': 'Amount',\n",
    "    'column10': 'Column 10',\n",
    "    'Stage': 'Stage',\n",
    "    'Company/Brand': 'Company_Brand',\n",
    "    'What it does': 'What_it_does',\n",
    "    'Amount($)': 'Amount',\n",
    "    'Company Name': 'Company_Brand',\n",
    "    'Industry': 'Sector',\n",
    "    'Round/Series': 'Stage',\n",
    "    'Location': 'HeadQuarter',\n",
    "    'About Company': 'What_it_does'\n",
    "}"
   ]
  },
  {
   "cell_type": "code",
   "execution_count": 12,
   "metadata": {},
   "outputs": [
    {
     "name": "stdout",
     "output_type": "stream",
     "text": [
      "Column names of 2021 dataframe:\n",
      "Index(['Company_Brand', 'Founded', 'HeadQuarter', 'Sector', 'What_it_does',\n",
      "       'Founders', 'Investor', 'Amount', 'Stage'],\n",
      "      dtype='object')\n",
      "\n",
      "Column names of 2020 dataframe:\n",
      "Index(['Company_Brand', 'Founded', 'HeadQuarter', 'Sector', 'What_it_does',\n",
      "       'Founders', 'Investor', 'Amount', 'Stage', 'Column 10'],\n",
      "      dtype='object')\n",
      "\n",
      "Column names of 2019 dataframe:\n",
      "Index(['Company_Brand', 'Founded', 'HeadQuarter', 'Sector', 'What_it_does',\n",
      "       'Founders', 'Investor', 'Amount', 'Stage'],\n",
      "      dtype='object')\n",
      "\n",
      "Column names of 2018 dataframe:\n",
      "Index(['Company_Brand', 'Sector', 'Stage', 'Amount', 'HeadQuarter',\n",
      "       'What_it_does'],\n",
      "      dtype='object')\n"
     ]
    }
   ],
   "source": [
    "# Rename the columns\n",
    "\n",
    "df_2021.rename(columns=column_mapping, inplace=True)\n",
    "df_2020.rename(columns=column_mapping, inplace=True)\n",
    "df_2019.rename(columns=column_mapping, inplace=True)\n",
    "df_2018.rename(columns=column_mapping, inplace=True)\n",
    "\n",
    "# Display renamed column names\n",
    "\n",
    "print(\"Column names of 2021 dataframe:\")\n",
    "print(df_2021.columns)\n",
    "\n",
    "print(\"\\nColumn names of 2020 dataframe:\")\n",
    "print(df_2020.columns) \n",
    "\n",
    "print(\"\\nColumn names of 2019 dataframe:\")\n",
    "print(df_2019.columns)\n",
    "\n",
    "print(\"\\nColumn names of 2018 dataframe:\")\n",
    "print(df_2018.columns)  "
   ]
  },
  {
   "cell_type": "markdown",
   "metadata": {},
   "source": [
    "#### Brief EDA on all dataframes"
   ]
  },
  {
   "cell_type": "markdown",
   "metadata": {},
   "source": [
    "##### 2018 Dataframe"
   ]
  },
  {
   "cell_type": "code",
   "execution_count": 13,
   "metadata": {},
   "outputs": [
    {
     "data": {
      "text/html": [
       "<div>\n",
       "<style scoped>\n",
       "    .dataframe tbody tr th:only-of-type {\n",
       "        vertical-align: middle;\n",
       "    }\n",
       "\n",
       "    .dataframe tbody tr th {\n",
       "        vertical-align: top;\n",
       "    }\n",
       "\n",
       "    .dataframe thead th {\n",
       "        text-align: right;\n",
       "    }\n",
       "</style>\n",
       "<table border=\"1\" class=\"dataframe\">\n",
       "  <thead>\n",
       "    <tr style=\"text-align: right;\">\n",
       "      <th></th>\n",
       "      <th>count</th>\n",
       "      <th>unique</th>\n",
       "      <th>top</th>\n",
       "      <th>freq</th>\n",
       "    </tr>\n",
       "  </thead>\n",
       "  <tbody>\n",
       "    <tr>\n",
       "      <th>Company_Brand</th>\n",
       "      <td>526</td>\n",
       "      <td>525</td>\n",
       "      <td>TheCollegeFever</td>\n",
       "      <td>2</td>\n",
       "    </tr>\n",
       "    <tr>\n",
       "      <th>Sector</th>\n",
       "      <td>526</td>\n",
       "      <td>405</td>\n",
       "      <td>—</td>\n",
       "      <td>30</td>\n",
       "    </tr>\n",
       "    <tr>\n",
       "      <th>Stage</th>\n",
       "      <td>526</td>\n",
       "      <td>21</td>\n",
       "      <td>Seed</td>\n",
       "      <td>280</td>\n",
       "    </tr>\n",
       "    <tr>\n",
       "      <th>Amount</th>\n",
       "      <td>526</td>\n",
       "      <td>198</td>\n",
       "      <td>—</td>\n",
       "      <td>148</td>\n",
       "    </tr>\n",
       "    <tr>\n",
       "      <th>HeadQuarter</th>\n",
       "      <td>526</td>\n",
       "      <td>50</td>\n",
       "      <td>Bangalore, Karnataka, India</td>\n",
       "      <td>102</td>\n",
       "    </tr>\n",
       "    <tr>\n",
       "      <th>What_it_does</th>\n",
       "      <td>526</td>\n",
       "      <td>524</td>\n",
       "      <td>TheCollegeFever is a hub for fun, fiesta and f...</td>\n",
       "      <td>2</td>\n",
       "    </tr>\n",
       "  </tbody>\n",
       "</table>\n",
       "</div>"
      ],
      "text/plain": [
       "              count unique                                                top  \\\n",
       "Company_Brand   526    525                                    TheCollegeFever   \n",
       "Sector          526    405                                                  —   \n",
       "Stage           526     21                                               Seed   \n",
       "Amount          526    198                                                  —   \n",
       "HeadQuarter     526     50                        Bangalore, Karnataka, India   \n",
       "What_it_does    526    524  TheCollegeFever is a hub for fun, fiesta and f...   \n",
       "\n",
       "              freq  \n",
       "Company_Brand    2  \n",
       "Sector          30  \n",
       "Stage          280  \n",
       "Amount         148  \n",
       "HeadQuarter    102  \n",
       "What_it_does     2  "
      ]
     },
     "execution_count": 13,
     "metadata": {},
     "output_type": "execute_result"
    }
   ],
   "source": [
    "# Descriptive statistics on the dataframe\n",
    "df_2018.describe().T"
   ]
  },
  {
   "cell_type": "code",
   "execution_count": 14,
   "metadata": {},
   "outputs": [
    {
     "name": "stdout",
     "output_type": "stream",
     "text": [
      "(526, 6)\n",
      "There are 526 rows, and 6 columns\n"
     ]
    }
   ],
   "source": [
    "# Check dataframe dimensions\n",
    "\n",
    "print (df_2018.shape)\n",
    "print(f\"There are {df_2018.shape[0]} rows, and {df_2018.shape[1]} columns\")"
   ]
  },
  {
   "cell_type": "code",
   "execution_count": 15,
   "metadata": {},
   "outputs": [
    {
     "name": "stdout",
     "output_type": "stream",
     "text": [
      "<class 'pandas.core.frame.DataFrame'>\n",
      "RangeIndex: 526 entries, 0 to 525\n",
      "Data columns (total 6 columns):\n",
      " #   Column         Non-Null Count  Dtype \n",
      "---  ------         --------------  ----- \n",
      " 0   Company_Brand  526 non-null    object\n",
      " 1   Sector         526 non-null    object\n",
      " 2   Stage          526 non-null    object\n",
      " 3   Amount         526 non-null    object\n",
      " 4   HeadQuarter    526 non-null    object\n",
      " 5   What_it_does   526 non-null    object\n",
      "dtypes: object(6)\n",
      "memory usage: 24.8+ KB\n"
     ]
    }
   ],
   "source": [
    "# Check dataframe info \n",
    "\n",
    "df_2018.info()"
   ]
  },
  {
   "cell_type": "code",
   "execution_count": 16,
   "metadata": {},
   "outputs": [
    {
     "name": "stdout",
     "output_type": "stream",
     "text": [
      "\n",
      "Missing values in each column:\n",
      "\n",
      "Company_Brand    0\n",
      "Sector           0\n",
      "Stage            0\n",
      "Amount           0\n",
      "HeadQuarter      0\n",
      "What_it_does     0\n",
      "dtype: int64\n",
      "\n",
      "Number of duplicated rows: 1\n",
      "\n"
     ]
    }
   ],
   "source": [
    "# Check for total missing values in each column of the DataFrame\n",
    "missing_values = df_2018.isnull().sum()\n",
    "print()\n",
    "print(\"Missing values in each column:\")\n",
    "print()\n",
    "print(missing_values)\n",
    "print()\n",
    "\n",
    "# Check for total duplicated rows in the DataFrame\n",
    "duplicate_count = df_2018.duplicated().sum()\n",
    "print(\"Number of duplicated rows:\", duplicate_count)\n",
    "print()"
   ]
  },
  {
   "cell_type": "code",
   "execution_count": 17,
   "metadata": {},
   "outputs": [
    {
     "data": {
      "text/plain": [
       "Company_Brand    0.0\n",
       "Sector           0.0\n",
       "Stage            0.0\n",
       "Amount           0.0\n",
       "HeadQuarter      0.0\n",
       "What_it_does     0.0\n",
       "dtype: float64"
      ]
     },
     "execution_count": 17,
     "metadata": {},
     "output_type": "execute_result"
    }
   ],
   "source": [
    "df_2018.isnull().mean()"
   ]
  },
  {
   "cell_type": "markdown",
   "metadata": {},
   "source": [
    "Prelimenary observations on 2018 dataset\n",
    "\n",
    "The most frequent Stage was Seed\n",
    "\n",
    "Most Headquarters were in Bangalore"
   ]
  },
  {
   "cell_type": "markdown",
   "metadata": {},
   "source": [
    "#### 2019 Dataframe"
   ]
  }
 ],
 "metadata": {
  "kernelspec": {
   "display_name": "venv",
   "language": "python",
   "name": "python3"
  },
  "language_info": {
   "codemirror_mode": {
    "name": "ipython",
    "version": 3
   },
   "file_extension": ".py",
   "mimetype": "text/x-python",
   "name": "python",
   "nbconvert_exporter": "python",
   "pygments_lexer": "ipython3",
   "version": "3.12.3"
  }
 },
 "nbformat": 4,
 "nbformat_minor": 2
}
